{
 "cells": [
  {
   "cell_type": "code",
   "execution_count": 1,
   "metadata": {
    "collapsed": true
   },
   "outputs": [],
   "source": [
    "import numpy as np\n",
    "import scipy as sc\n",
    "import matplotlib.pyplot as plt\n",
    "%matplotlib inline"
   ]
  },
  {
   "cell_type": "markdown",
   "metadata": {},
   "source": [
    "## Task 1"
   ]
  },
  {
   "cell_type": "markdown",
   "metadata": {},
   "source": [
    "Даны два уравнения $f(x)=0$ и $g(x)=0$.<br>\n",
    "Найти с точностью $\\epsilon=10^-10$ все корни уравнений, содержащиеся на отрезке $[a, b]$.<br>\n",
    "Фунция $№1: f(x) = \\cos^2{x} + \\frac{2}{35}*\\cos{x} - \\frac{1}{35}$ <br>\n",
    "Функция $№2: g(x) = \\cos^2{x} - \\frac{2}{7}*\\cos{x} + \\frac{1}{49}$"
   ]
  },
  {
   "cell_type": "markdown",
   "metadata": {},
   "source": [
    "### Function 1:"
   ]
  },
  {
   "cell_type": "code",
   "execution_count": 2,
   "metadata": {
    "collapsed": true
   },
   "outputs": [],
   "source": [
    "def f(x):\n",
    "    return (np.cos(x))**2 + 2/35*np.cos(x) - 1/35"
   ]
  },
  {
   "cell_type": "markdown",
   "metadata": {},
   "source": [
    "### Function 2:"
   ]
  },
  {
   "cell_type": "code",
   "execution_count": 3,
   "metadata": {
    "collapsed": false
   },
   "outputs": [],
   "source": [
    "def g(x):\n",
    "     return (np.cos(x))**2 - 2/7*np.cos(x) + 1/49"
   ]
  },
  {
   "cell_type": "code",
   "execution_count": 4,
   "metadata": {
    "collapsed": true
   },
   "outputs": [],
   "source": [
    "# отрисовка графика функции.\n",
    "def illustrate_func(x_range, func):\n",
    "    fig = plt.figure(figsize=(10, 6))\n",
    "    ax = plt.gca()\n",
    "    ax.xaxis.set_ticks_position('bottom')\n",
    "    ax.spines['bottom'].set_position(('data',0))\n",
    "    ax.yaxis.set_ticks_position('left')\n",
    "    ax.spines['left'].set_position(('data',0))\n",
    "    plt.plot(x_range, func(x_range))\n",
    "    plt.grid(True)"
   ]
  },
  {
   "cell_type": "markdown",
   "metadata": {},
   "source": [
    "### Bisection method"
   ]
  },
  {
   "cell_type": "code",
   "execution_count": 9,
   "metadata": {
    "collapsed": true
   },
   "outputs": [],
   "source": [
    "def bisection(a_1, b_1, eps, h):\n",
    "    # start data\n",
    "    limit = 500\n",
    "    count = 0\n",
    "    x_1 = (a_1 + b_1)/2\n",
    "    # check start data\n",
    "    if abs(h(a_1)) < eps: \n",
    "        x = a_1\n",
    "    elif abs(h(b_1)) < eps:\n",
    "        x = b_1\n",
    "    elif abs(h(x_1)) < eps:\n",
    "        x = x_1\n",
    "    # algorithm\n",
    "    else:\n",
    "        while (abs(h(x_1)) > eps and count < limit):\n",
    "            if h(a_1)*h(x_1) < 0: # then x lies in [a_, x_]\n",
    "                b_1 = x_1\n",
    "                #print(b_1)\n",
    "            if h(b_1)*h(x_1) < 0: # then x lies in [x_, b_]\n",
    "                a_1 = x_1\n",
    "                #print(a_1)\n",
    "            x_1 = (a_1 + b_1) / 2\n",
    "            count += 1\n",
    "        x = x_1\n",
    "        \n",
    "    return x, count"
   ]
  },
  {
   "cell_type": "markdown",
   "metadata": {},
   "source": [
    "### Root f"
   ]
  },
  {
   "cell_type": "code",
   "execution_count": 17,
   "metadata": {
    "collapsed": false
   },
   "outputs": [
    {
     "data": {
      "image/png": "[encoded data removed]",
      "text/plain": [
       "<matplotlib.figure.Figure at 0x7f67eea34668>"
      ]
     },
     "metadata": {},
     "output_type": "display_data"
    }
   ],
   "source": [
    "illustrate_func(np.linspace(0.0, 2.0), f)"
   ]
  },
  {
   "cell_type": "markdown",
   "metadata": {},
   "source": [
    "Два корня. Отрезки локализации:<br> \n",
    "* $[a_1, b_1] = [1.0, 1.5]$ \n",
    "* $[a_2, b_2] = [1.5, 2.0]$"
   ]
  },
  {
   "cell_type": "code",
   "execution_count": 11,
   "metadata": {
    "collapsed": false
   },
   "outputs": [
    {
     "name": "stdout",
     "output_type": "stream",
     "text": [
      "Answer: 1.42744875792, number of iterations: 28\n"
     ]
    }
   ],
   "source": [
    "answer, num_iter = bisection(1.0, 1.5, 10**-10, f)\n",
    "print('Answer: {:.11f}, number of iterations: {:d}'.format(answer, num_iter))"
   ]
  },
  {
   "cell_type": "code",
   "execution_count": 12,
   "metadata": {
    "collapsed": false
   },
   "outputs": [
    {
     "name": "stdout",
     "output_type": "stream",
     "text": [
      "Answer: 1.77215424739, number of iterations: 27\n"
     ]
    }
   ],
   "source": [
    "answer, num_iter = bisection(1.5, 2.0, 10**-10, f)\n",
    "print('Answer: {:.11f}, number of iterations: {:d}'.format(answer, num_iter))"
   ]
  },
  {
   "cell_type": "markdown",
   "metadata": {},
   "source": [
    "### Root g"
   ]
  },
  {
   "cell_type": "code",
   "execution_count": 15,
   "metadata": {
    "collapsed": false
   },
   "outputs": [
    {
     "data": {
      "image/png": "[encoded data removed]",
      "text/plain": [
       "<matplotlib.figure.Figure at 0x7f67eea587f0>"
      ]
     },
     "metadata": {},
     "output_type": "display_data"
    }
   ],
   "source": [
    "illustrate_func(np.linspace(0, 2), g)"
   ]
  },
  {
   "cell_type": "markdown",
   "metadata": {},
   "source": [
    "* Найдем корень фукнции $g(x)$: $$\\cos^2{x} - \\frac{2}{7} \\cos{x} + \\frac{1}{7} = 0$$\n",
    "$$(\\cos{x} - \\frac{1}{7})^2 = 0 $$\n",
    "$$\\cos{x} = \\frac{1}{7}$$\n",
    "$$x = \\pm \\arccos{\\frac{1}{7}} + 2\\pi n$$\n",
    "* Рассмотрим производную:\n",
    "$$f'(x) = -2 \\cos{x} \\sin{x} + \\frac{2}{7} \\sin{x} = 0$$\n",
    "$$\\sin{x}(-2 \\cos{x} + \\frac{2}{7}) = 0 $$\n",
    "$$ \\sin{x} = 0 \\qquad \\qquad \\cos{x} = \\frac{1}{7}$$\n",
    "$$ \\qquad \\qquad \\quad  x = \\pi k \\qquad \\quad x = \\pm \\arccos{\\frac{1}{7}} + 2 \\pi n \\qquad $$ \n",
    "* Таким образом видим, что точка $x = \\pm \\arccos{\\frac{1}{7}} + 2 \\pi n$ является точкой экстремума функции. По графику видно, что на рассматриваемом промежутке данная точка является точкой глобального экстремума - глобальный минимум. Значит функция не меняет знак в данной точке $=>$ **невозможно применить метод бисекций**, поскольку **метод основан на предположении, что функция меняется знак на промежутке**."
   ]
  },
  {
   "cell_type": "markdown",
   "metadata": {},
   "source": [
    "G function has no roots"
   ]
  },
  {
   "cell_type": "markdown",
   "metadata": {},
   "source": [
    "## Task 2"
   ]
  },
  {
   "cell_type": "markdown",
   "metadata": {},
   "source": [
    "Найти указанный в варианте  корень уравнения $f(x)=0$ с точностью $\\epsilon = 10^-6$,  двумя  способами.\n",
    "1.      Использовать метод бисекции. Предварительно определить отрезок локализации  $[a, b]$.\n",
    "2.      Использовать метод Ньютона. В качестве начального приближения для метода Ньютона взять  середину отрезка локализации из п. 1.\n",
    "      Сравнить число итераций в п. 2, 2."
   ]
  },
  {
   "cell_type": "code",
   "execution_count": 18,
   "metadata": {
    "collapsed": true
   },
   "outputs": [],
   "source": [
    "def f_2(x):\n",
    "    return np.exp(x + 1) * (x + 1) - x - 2"
   ]
  },
  {
   "cell_type": "code",
   "execution_count": 19,
   "metadata": {
    "collapsed": false
   },
   "outputs": [
    {
     "data": {
      "image/png": "[encoded data removed]",
      "text/plain": [
       "<matplotlib.figure.Figure at 0x7f67ee9bb438>"
      ]
     },
     "metadata": {},
     "output_type": "display_data"
    }
   ],
   "source": [
    "illustrate_func(np.linspace(-10, 1), f_2)"
   ]
  },
  {
   "cell_type": "code",
   "execution_count": 20,
   "metadata": {
    "collapsed": false
   },
   "outputs": [
    {
     "name": "stdout",
     "output_type": "stream",
     "text": [
      "Answer: -2.34997558594, number of iterations: 12\n"
     ]
    }
   ],
   "source": [
    "answer, num_iter = bisection(-3, -2, 10**-6, f_2)\n",
    "print('Answer: {:.11f}, number of iterations: {:d}'.format(answer, num_iter))"
   ]
  },
  {
   "cell_type": "code",
   "execution_count": 21,
   "metadata": {
    "collapsed": false
   },
   "outputs": [
    {
     "name": "stdout",
     "output_type": "stream",
     "text": [
      "Answer: -0.19353389740, number of iterations: 18\n"
     ]
    }
   ],
   "source": [
    "answer, num_iter = bisection(-0.5, 0.0, 10**-6, f_2)\n",
    "print('Answer: {:.11f}, number of iterations: {:d}'.format(answer, num_iter))"
   ]
  },
  {
   "cell_type": "markdown",
   "metadata": {},
   "source": [
    "## Newton's Method"
   ]
  },
  {
   "cell_type": "code",
   "execution_count": 22,
   "metadata": {
    "collapsed": true
   },
   "outputs": [],
   "source": [
    "from scipy.misc import derivative"
   ]
  },
  {
   "cell_type": "code",
   "execution_count": 23,
   "metadata": {
    "collapsed": true
   },
   "outputs": [],
   "source": [
    "def newtons(x_, eps, f):\n",
    "    limit = 1000\n",
    "    count = 0\n",
    "    x = x_ - f(x_)/ derivative(f, x_)\n",
    "    while (abs(x - x_) > eps and count < limit):\n",
    "        x_ = x\n",
    "        x = x_ - f(x_)/ derivative(f, x_)\n",
    "        count += 1\n",
    "    return x, count"
   ]
  },
  {
   "cell_type": "code",
   "execution_count": 24,
   "metadata": {
    "collapsed": false
   },
   "outputs": [
    {
     "name": "stdout",
     "output_type": "stream",
     "text": [
      "Answer: -2.34997650852, number of iterations: 5\n"
     ]
    }
   ],
   "source": [
    "answer, num_iter = newtons((-3.0 + -2.0) / 2, 10**-6, f_2)\n",
    "print('Answer: {:.11f}, number of iterations: {:d}'.format(answer, num_iter))"
   ]
  },
  {
   "cell_type": "code",
   "execution_count": 25,
   "metadata": {
    "collapsed": false
   },
   "outputs": [
    {
     "name": "stdout",
     "output_type": "stream",
     "text": [
      "Answer: -0.19353429800, number of iterations: 10\n"
     ]
    }
   ],
   "source": [
    "answer, num_iter = newtons((-0.5 + 0.0) / 2, 10**-6, f_2)\n",
    "print('Answer: {:.11f}, number of iterations: {:d}'.format(answer, num_iter))"
   ]
  },
  {
   "cell_type": "markdown",
   "metadata": {},
   "source": [
    "Т.о на нахождение первого корня:\n",
    "* **метод бисекций** потратил 12 итераций.\n",
    "* **метод Ньютона** потратил 5 итераций. \n",
    "\n",
    "\n",
    "На нахождение второго корня:\n",
    "* **метод бисекций** потратил 18 итераций.\n",
    "* **метод Ньютона** потратил 10 итераций."
   ]
  },
  {
   "cell_type": "markdown",
   "metadata": {
    "collapsed": true
   },
   "source": [
    "## Task 3"
   ]
  },
  {
   "cell_type": "markdown",
   "metadata": {},
   "source": [
    "Локализовать корни уравнения $f(x)=0$ и найти их с точностью $\\varepsilon=10^{-5}$, используя метод простой итерации. К виду $x=\\phi(x)$, удобному для итераций, уравнение f(x)=0 привести двумя способами.\n",
    "1. Преобразовать уравнение к виду $x = x - \\alpha f(x)$, где $\\alpha = \\frac{2}{(M + m)}$, $(0 < m < f'(x) < M)$, а x принадлежит отрезку локализации $[a, \\:b]$.\n",
    "2. Любым  другим  преобразованием  уравнения. Проверить достаточное условие сходимости метода.\n",
    "<br>Использовать критерий окончания итерационного процесса вида $|x^{n} - x^{n - 1}| < \\frac{(1 - q)}{q} \\varepsilon$, где  в  п. 1 $q = {(M - m) \\over (M + m)}$ и в п. 2 $q = \\max\\limits_{x \\in [a, \\:b]}{|\\phi'(x)|}$\n",
    "\n",
    "Функция: $f(x)=(x - 1)\\sinh{(x+1)} - x$"
   ]
  },
  {
   "cell_type": "code",
   "execution_count": 43,
   "metadata": {
    "collapsed": true
   },
   "outputs": [],
   "source": [
    "def f_3(x):\n",
    "    return (x-1)*np.sinh(x+1) - x"
   ]
  },
  {
   "cell_type": "code",
   "execution_count": 44,
   "metadata": {
    "collapsed": false
   },
   "outputs": [
    {
     "data": {
      "image/png": "[encoded data removed]",
      "text/plain": [
       "<matplotlib.figure.Figure at 0x7f68173e21d0>"
      ]
     },
     "metadata": {},
     "output_type": "display_data"
    }
   ],
   "source": [
    "illustrate_func(np.linspace(-2, 2), f_3)"
   ]
  },
  {
   "cell_type": "markdown",
   "metadata": {},
   "source": [
    "Отрезки локализации:\n",
    "* $[a_1, b_1] = [-1, 0.5]$\n",
    "* $[a_2, b_2] = [1, 1.5]$"
   ]
  },
  {
   "cell_type": "code",
   "execution_count": 45,
   "metadata": {
    "collapsed": true
   },
   "outputs": [],
   "source": [
    "a_1 = -1.0\n",
    "b_1 = -0.5\n",
    "\n",
    "a_2 = 1.0\n",
    "b_2 = 1.5\n",
    "\n",
    "eps = 10**(-5)"
   ]
  },
  {
   "cell_type": "code",
   "execution_count": 58,
   "metadata": {
    "collapsed": false
   },
   "outputs": [
    {
     "data": {
      "image/png": "[encoded data removed]",
      "text/plain": [
       "<matplotlib.figure.Figure at 0x7f6817426f28>"
      ]
     },
     "metadata": {},
     "output_type": "display_data"
    }
   ],
   "source": [
    "def f_4(x):\n",
    "    return derivative(f_3, x, dx=0.1)\n",
    "illustrate_func(np.linspace(-3, 3), f_4)"
   ]
  },
  {
   "cell_type": "markdown",
   "metadata": {},
   "source": [
    "### Iteration method function"
   ]
  },
  {
   "cell_type": "code",
   "execution_count": 160,
   "metadata": {
    "collapsed": true
   },
   "outputs": [],
   "source": [
    "def iteration_method(a, b, phi, eps):\n",
    "    x_ = a\n",
    "    x = b\n",
    "    count = 0\n",
    "    while abs(x - x_) > eps:\n",
    "        x = x_\n",
    "        x_ = phi(x)\n",
    "        count += 1\n",
    "        #print('step_{}:{:.7f}'.format(count, x))\n",
    "    #print('Function - {:.7f}'.format(f_3(x_)))\n",
    "    return x_, count"
   ]
  },
  {
   "cell_type": "markdown",
   "metadata": {},
   "source": [
    "### First Point"
   ]
  },
  {
   "cell_type": "code",
   "execution_count": 161,
   "metadata": {
    "collapsed": false
   },
   "outputs": [
    {
     "name": "stdout",
     "output_type": "stream",
     "text": [
      "Values:\n",
      "a=-1.0\n",
      "b=-0.5\n",
      "m=-3.0033350003968815\n",
      "M=-2.1705564686151635\n",
      "alpha=-0.38655623373211195\n",
      "q=-0.16095786638924942\n"
     ]
    }
   ],
   "source": [
    "x = np.linspace(a_1, b_1)\n",
    "m = (np.min(f_4(x)))\n",
    "M = (np.max(f_4(x)))\n",
    "alfa = 2 / (M + m)\n",
    "q = (M - m)/ (M + m)\n",
    "print('Values:', 'a={}'.format(a_1), 'b={}'.format(b_1),\n",
    "     'm={}'.format(m), 'M={}'.format(M), 'alpha={}'.format(alfa), 'q={}'.format(q), sep='\\n')"
   ]
  },
  {
   "cell_type": "code",
   "execution_count": 162,
   "metadata": {
    "collapsed": true
   },
   "outputs": [],
   "source": [
    "def phi_1(x):\n",
    "    return x - alfa*f_3(x)"
   ]
  },
  {
   "cell_type": "code",
   "execution_count": 163,
   "metadata": {
    "collapsed": false
   },
   "outputs": [
    {
     "name": "stdout",
     "output_type": "stream",
     "text": [
      "Answer: -0.62447217863, number of iterations: 5\n"
     ]
    }
   ],
   "source": [
    "answer, num_iter = iteration_method(a_1, b_1, phi_1, abs((1 - q)/q*eps))\n",
    "print('Answer: {:.11f}, number of iterations: {:d}'.format(answer, num_iter))"
   ]
  },
  {
   "cell_type": "markdown",
   "metadata": {},
   "source": [
    "### Second Point"
   ]
  },
  {
   "cell_type": "code",
   "execution_count": 164,
   "metadata": {
    "collapsed": false
   },
   "outputs": [
    {
     "name": "stdout",
     "output_type": "stream",
     "text": [
      "Values:\n",
      "a=-1.0\n",
      "b=-0.5\n",
      "m=2.645009826842826\n",
      "M=8.151738257828853\n",
      "alpha=0.1852409618447459\n",
      "q=0.5100358355868301\n"
     ]
    }
   ],
   "source": [
    "x = np.linspace(a_2, b_2)\n",
    "m = np.min(f_4(x))\n",
    "M = np.max(f_4(x))\n",
    "alfa = 2 / (M + m)\n",
    "q = (M - m)/ (M + m)\n",
    "print('Values:', 'a={}'.format(a_1), 'b={}'.format(b_1),\n",
    "     'm={}'.format(m), 'M={}'.format(M), 'alpha={}'.format(alfa), 'q={}'.format(q), sep='\\n')"
   ]
  },
  {
   "cell_type": "code",
   "execution_count": 166,
   "metadata": {
    "collapsed": false
   },
   "outputs": [
    {
     "name": "stdout",
     "output_type": "stream",
     "text": [
      "Answer: 1.26552072936, number of iterations: 6\n"
     ]
    }
   ],
   "source": [
    "answer, num_iter = iteration_method(b_2, b_1, phi_1, abs((1 - q)/q*eps))\n",
    "print('Answer: {:.11f}, number of iterations: {:d}'.format(answer, num_iter))"
   ]
  },
  {
   "cell_type": "markdown",
   "metadata": {},
   "source": [
    "### Let's take another function. For example: $.$"
   ]
  },
  {
   "cell_type": "markdown",
   "metadata": {},
   "source": [
    "### First point"
   ]
  },
  {
   "cell_type": "code",
   "execution_count": 270,
   "metadata": {
    "collapsed": false
   },
   "outputs": [],
   "source": [
    "def phi_2(x):\n",
    "    return x + np.exp(x)*((x - 1)*np.sinh(x + 1) - x)"
   ]
  },
  {
   "cell_type": "code",
   "execution_count": 271,
   "metadata": {
    "collapsed": false,
    "scrolled": false
   },
   "outputs": [
    {
     "data": {
      "image/png": "[encoded data removed]",
      "text/plain": [
       "<matplotlib.figure.Figure at 0x7f67ee7d4588>"
      ]
     },
     "metadata": {},
     "output_type": "display_data"
    }
   ],
   "source": [
    "illustrate_func(np.linspace(-2, 2), phi_2)"
   ]
  },
  {
   "cell_type": "code",
   "execution_count": 285,
   "metadata": {
    "collapsed": false
   },
   "outputs": [
    {
     "name": "stdout",
     "output_type": "stream",
     "text": [
      "Values:\n",
      "a=-1.0\n",
      "b=-0.5\n",
      "q=0.4897211780451882\n"
     ]
    }
   ],
   "source": [
    "x = np.linspace(a_1, b_1)\n",
    "q = np.max(abs(derivative(phi_2, x, dx=0.1)))\n",
    "print('Values:', 'a={}'.format(a_1), 'b={}'.format(b_1),\n",
    "      'q={}'.format(q), sep='\\n')"
   ]
  },
  {
   "cell_type": "markdown",
   "metadata": {},
   "source": [
    "$|\\phi'(x)| > 1 => $ *не выполнено достаточное условие.* <br>\n",
    "Тогда возьмем $\\phi(x) = {\\phi'(x) \\over \\max|\\phi'(x)|}$"
   ]
  },
  {
   "cell_type": "code",
   "execution_count": 286,
   "metadata": {
    "collapsed": false
   },
   "outputs": [
    {
     "name": "stdout",
     "output_type": "stream",
     "text": [
      "Answer: -0.62447227751, number of iterations: 8\n"
     ]
    }
   ],
   "source": [
    "answer, num_iter = iteration_method(a_1, b_1, phi_2, abs((1 - q)/q*eps))\n",
    "print('Answer: {:.11f}, number of iterations: {:d}'.format(answer, num_iter))"
   ]
  },
  {
   "cell_type": "code",
   "execution_count": 278,
   "metadata": {
    "collapsed": true
   },
   "outputs": [],
   "source": [
    "def phi_3(x):\n",
    "    return x - np.exp(-x)*((x - 1)*np.sinh(x + 1) - x)"
   ]
  },
  {
   "cell_type": "code",
   "execution_count": 287,
   "metadata": {
    "collapsed": false
   },
   "outputs": [
    {
     "data": {
      "image/png": "[encoded data removed]",
      "text/plain": [
       "<matplotlib.figure.Figure at 0x7f67eea24eb8>"
      ]
     },
     "metadata": {},
     "output_type": "display_data"
    }
   ],
   "source": [
    "illustrate_func(np.linspace(-2, 2), phi_3)"
   ]
  },
  {
   "cell_type": "code",
   "execution_count": 283,
   "metadata": {
    "collapsed": false,
    "scrolled": true
   },
   "outputs": [
    {
     "name": "stdout",
     "output_type": "stream",
     "text": [
      "Values:\n",
      "a=-1.0\n",
      "b=-0.5\n",
      "q=0.47002492448897315\n"
     ]
    }
   ],
   "source": [
    "x = np.linspace(a_2, b_2)\n",
    "q = np.max(abs(derivative(phi_3, x, dx=0.1)))\n",
    "print('Values:', 'a={}'.format(a_1), 'b={}'.format(b_1),\n",
    "      'q={}'.format(q), sep='\\n')"
   ]
  },
  {
   "cell_type": "code",
   "execution_count": 284,
   "metadata": {
    "collapsed": false
   },
   "outputs": [
    {
     "name": "stdout",
     "output_type": "stream",
     "text": [
      "Answer: 1.26552244566, number of iterations: 14\n"
     ]
    }
   ],
   "source": [
    "answer, num_iter = iteration_method(b_2, a_2, phi_3, abs((1 - q)/q*eps))\n",
    "print('Answer: {:.11f}, number of iterations: {:d}'.format(answer, num_iter))"
   ]
  },
  {
   "cell_type": "code",
   "execution_count": null,
   "metadata": {
    "collapsed": true
   },
   "outputs": [],
   "source": []
  }
 ],
 "metadata": {
  "anaconda-cloud": {},
  "kernelspec": {
   "display_name": "Python [default]",
   "language": "python",
   "name": "python3"
  },
  "language_info": {
   "codemirror_mode": {
    "name": "ipython",
    "version": 3
   },
   "file_extension": ".py",
   "mimetype": "text/x-python",
   "name": "python",
   "nbconvert_exporter": "python",
   "pygments_lexer": "ipython3",
   "version": "3.5.4"
  }
 },
 "nbformat": 4,
 "nbformat_minor": 1
}
