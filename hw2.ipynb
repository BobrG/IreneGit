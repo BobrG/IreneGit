{
 "cells": [
  {
   "cell_type": "markdown",
   "metadata": {},
   "source": [
    "# Майнор по Анализу Данных, Группа ИАД-2\n",
    "## Домашнее задание №2: Классификация текстовых данных"
   ]
  },
  {
   "cell_type": "markdown",
   "metadata": {},
   "source": [
    "<hr\\>\n",
    "В задании вы будете решать задачу бинарной классификации текстов. Вы познакомитесь с основными инструментами sklearn, необходимыми для обработки текстов. Перед применением методов sklearn внимательно читайте документацию к ним: это полезно и помогает делать меньше ошибок.\n",
    "\n",
    "**Общая информация**\n",
    "\n",
    "**Срок сдачи:** 1 мая 2017, 9:00 <br\\>\n",
    "\n",
    "При отправлении ДЗ на почту `hse.minor.dm+X@gmail.com`, X = 3 или 4 (ИАД 3 или ИАД4), указывайте фамилию в названии файла, а тему письма оформляйте в следующем виде:<br\\>\n",
    "** [HW2, ИАД-X] Фамилия Имя **<br\\>\n",
    "\n",
    "Сопровождайте ваш код изображеними, комментариями и выводами. <br\\>\n",
    "Имейте ввиду, что на некоторые задачи нет единственного верного и полного ответа. Чем больше информации вы сможете извлечь, аргументированных выводов сформулировать, тем лучше.\n",
    "__Старайтесь не копировать похожие участки кода. Везде, где это возможно, оформляйте код в функцию.__\n",
    "\n",
    "Используйте данный Ipython Notebook при оформлении домашнего задания.\n",
    "<hr\\>"
   ]
  },
  {
   "cell_type": "markdown",
   "metadata": {},
   "source": [
    "<p>Чтобы узнать свой вариант, введите Вашу фамилию на русском языке в соответвующее поле ниже и запустите ячейку:</p>"
   ]
  },
  {
   "cell_type": "code",
   "execution_count": 2,
   "metadata": {
    "collapsed": false
   },
   "outputs": [
    {
     "name": "stdout",
     "output_type": "stream",
     "text": [
      "Ваш вариант -  2\n"
     ]
    }
   ],
   "source": [
    "name = \"БобровскихГлеб\" # Ваши ФамилияИмя\n",
    "\n",
    "alp = 'абвгдеёжзийклмнопрстуфхцчшщъыьэюя'\n",
    "w = [4, 42, 21, 21, 34,  1, 44, 26, 18, 43, 38, 26, 18, 43,  3, 49, 45,\n",
    "        7, 42, 25,  4,  9, 36, 33, 31, 29,  5, 31,  4, 19, 24, 27, 33]\n",
    "d = dict(zip(alp, w))\n",
    "variant =  sum([d[el] for el in name.lower()]) % 2 + 1\n",
    "print(\"Ваш вариант - \", variant)"
   ]
  },
  {
   "cell_type": "markdown",
   "metadata": {},
   "source": [
    "Фильмы - ееее рок:D"
   ]
  },
  {
   "cell_type": "markdown",
   "metadata": {},
   "source": [
    "<p><b>Варианты</b></p>"
   ]
  },
  {
   "cell_type": "markdown",
   "metadata": {},
   "source": [
    "В зависимости от варианта нужно будет научиться определять...\n",
    "\n",
    "**1.** ...является ли SMS сообщение спамом? \n",
    "* Зайдите на [страничку с данными](https://archive.ics.uci.edu/ml/datasets/SMS+Spam+Collection) на сайте репозитория UCI.\n",
    "* Нажмите на «Data Folder», скачайте и распакуйте архив.\n",
    "* Открыть SMSSpamCollection можно с помощью pd.read_csv, указав `sep='\\t'`.\n",
    "\n",
    "**2.** ...положительна или отрицательна рецензия на фильм?\n",
    "* Зайдите на [страничку с данными](http://www.cs.cornell.edu/people/pabo/movie-review-data/) на сайте Корнельского университета.\n",
    "* Нажмите на «polarity dataset v2.0» и распакуйте архив. \n",
    "* Каждый текстовый файл соответствует одной рецензии. Вам придётся [построить список всех файлов в папке](http://stackoverflow.com/questions/3207219/how-to-list-all-files-of-a-directory), а затем последовательно открыть их и прочитать тексты"
   ]
  },
  {
   "cell_type": "code",
   "execution_count": 3,
   "metadata": {
    "collapsed": true
   },
   "outputs": [],
   "source": [
    "import numpy as np\n",
    "import pandas as pd\n",
    "import matplotlib.pyplot as plt\n",
    "%matplotlib inline"
   ]
  },
  {
   "cell_type": "code",
   "execution_count": 4,
   "metadata": {
    "collapsed": true
   },
   "outputs": [],
   "source": [
    "import re\n",
    "def convert_text(s):\n",
    "    # Removes all characters from string except letters and digits and convert letters to lowercase\n",
    "    return re.sub(\"[^a-zA-Z0-9]\", \" \", s.lower())"
   ]
  },
  {
   "cell_type": "code",
   "execution_count": 5,
   "metadata": {
    "collapsed": false
   },
   "outputs": [],
   "source": [
    "from os import listdir\n",
    "from os.path import isfile, join\n",
    "mypath = '/home/bobrg/anaconda3/txt_sentoken/pos'\n",
    "txt = []\n",
    "txt = [convert_text(open(join(mypath, f), 'r').read())for f in listdir(mypath)\n",
    "             if isfile(join(mypath, f))]\n",
    "labels = [1] * len(txt)\n",
    "mypath = '/home/bobrg/anaconda3/txt_sentoken/neg'\n",
    "txt.extend([convert_text(open(join(mypath, f), 'r').read()) for f in listdir(mypath)\n",
    "                               if isfile(join(mypath, f))])\n",
    "labels.extend([0] * (len(txt) - len(labels)))"
   ]
  },
  {
   "cell_type": "code",
   "execution_count": 6,
   "metadata": {
    "collapsed": false
   },
   "outputs": [
    {
     "data": {
      "text/plain": [
       "2000"
      ]
     },
     "execution_count": 6,
     "metadata": {},
     "output_type": "execute_result"
    }
   ],
   "source": [
    "len(txt)"
   ]
  },
  {
   "cell_type": "markdown",
   "metadata": {},
   "source": [
    "## Задача 1\n",
    "#### Классификация текстовых сообщений (2 балла)"
   ]
  },
  {
   "cell_type": "markdown",
   "metadata": {},
   "source": [
    "<ol>\n",
    "    <li>Загрузите исходные данные --- список текстов и список соответствующих им меток</li>\n",
    "    <li>Разбейте объекты на обучающее (train) и тестовое подможества (test) в пропорции 7:3</li>\n",
    "    <li>Переведите текстовые данные в векторный вид. Для этого воcпользуйтесь средствами sklearn для конвертации текста в векторы TF-IDF (настраивать только на обучающем подмножестве, n-gram=1, слова приведите в нижний регистр)</li>\n",
    "    <li>Постройте на обучающем подмножестве следующие модели классификации:\n",
    "        <ul>\n",
    "            <li>K-ближайших соседей ($n=5$)</li>\n",
    "            <li>Логистическая регрессия ($C=1$)</li>\n",
    "            <li>Мультиномиальный наивный Байес ($\\alpha=1$)</li> \n",
    "        </ul>\n",
    "    </li>\n",
    "    <li>Определите качество классификации (по доле правильных классификаций) на тестовом подмножестве</li>\n",
    "    <li>Определите с помощью timeit время обучения и предсказания (на тестовом подмножестве) </li>\n",
    "</ol>"
   ]
  },
  {
   "cell_type": "code",
   "execution_count": 7,
   "metadata": {
    "collapsed": true
   },
   "outputs": [],
   "source": [
    "random_state = 12345 # для всех объектов/методов/моделей"
   ]
  },
  {
   "cell_type": "markdown",
   "metadata": {
    "collapsed": false
   },
   "source": [
    "Параметры логистической регрессии\n",
    "```\n",
    "penalty='l2'\n",
    "fit_intercept=True\n",
    "max_iter=100\n",
    "C=1\n",
    "solver=\"lbfgs\"\n",
    "random_state=12345\n",
    "```"
   ]
  },
  {
   "cell_type": "code",
   "execution_count": 8,
   "metadata": {
    "collapsed": false
   },
   "outputs": [],
   "source": [
    "from sklearn.model_selection import train_test_split\n",
    "X_train, X_test, y_train, y_test = train_test_split(txt, labels, test_size=0.3, random_state=12345)\n",
    "y_train = np.asarray(y_train)\n",
    "y_test = np.asarray(y_test)"
   ]
  },
  {
   "cell_type": "code",
   "execution_count": 9,
   "metadata": {
    "collapsed": false
   },
   "outputs": [
    {
     "data": {
      "text/plain": [
       "0.7"
      ]
     },
     "execution_count": 9,
     "metadata": {},
     "output_type": "execute_result"
    }
   ],
   "source": [
    "len(X_train) / len(txt)"
   ]
  },
  {
   "cell_type": "markdown",
   "metadata": {},
   "source": [
    "### Векторизация текстов\n",
    "\n",
    "Используется для перевода текста/пикчей в численный вид для возможности последующей обработки методами машинного обучения.\n",
    "Одна из самых распространенных стратегий - токенизация, подсчет, нормализация. Также называют Мешком Слов. Следует следующим пунктам:\n",
    "*  -Каждому слову присваивается уникальный id-шник или токен, который является целым числом.\n",
    "*  -Производится подсчет встреч каждого уникального токена в документе.\n",
    "*  -Нормализация (иногда с добавлением весов) полученных значений с целю уменьшить влияние наиболее часто встречающихся слов.\n",
    "Каждый токен играет роль фичи, а вектор таких фич (частот встреч каждого слова в документе) является многомерно распределенной выборкой."
   ]
  },
  {
   "cell_type": "code",
   "execution_count": 10,
   "metadata": {
    "collapsed": true
   },
   "outputs": [],
   "source": [
    "from sklearn.feature_extraction.text import TfidfVectorizer \n",
    "tr = TfidfVectorizer(lowercase=True,ngram_range=(1,1))\n",
    "df_train = tr.fit_transform(X_train)"
   ]
  },
  {
   "cell_type": "code",
   "execution_count": 11,
   "metadata": {
    "collapsed": false
   },
   "outputs": [
    {
     "data": {
      "text/plain": [
       "<1400x33847 sparse matrix of type '<class 'numpy.float64'>'\n",
       "\twith 462281 stored elements in Compressed Sparse Row format>"
      ]
     },
     "execution_count": 11,
     "metadata": {},
     "output_type": "execute_result"
    }
   ],
   "source": [
    "df_train"
   ]
  },
  {
   "cell_type": "markdown",
   "metadata": {},
   "source": [
    "The result of Tfidf vectorization is enormous matrix which is mostly filled\n",
    "by zeros. This happends because collection of texts have huge amount of unique words while individual text uses very few of them.<br> </br>\n",
    "However, we still have to store this matrix of features and sparse representation helps us to reduce memory usage and speed up algebraic operations."
   ]
  },
  {
   "cell_type": "markdown",
   "metadata": {},
   "source": [
    "Another way to make transformation:\n",
    "```\n",
    "from sklearn.feature_extraction.text import CountVectorizer\n",
    "count_vec = CountVectorizer(ngram_range=(1, 1))\n",
    "df = count_vec.fit_transform(X_train).toarray()\n",
    "from sklearn.feature_extraction.text import TfidfTransformer\n",
    "transformer = TfidfTransformer()\n",
    "df_train = pd.DataFrame(data=transformer.fit_transform(df).toarray(),\n",
    "                       columns=count_vec.get_feature_names())\n",
    "```\n",
    "but TfidfVectorizer is more commonly used."
   ]
  },
  {
   "cell_type": "markdown",
   "metadata": {},
   "source": [
    "###  Обучение моделей:\n",
    "* KNN\n",
    "* Logistic Regression\n",
    "* MultinomialNaiveBayes"
   ]
  },
  {
   "cell_type": "code",
   "execution_count": 12,
   "metadata": {
    "collapsed": false
   },
   "outputs": [
    {
     "data": {
      "text/plain": [
       "KNeighborsClassifier(algorithm='auto', leaf_size=30, metric='minkowski',\n",
       "           metric_params=None, n_jobs=1, n_neighbors=5, p=2,\n",
       "           weights='uniform')"
      ]
     },
     "execution_count": 12,
     "metadata": {},
     "output_type": "execute_result"
    }
   ],
   "source": [
    "from sklearn.neighbors import KNeighborsClassifier\n",
    "knc = KNeighborsClassifier(n_neighbors=5)\n",
    "knc.fit(df_train, y_train)"
   ]
  },
  {
   "cell_type": "code",
   "execution_count": 13,
   "metadata": {
    "collapsed": false
   },
   "outputs": [
    {
     "name": "stdout",
     "output_type": "stream",
     "text": [
      "100 loops, best of 3: 2.16 ms per loop\n"
     ]
    }
   ],
   "source": [
    "%timeit knc.fit(df_train, y_train)"
   ]
  },
  {
   "cell_type": "code",
   "execution_count": 14,
   "metadata": {
    "collapsed": false
   },
   "outputs": [
    {
     "data": {
      "text/plain": [
       "LogisticRegression(C=1, class_weight=None, dual=False, fit_intercept=True,\n",
       "          intercept_scaling=1, max_iter=100, multi_class='ovr', n_jobs=1,\n",
       "          penalty='l2', random_state=12345, solver='lbfgs', tol=0.0001,\n",
       "          verbose=0, warm_start=False)"
      ]
     },
     "execution_count": 14,
     "metadata": {},
     "output_type": "execute_result"
    }
   ],
   "source": [
    "from sklearn.linear_model import LogisticRegression\n",
    "logr = LogisticRegression(penalty='l2', fit_intercept=True, max_iter=100,\n",
    "                          C=1, solver=\"lbfgs\", random_state=12345)\n",
    "logr.fit(df_train, y_train)"
   ]
  },
  {
   "cell_type": "code",
   "execution_count": 15,
   "metadata": {
    "collapsed": false
   },
   "outputs": [
    {
     "name": "stdout",
     "output_type": "stream",
     "text": [
      "10 loops, best of 3: 112 ms per loop\n"
     ]
    }
   ],
   "source": [
    "%timeit logr.fit(df_train, y_train)"
   ]
  },
  {
   "cell_type": "code",
   "execution_count": 16,
   "metadata": {
    "collapsed": false
   },
   "outputs": [
    {
     "data": {
      "text/plain": [
       "MultinomialNB(alpha=1.0, class_prior=None, fit_prior=True)"
      ]
     },
     "execution_count": 16,
     "metadata": {},
     "output_type": "execute_result"
    }
   ],
   "source": [
    "from sklearn.naive_bayes import MultinomialNB\n",
    "mnb = MultinomialNB()\n",
    "mnb.fit(df_train, y_train)"
   ]
  },
  {
   "cell_type": "code",
   "execution_count": 17,
   "metadata": {
    "collapsed": false
   },
   "outputs": [
    {
     "name": "stdout",
     "output_type": "stream",
     "text": [
      "100 loops, best of 3: 6.71 ms per loop\n"
     ]
    }
   ],
   "source": [
    "%timeit mnb.fit(df_train, y_train)"
   ]
  },
  {
   "cell_type": "markdown",
   "metadata": {},
   "source": [
    "### Построение прогноза на тестовой подвыборке.\n",
    "Векторизуем тексты из теста и проверим предсказания обученых моделей."
   ]
  },
  {
   "cell_type": "code",
   "execution_count": 18,
   "metadata": {
    "collapsed": false
   },
   "outputs": [
    {
     "data": {
      "text/plain": [
       "<600x33847 sparse matrix of type '<class 'numpy.float64'>'\n",
       "\twith 198042 stored elements in Compressed Sparse Row format>"
      ]
     },
     "execution_count": 18,
     "metadata": {},
     "output_type": "execute_result"
    }
   ],
   "source": [
    "df_test = tr.transform(X_test)\n",
    "df_test"
   ]
  },
  {
   "cell_type": "code",
   "execution_count": 19,
   "metadata": {
    "collapsed": false
   },
   "outputs": [],
   "source": [
    "yy_knc = knc.predict(df_test)"
   ]
  },
  {
   "cell_type": "code",
   "execution_count": 20,
   "metadata": {
    "collapsed": false
   },
   "outputs": [
    {
     "name": "stdout",
     "output_type": "stream",
     "text": [
      "mae: 0.415\n",
      "accuracy score 0.585\n"
     ]
    }
   ],
   "source": [
    "from sklearn.metrics import mean_absolute_error, accuracy_score\n",
    "print('mae:', mean_absolute_error(yy_knc, y_test))\n",
    "print('accuracy score', accuracy_score(yy_knc, y_test))"
   ]
  },
  {
   "cell_type": "code",
   "execution_count": 21,
   "metadata": {
    "collapsed": false
   },
   "outputs": [
    {
     "name": "stdout",
     "output_type": "stream",
     "text": [
      "1 loop, best of 3: 282 ms per loop\n"
     ]
    }
   ],
   "source": [
    "%timeit knc.predict(df_test)"
   ]
  },
  {
   "cell_type": "code",
   "execution_count": 22,
   "metadata": {
    "collapsed": false
   },
   "outputs": [],
   "source": [
    "yy_lgr = logr.predict(df_test)"
   ]
  },
  {
   "cell_type": "code",
   "execution_count": 23,
   "metadata": {
    "collapsed": false
   },
   "outputs": [
    {
     "name": "stdout",
     "output_type": "stream",
     "text": [
      "mae: 0.178333333333\n",
      "accuracy score: 0.821666666667\n"
     ]
    }
   ],
   "source": [
    "print('mae:', mean_absolute_error(yy_lgr, y_test))\n",
    "print('accuracy score:', accuracy_score(yy_lgr, y_test))"
   ]
  },
  {
   "cell_type": "code",
   "execution_count": 24,
   "metadata": {
    "collapsed": false
   },
   "outputs": [
    {
     "name": "stdout",
     "output_type": "stream",
     "text": [
      "1000 loops, best of 3: 567 µs per loop\n"
     ]
    }
   ],
   "source": [
    "%timeit logr.predict(df_test)"
   ]
  },
  {
   "cell_type": "markdown",
   "metadata": {},
   "source": [
    "µs - microseconds - WOW! :D"
   ]
  },
  {
   "cell_type": "code",
   "execution_count": 25,
   "metadata": {
    "collapsed": false
   },
   "outputs": [],
   "source": [
    "yy_mnb = mnb.predict(df_test)"
   ]
  },
  {
   "cell_type": "code",
   "execution_count": 26,
   "metadata": {
    "collapsed": false
   },
   "outputs": [
    {
     "name": "stdout",
     "output_type": "stream",
     "text": [
      "mae: 0.228333333333\n",
      "accuracy score: 0.771666666667\n"
     ]
    }
   ],
   "source": [
    "print('mae:', mean_absolute_error(yy_mnb, y_test))\n",
    "print('accuracy score:', accuracy_score(yy_mnb, y_test))"
   ]
  },
  {
   "cell_type": "code",
   "execution_count": 27,
   "metadata": {
    "collapsed": false
   },
   "outputs": [
    {
     "name": "stdout",
     "output_type": "stream",
     "text": [
      "1000 loops, best of 3: 1.55 ms per loop\n"
     ]
    }
   ],
   "source": [
    "%timeit mnb.predict(df_test)"
   ]
  },
  {
   "cell_type": "markdown",
   "metadata": {},
   "source": [
    "### Пояснения по результатам:\n",
    "**Scores:**\n",
    "\n",
    "*Худшее качество показала модель k ближайших соседей, при k=5 - ~59% Предсказывает чуть больше половины правильно. С соседями частенько такое бывает, поэтому посмотрим какое число соседей будет более удачным на кросс-валидации.*\n",
    "\n",
    "*Лучше всего спрогнозировала Линейная регрессия. Результат ~82%.*\n",
    "\n",
    "*Наивный байес тоже показал себя удовлетворительно дав скор ~77%.*\n",
    "\n",
    "**Fitting time:**\n",
    "* Дольше всего настраивается Логистическая регрессия, поскольку ей нужно настроить параметры сигмоиды, чтобы максимизировать функцию правдоподобия. Для этого применяется метод градиентного спуска, который и дает проигрыш во времени настройки.\n",
    "* Меньше всего времени на настройку тратит модель K Nearest Neighbours, поскольку она лишь запоминает выборку.\n",
    "* Наивный Байес настроивался дольше метода ближайших соседей, потому как он выстраивает более сложную зависимость между ответами и обьектами. Однако у Байеса время потраченное на обучение меньше, чем у Линейной регрессии, поскольку мы просто считаем вероятности P(C) и P(O|C), где С - класс, а О - признаки сэмпла.\n",
    "Prediction time:\n",
    "На предсказании модели ведут себя противоположно своему поведению на настройке, т.е.:\n",
    "* Дольше всего предсказывает модель KNN, поскольку она должна померить расстояния евклидовой метрикой для каждого элемента из теста и каждого элемента из заученого трейна.\n",
    "* Меньше времени тратит Логистическая регрессия, поскольку она оценивает вероятности принадлежности точки к одному из классов по построенной разделяющей функции, то есть высчитывает вероятноятность подставляя новые значения в сигмоиду.\n",
    "* Наивный Байес показал результат лучше чем KNN, поскольку он как и регрессия просто подставляет новые значения из теста в выстроенную зависимость. Однако в его оценке участвует логарифм, поэтому и требуется больше времени на построение предсказания."
   ]
  },
  {
   "cell_type": "markdown",
   "metadata": {},
   "source": [
    "## Задача 2.\n",
    "#### Применение k-folds (3 балла)"
   ]
  },
  {
   "cell_type": "markdown",
   "metadata": {},
   "source": [
    "<p>1. Повторите решение задачи 1, но вместо одного разделения на обучение и контроль используйте разбиение k-folds (k=4). Вам понадобится повторить все действия 4 раза. <br>\n",
    "2. Какой классификатор показывал лучшее/худшее качество на тестовой выборке? А при k-folds разбиении? Как вы думаете, обязательно ли в данной задаче оценивать качество на кросс-валидации, или достаточно отложить контрольную выборку и оценивать качество на ней?</p>"
   ]
  },
  {
   "cell_type": "code",
   "execution_count": 28,
   "metadata": {
    "collapsed": true
   },
   "outputs": [],
   "source": [
    "random_state = 12345 # для всех объектов/методов/моделей"
   ]
  },
  {
   "cell_type": "code",
   "execution_count": 29,
   "metadata": {
    "collapsed": true
   },
   "outputs": [],
   "source": [
    "from sklearn.model_selection import KFold\n",
    "def kfold(model, data, labels, k):\n",
    "    tmp_model = model\n",
    "    vec = TfidfVectorizer(lowercase=True, ngram_range=(1,1))\n",
    "    kfld = KFold(n_splits=k, random_state=12345, shuffle=True)\n",
    "    \n",
    "    y_pred = np.zeros(len(labels))\n",
    "    \n",
    "    for i_train, i_test in kfld.split(data):\n",
    "        \n",
    "        Xx_train, Xx_test = vec.fit_transform(data[i_train]), vec.transform(data[i_test])\n",
    "        \n",
    "        Yy_train = labels[i_train]\n",
    "        \n",
    "        tmp_model.fit(Xx_train, Yy_train)\n",
    "        \n",
    "        y_pred[i_test] = tmp_model.predict(Xx_test)\n",
    "    print(accuracy_score(y_pred, labels))"
   ]
  },
  {
   "cell_type": "code",
   "execution_count": 30,
   "metadata": {
    "collapsed": false
   },
   "outputs": [
    {
     "name": "stdout",
     "output_type": "stream",
     "text": [
      "-------------------KNN--------------------\n",
      "0.575\n",
      "-------------------LR--------------------\n",
      "0.8195\n",
      "-------------------MNB--------------------\n",
      "0.7935\n"
     ]
    }
   ],
   "source": [
    "print('-------------------KNN--------------------')\n",
    "kfold(knc, np.asarray(txt), np.asarray(labels), 4)\n",
    "print('-------------------LR--------------------')\n",
    "kfold(logr, np.asarray(txt), np.asarray(labels), 4)\n",
    "print('-------------------MNB--------------------')\n",
    "kfold(mnb, np.asarray(txt), np.asarray(labels), 4)"
   ]
  },
  {
   "cell_type": "markdown",
   "metadata": {},
   "source": [
    "Results:\n",
    "* Качество K Ближайших соседей упало по сравнению с прямым разбиением на тест и трейн ~ на 0.1 процент. Еще раз убеждаемся в ненадежности этого метода классификации в решении данной задачи.\n",
    "* Логистическая регрессия, тоже потеряла в результате, однако не столь сильно и все еще показывает лучший результат.\n",
    "* МультиномиальныйБайес единственный улучшил свой результат на чуть больше 2%, что тоже весьма хорошо.\n",
    "\n",
    "Нужно подбирать другие параметры."
   ]
  },
  {
   "cell_type": "markdown",
   "metadata": {},
   "source": [
    "## Задача 3.\n",
    "#### Выбор модели (5 баллов)"
   ]
  },
  {
   "cell_type": "markdown",
   "metadata": {},
   "source": [
    "<p style=\"padding-left:15px;\">1. Используя данные из задачи 1, разбейте обучающее подмножество (train) с использованием k-folds (k=4) <br>\n",
    "2. Рассмотрим следующие варианты значений гиперпараметров для наших классификаторов:  </p>"
   ]
  },
  {
   "cell_type": "markdown",
   "metadata": {},
   "source": [
    "<p>K-ближайших соседей</p>"
   ]
  },
  {
   "cell_type": "code",
   "execution_count": 31,
   "metadata": {
    "collapsed": true
   },
   "outputs": [],
   "source": [
    "ns = np.arange(1, 150, 20) # количество соседей"
   ]
  },
  {
   "cell_type": "markdown",
   "metadata": {},
   "source": [
    "<p>Логистическая регрессия</p>"
   ]
  },
  {
   "cell_type": "code",
   "execution_count": 32,
   "metadata": {
    "collapsed": true
   },
   "outputs": [],
   "source": [
    "cs = np.logspace(-2, 10, 8, base=10) # параметр регуляризации"
   ]
  },
  {
   "cell_type": "markdown",
   "metadata": {},
   "source": [
    "<p>Мультиномиальный наивный Байес</p>"
   ]
  },
  {
   "cell_type": "code",
   "execution_count": 33,
   "metadata": {
    "collapsed": true
   },
   "outputs": [],
   "source": [
    "alphas = np.logspace(-4, 1, 8, base=10) # сглаживающий параметр"
   ]
  },
  {
   "cell_type": "markdown",
   "metadata": {},
   "source": [
    "<p style=\"padding-left:15px;\"> Найдите оптимальные значения гиперпараметров для классификаторов на кросс-валидации. Для этого постройте графики (гиперпараметр)-(качество) на обучении и валидации. <br> _Пояснение:_ вы разбили обучающую выборку на 4 блока. Для каждого значения гиперпараметра 4 раза повторите следующее: берем 3 блока для обучения, по ним настраиваем  TfIdf и обучаем классификатор, считаем качество на этих блоках (качество на обучении) и на оставшемся (качество на валидации). Итоговое значение качества на обучении для данного значения гиперпараметра - это среднее четырех полученных значений качества на обучении, то же самое с итоговым значением качества на валидации.  <br>\n",
    "3. 3 настроенные модели обучите на всем обучающем подмножестве (train) и протестируйте на тестовом (test). Определите время обучения и предсказания (см. задачу 1 п. 6)<br>\n",
    "4. Повторите шаги 2-4 для n-gram=2<br>\n",
    "5. Выведите итоговые данные по всем методам для лучших моделей (метод, n-gram, значение параметра модели, время обучения, время предсказания, доля правильных классификаций)<br>\n",
    "6. Сделайте выводы по полученным результатам: <ul>\n",
    "<li>какой метод показал наилучшее качество на обучении? на валидации? на тестовой выборке? Если это разные классификаторы, подумайте, почему так происходит. Если один и тот же, в чем его преимущества перед остальными?</li>\n",
    "<li>велика ли разница между качеством на обучении и на валидации? на валидации и контроле? Почему так происходит?</li>\n",
    "<li>что означает n-gram=2? Улучшилось ли качество при переходе от n-gram=1 к n-gram=2? Предложите свои идеи, почему.</li>\n",
    "<li>есть ли связь между качеством классификации и временем обучения/предсказания? какой классификатор обучается медленнее всего? медленнее всего делает предсказания? В чем причина?</li>\n",
    "</ul></p>"
   ]
  },
  {
   "cell_type": "code",
   "execution_count": 34,
   "metadata": {
    "collapsed": true
   },
   "outputs": [],
   "source": [
    "random_state = 12345 # для всех объектов/методов/моделей"
   ]
  },
  {
   "cell_type": "code",
   "execution_count": 43,
   "metadata": {
    "collapsed": false
   },
   "outputs": [],
   "source": [
    "# Function for testing classifier in on crossvalidation with kfold;\n",
    "def hyperparams_info(model, dt, l, ngr):\n",
    "    tmp = model\n",
    "    kfld=KFold(n_splits=4, random_state=12345, shuffle=True)\n",
    "    # quality on validation fold;\n",
    "    qual_valid = []\n",
    "    qual_train = []\n",
    "    for i_tr, i_tst in kfld.split(dt):\n",
    "        # tuning tfidf on training folds;\n",
    "        vec = TfidfVectorizer(lowercase=True, ngram_range=(ngr,ngr))\n",
    "        tr = vec.fit_transform(dt[i_tr])\n",
    "        tmp.fit(tr, l[i_tr])\n",
    "        tst = vec.transform(dt[i_tst])\n",
    "        qual_train.append(accuracy_score(tmp.predict(tr), l[i_tr]))\n",
    "        qual_valid.append(accuracy_score(tmp.predict(tst), l[i_tst]))\n",
    "    # return mean quality of validation;    \n",
    "    return np.mean(qual_valid), np.mean(qual_train)\n",
    "\n",
    "def plotting(qual, model_name):\n",
    "    param = [i[0] for i in qual]\n",
    "    fig1 = plt.figure(figsize=(8,8))\n",
    "    ax1 = plt.subplot()\n",
    "    ax1.plot(param, [i[2] for i in qual], label='whole set test')\n",
    "    ax2 = plt.subplot()\n",
    "    ax2.plot(param, [i[1] for i in qual], label='Validation')\n",
    "    plt.legend(loc=1, ncol=1)\n",
    "    plt.xlabel('Parameter')\n",
    "    plt.ylabel('Quality')\n",
    "    plt.title(model_name)\n",
    "    \n",
    "def plotting_scatter(qual, model_name):\n",
    "    param = [i[0] for i in qual]\n",
    "    fig1 = plt.figure(figsize=(8,8))\n",
    "    ax1 = plt.subplot()\n",
    "    ax1.scatter(param, [i[2] for i in qual], label='Validation')\n",
    "    ax2 = plt.subplot()\n",
    "    ax2.scatter(param, [i[1] for i in qual], label='Whole set test')\n",
    "    plt.legend(loc=1, ncol=1)\n",
    "    plt.xlabel('Parameter')\n",
    "    plt.ylabel('Quality')\n",
    "    plt.title(model_name)\n",
    "\n",
    "def time_measure(model, train, test, labels, ii):\n",
    "    print('--->{}\\n fitting time:'.format(model))\n",
    "    %time model.fit(train, labels[:ii])\n",
    "    print('prediction time:')\n",
    "    %time model.predict(test)"
   ]
  },
  {
   "cell_type": "code",
   "execution_count": 44,
   "metadata": {
    "collapsed": false,
    "scrolled": true
   },
   "outputs": [
    {
     "name": "stdout",
     "output_type": "stream",
     "text": [
      "Parameters:\n",
      "[1.0, 21.0, 41.0, 61.0, 81.0, 101.0, 121.0, 141.0]\n",
      "Validation results:\n",
      "[0.63, 0.52285714285714291, 0.58071428571428574, 0.58285714285714296, 0.60499999999999998, 0.60785714285714287, 0.61428571428571432, 0.61142857142857143]\n",
      "Train results:\n",
      "[1.0, 0.56142857142857139, 0.61190476190476195, 0.61761904761904762, 0.62857142857142856, 0.63142857142857145, 0.63952380952380949, 0.63880952380952372]\n",
      "------------------Best-validation------------------\n",
      "ngrams - 1\n",
      "n-neigbours - 1.0\n",
      "result validation - 0.63\n",
      "\n",
      "------------------Testing-best-model------------------\n",
      "n-neigbours - 1.0\n",
      "ngrams - 1\n",
      "Result: 0.6816666666666666\n",
      "\n",
      "Time measurement\n",
      "--->KNeighborsClassifier(algorithm='auto', leaf_size=30, metric='minkowski',\n",
      "           metric_params=None, n_jobs=1, n_neighbors=141, p=2,\n",
      "           weights='uniform')\n",
      " fitting time:\n",
      "CPU times: user 4 ms, sys: 0 ns, total: 4 ms\n",
      "Wall time: 2.4 ms\n",
      "prediction time:\n",
      "CPU times: user 308 ms, sys: 0 ns, total: 308 ms\n",
      "Wall time: 307 ms\n",
      "Parameters:\n",
      "[1.0, 21.0, 41.0, 61.0, 81.0, 101.0, 121.0, 141.0]\n",
      "Validation results:\n",
      "[0.67142857142857137, 0.69714285714285718, 0.71214285714285719, 0.71142857142857152, 0.7014285714285714, 0.71357142857142852, 0.70428571428571429, 0.7014285714285714]\n",
      "Train results:\n",
      "[1.0, 0.73619047619047617, 0.74952380952380948, 0.7433333333333334, 0.73261904761904761, 0.73023809523809524, 0.72999999999999998, 0.72690476190476194]\n",
      "------------------Best-validation------------------\n",
      "ngrams - 2\n",
      "n-neigbours - 101.0\n",
      "result validation - 0.7135714285714285\n",
      "\n",
      "------------------Testing-best-model------------------\n",
      "n-neigbours - 101.0\n",
      "ngrams - 2\n",
      "Result: 0.755\n",
      "\n",
      "Time measurement\n",
      "--->KNeighborsClassifier(algorithm='auto', leaf_size=30, metric='minkowski',\n",
      "           metric_params=None, n_jobs=1, n_neighbors=141, p=2,\n",
      "           weights='uniform')\n",
      " fitting time:\n",
      "CPU times: user 4 ms, sys: 0 ns, total: 4 ms\n",
      "Wall time: 3.43 ms\n",
      "prediction time:\n",
      "CPU times: user 228 ms, sys: 0 ns, total: 228 ms\n",
      "Wall time: 226 ms\n"
     ]
    },
    {
     "data": {
      "image/png": "[encoded data removed]",
      "text/plain": [
       "<matplotlib.figure.Figure at 0x7f47232005c0>"
      ]
     },
     "metadata": {},
     "output_type": "display_data"
    },
    {
     "data": {
      "image/png": "[encoded data removed]",
      "text/plain": [
       "<matplotlib.figure.Figure at 0x7f4730870128>"
      ]
     },
     "metadata": {},
     "output_type": "display_data"
    }
   ],
   "source": [
    "# KNearestNeighbors;\n",
    "qual = np.zeros((len(ns), 4))\n",
    "# qual[0] - parameter;\n",
    "# qual[1] - validation score;\n",
    "# qual[2] - whole set score;\n",
    "# qual[3] - train score;\n",
    "# repeat for ngrams=1 and =2\n",
    "for ngr in range(1, 3):\n",
    "    qual = np.zeros((len(ns), 4))\n",
    "    j = 0\n",
    "    # for each hyperparameter determine model, call function for crossvalidation on 4 folds\n",
    "    # and train model on training set;\n",
    "    for i in ns:\n",
    "        knc_ = KNeighborsClassifier(n_neighbors=i)\n",
    "        qual[j][0] = i\n",
    "        qual[j][1], qual[j][3] = hyperparams_info(knc_, np.asarray(X_train), np.asarray(y_train), ngr)\n",
    "        # get score on test\n",
    "        vec = TfidfVectorizer(lowercase=True, ngram_range=(ngr, ngr))\n",
    "        tr = vec.fit_transform(X_train)\n",
    "        ts = vec.transform(X_test)\n",
    "        knc_.fit(tr, y_train)\n",
    "        qual[j][2] = accuracy_score(knc_.predict(ts), y_test)\n",
    "        j += 1\n",
    "    \n",
    "    # plot quality-parameter dependence;\n",
    "    plotting(qual, 'KNN')\n",
    "    \n",
    "    #printing full arrays with velidation and train results;\n",
    "    print('Parameters:', [i[0] for i in qual],\n",
    "          'Validation results:', [i[1] for i in qual],\n",
    "          'Train results:', [i[3] for i in qual],\n",
    "          sep='\\n')\n",
    "    \n",
    "    # find best validation result;\n",
    "    tmp = max(qual, key=lambda a: a[1])\n",
    "    print('------------------Best-validation------------------',\n",
    "          'ngrams - {}'.format(ngr),\n",
    "          'n-neigbours - {}'.format(tmp[0]),\n",
    "          'result validation - {}'.format(tmp[1]),\n",
    "           sep = '\\n'\n",
    "         )\n",
    "    \n",
    "    print('\\n------------------Testing-best-model------------------',\n",
    "          'n-neigbours - {}'.format(tmp[0]),\n",
    "          'ngrams - {}'.format(ngr),\n",
    "          'Result: {}'.format(tmp[2]),\n",
    "          sep='\\n'\n",
    "         )\n",
    "    print('\\nTime measurement')\n",
    "    time_measure(knc_, tr, ts, labels, 1400)"
   ]
  },
  {
   "cell_type": "code",
   "execution_count": 47,
   "metadata": {
    "collapsed": false
   },
   "outputs": [
    {
     "name": "stdout",
     "output_type": "stream",
     "text": [
      "Parameters:\n",
      "[0.01, 0.51794746792312096, 26.826957952797247, 1389.4954943731361, 71968.567300115144, 3727593.7203149381, 193069772.88832456, 10000000000.0]\n",
      "Validation results:\n",
      "[0.47857142857142854, 0.79857142857142849, 0.83285714285714285, 0.82857142857142863, 0.82428571428571429, 0.82785714285714285, 0.82857142857142851, 0.82928571428571429]\n",
      "Train results:\n",
      "[0.5128571428571429, 0.94690476190476192, 1.0, 1.0, 1.0, 1.0, 1.0, 1.0]\n",
      "------------------Best-validation------------------\n",
      "ngrams - 1\n",
      "C - 26.826957952797247\n",
      "result validation - 0.8328571428571429\n",
      "\n",
      "------------------Testing-best-model------------------\n",
      "C - 26.826957952797247\n",
      "ngrams - 1\n",
      "Result: 0.855\n",
      "\n",
      "Time measurement\n",
      "--->LogisticRegression(C=10000000000.0, class_weight=None, dual=False,\n",
      "          fit_intercept=True, intercept_scaling=1, max_iter=100,\n",
      "          multi_class='ovr', n_jobs=1, penalty='l2', random_state=12345,\n",
      "          solver='lbfgs', tol=0.0001, verbose=0, warm_start=False)\n",
      " fitting time:\n",
      "CPU times: user 956 ms, sys: 20 ms, total: 976 ms\n",
      "Wall time: 491 ms\n",
      "prediction time:\n",
      "CPU times: user 0 ns, sys: 0 ns, total: 0 ns\n",
      "Wall time: 1.1 ms\n",
      "Parameters:\n",
      "[0.01, 0.51794746792312096, 26.826957952797247, 1389.4954943731361, 71968.567300115144, 3727593.7203149381, 193069772.88832456, 10000000000.0]\n",
      "Validation results:\n",
      "[0.47857142857142854, 0.77571428571428558, 0.81928571428571428, 0.82214285714285706, 0.82357142857142851, 0.82285714285714273, 0.82142857142857151, 0.82142857142857151]\n",
      "Train results:\n",
      "[0.5128571428571429, 1.0, 1.0, 1.0, 1.0, 1.0, 1.0, 1.0]\n",
      "------------------Best-validation------------------\n",
      "ngrams - 2\n",
      "C - 71968.56730011514\n",
      "result validation - 0.8235714285714285\n",
      "\n",
      "------------------Testing-best-model------------------\n",
      "C - 71968.56730011514\n",
      "ngrams - 2\n",
      "Result: 0.8516666666666667\n",
      "\n",
      "Time measurement\n",
      "--->LogisticRegression(C=10000000000.0, class_weight=None, dual=False,\n",
      "          fit_intercept=True, intercept_scaling=1, max_iter=100,\n",
      "          multi_class='ovr', n_jobs=1, penalty='l2', random_state=12345,\n",
      "          solver='lbfgs', tol=0.0001, verbose=0, warm_start=False)\n",
      " fitting time:\n",
      "CPU times: user 5.09 s, sys: 152 ms, total: 5.24 s\n",
      "Wall time: 2.72 s\n",
      "prediction time:\n",
      "CPU times: user 4 ms, sys: 0 ns, total: 4 ms\n",
      "Wall time: 1.68 ms\n"
     ]
    },
    {
     "data": {
      "image/png": "[encoded data removed]",
      "text/plain": [
       "<matplotlib.figure.Figure at 0x7f472d103668>"
      ]
     },
     "metadata": {},
     "output_type": "display_data"
    },
    {
     "data": {
      "image/png": "[encoded data removed]",
      "text/plain": [
       "<matplotlib.figure.Figure at 0x7f4732b16240>"
      ]
     },
     "metadata": {},
     "output_type": "display_data"
    }
   ],
   "source": [
    "#LogisticRegression\n",
    "lst = [[],[]]\n",
    "for ngr in range(1, 3):\n",
    "    j = 0\n",
    "    qual = np.zeros((len(cs), 4))\n",
    "    for i in cs:\n",
    "        logr_ = LogisticRegression(penalty='l2', fit_intercept=True, max_iter=100,\n",
    "                          C=i, solver=\"lbfgs\", random_state=12345)\n",
    "        qual[j][0] = i\n",
    "        qual[j][1], qual[j][3] = hyperparams_info(logr_, np.asarray(X_train), np.asarray(y_train), ngr)\n",
    "        # get score on whole set;\n",
    "        vec = TfidfVectorizer(lowercase=True, ngram_range=(ngr, ngr))\n",
    "        tr = vec.fit_transform(X_train)\n",
    "        ts = vec.transform(X_test)\n",
    "        logr_.fit(tr, y_train)\n",
    "        qual[j][2] = accuracy_score(logr_.predict(ts), y_test)\n",
    "        j += 1\n",
    "    # plot quality-parameter dependence;\n",
    "    plotting_scatter(qual, 'LogReg')\n",
    "    \n",
    "    lst[ngr-1] = [i[1] for i in qual.copy()]\n",
    "    \n",
    "    #printing full arrays with velidation and train results;\n",
    "    print('Parameters:', [i[0] for i in qual],\n",
    "          'Validation results:', [i[1] for i in qual],\n",
    "          'Train results:', [i[3] for i in qual],\n",
    "          sep='\\n')\n",
    "    \n",
    "    # find best validation result;\n",
    "    tmp = max(qual, key=lambda a: a[1])\n",
    "    print('------------------Best-validation------------------',\n",
    "          'ngrams - {}'.format(ngr),\n",
    "          'C - {}'.format(tmp[0]),\n",
    "          'result validation - {}'.format(tmp[1]),\n",
    "          sep = '\\n'\n",
    "         )\n",
    "    \n",
    "    \n",
    "    print('\\n------------------Testing-best-model------------------',\n",
    "          'C - {}'.format(tmp[0]),\n",
    "          'ngrams - {}'.format(ngr),\n",
    "          'Result: {}'.format(tmp[2]),\n",
    "          sep='\\n'\n",
    "         )\n",
    "    \n",
    "    print('\\nTime measurement')\n",
    "    time_measure(logr_, tr, ts, labels, 1400)"
   ]
  },
  {
   "cell_type": "code",
   "execution_count": 48,
   "metadata": {
    "collapsed": false
   },
   "outputs": [
    {
     "data": {
      "text/plain": [
       "False"
      ]
     },
     "execution_count": 48,
     "metadata": {},
     "output_type": "execute_result"
    }
   ],
   "source": [
    "# to verify if results are identical or not, because it is hard to understand from plot\n",
    "lst[0]==lst[1]"
   ]
  },
  {
   "cell_type": "code",
   "execution_count": 53,
   "metadata": {
    "collapsed": false
   },
   "outputs": [
    {
     "name": "stdout",
     "output_type": "stream",
     "text": [
      "Parameters:\n",
      "[0.0001, 0.0005179474679231213, 0.0026826957952797272, 0.013894954943731374, 0.071968567300115208, 0.37275937203149417, 1.9306977288832496, 10.0]\n",
      "Validation results:\n",
      "[0.70999999999999996, 0.72571428571428565, 0.74857142857142867, 0.76142857142857134, 0.77214285714285702, 0.76571428571428557, 0.68214285714285716, 0.57000000000000006]\n",
      "Train results:\n",
      "[1.0, 1.0, 1.0, 1.0, 0.99642857142857144, 0.97928571428571431, 0.89071428571428579, 0.70452380952380955]\n",
      "------------------Best-validation------------------\n",
      "ngrams - 1\n",
      "alpha - 0.07196856730011521\n",
      "result validation - 0.772142857142857\n",
      "\n",
      "------------------Testing-best-model------------------\n",
      "alpha - 0.07196856730011521\n",
      "ngrams - 1\n",
      "Result: 0.8033333333333333\n",
      "\n",
      "Time measurement\n",
      "--->MultinomialNB(alpha=10.0, class_prior=None, fit_prior=True)\n",
      " fitting time:\n",
      "CPU times: user 8 ms, sys: 0 ns, total: 8 ms\n",
      "Wall time: 6.82 ms\n",
      "prediction time:\n",
      "CPU times: user 0 ns, sys: 0 ns, total: 0 ns\n",
      "Wall time: 1.61 ms\n",
      "Parameters:\n",
      "[0.0001, 0.0005179474679231213, 0.0026826957952797272, 0.013894954943731374, 0.071968567300115208, 0.37275937203149417, 1.9306977288832496, 10.0]\n",
      "Validation results:\n",
      "[0.76928571428571424, 0.78214285714285725, 0.78928571428571437, 0.80285714285714282, 0.81571428571428573, 0.80571428571428561, 0.74571428571428577, 0.56285714285714294]\n",
      "Train results:\n",
      "[1.0, 1.0, 1.0, 1.0, 1.0, 1.0, 1.0, 0.98142857142857143]\n",
      "------------------Best-validation------------------\n",
      "ngrams - 2\n",
      "alpha - 0.07196856730011521\n",
      "result validation - 0.8157142857142857\n",
      "\n",
      "------------------Testing-best-model------------------\n",
      "alpha - 0.07196856730011521\n",
      "ngrams - 2\n",
      "Result: 0.8333333333333334\n",
      "\n",
      "Time measurement\n",
      "--->MultinomialNB(alpha=10.0, class_prior=None, fit_prior=True)\n",
      " fitting time:\n",
      "CPU times: user 40 ms, sys: 0 ns, total: 40 ms\n",
      "Wall time: 40.1 ms\n",
      "prediction time:\n",
      "CPU times: user 8 ms, sys: 0 ns, total: 8 ms\n",
      "Wall time: 7.23 ms\n"
     ]
    },
    {
     "data": {
      "image/png": "[encoded data removed]",
      "text/plain": [
       "<matplotlib.figure.Figure at 0x7f472368c0f0>"
      ]
     },
     "metadata": {},
     "output_type": "display_data"
    },
    {
     "data": {
      "image/png": "[encoded data removed]",
      "text/plain": [
       "<matplotlib.figure.Figure at 0x7f4723086cc0>"
      ]
     },
     "metadata": {},
     "output_type": "display_data"
    }
   ],
   "source": [
    "#MultinomialNB\n",
    "for ngr in range(1, 3):\n",
    "    j = 0\n",
    "    qual = np.zeros((len(alphas), 4))\n",
    "    for i in alphas:\n",
    "        mnb_ = MultinomialNB(alpha=i)\n",
    "        qual[j][0] = i\n",
    "        qual[j][1], qual[j][3] = hyperparams_info(mnb_, np.asarray(X_train), np.asarray(y_train), ngr)\n",
    "        # get score on whole set;\n",
    "        vec = TfidfVectorizer(lowercase=True, ngram_range=(ngr, ngr))\n",
    "        tr = vec.fit_transform(X_train)\n",
    "        ts = vec.transform(X_test)\n",
    "        mnb_.fit(tr, y_train)\n",
    "        qual[j][2] = accuracy_score(mnb_.predict(ts), y_test)\n",
    "        j += 1\n",
    "    \n",
    "    # plot quality-parameter dependence;\n",
    "    plotting(qual, 'MultinomialNB')\n",
    "    \n",
    "     #printing full arrays with velidation and train results;\n",
    "    print('Parameters:', [i[0] for i in qual],\n",
    "          'Validation results:', [i[1] for i in qual],\n",
    "          'Train results:', [i[3] for i in qual],\n",
    "          sep='\\n')\n",
    "        \n",
    "    # find best validation result;\n",
    "    tmp = max(qual, key=lambda a: a[1])\n",
    "    print('------------------Best-validation------------------',\n",
    "          'ngrams - {}'.format(ngr),\n",
    "          'alpha - {}'.format(tmp[0]),\n",
    "          'result validation - {}'.format(tmp[1]),\n",
    "          sep = '\\n'\n",
    "         )\n",
    "    \n",
    "    print('\\n------------------Testing-best-model------------------',\n",
    "          'alpha - {}'.format(tmp[0]),\n",
    "          'ngrams - {}'.format(ngr),\n",
    "          'Result: {}'.format(tmp[2]),\n",
    "          sep='\\n'\n",
    "         )\n",
    "    print('\\nTime measurement')\n",
    "    time_measure(mnb_, tr, ts, labels, 1400)"
   ]
  },
  {
   "cell_type": "markdown",
   "metadata": {},
   "source": [
    "### Ngrams = 2 Explanation\n",
    "[some info about choosing n-grams and cv](https://stats.stackexchange.com/questions/155483/estimating-the-best-length-of-n-gram) <br> </br>\n",
    "*'что означает n-gram=2?'* <br> </br>\n",
    "N-gram=2 будет парсить строку на посл-ти из двух слов, в отличе n-grams=1 которое вычленяет по слову из строки.\n",
    "(перекрест в одно слово: … to be or not to be …\t=> …, to be, be or, or not, not to, to be, …)"
   ]
  },
  {
   "cell_type": "markdown",
   "metadata": {},
   "source": [
    "### Best Results:\n",
    "### K Ближайших соседей:\n",
    "* **ngrams** = (2, 2)\n",
    "* **n-neigbours** = 101.0\n",
    "* **Валидация** ~ 0.714\n",
    "* **Результат на всем сете** = 0.755\n",
    "* **Время на обучении** - 3.33 ms\n",
    "* **Время предсказания** - 207 ms\n",
    "\n",
    "### Линейная регрессия:\n",
    "* **ngrams** = (1, 1)\n",
    "* **C** ~ 26.83\n",
    "* **Валидация** ~ 0.833\n",
    "* **Результат на всем сете** ~ 0.855\n",
    "* **Время на обучении** - 869 ms\n",
    "* **Время на предсказании** - 930 µs\n",
    "### Байес:\n",
    "* **ngrams** = (2, 2)\n",
    "* **alpha** ~ 0.072\n",
    "* **Валидация** ~ 0.816\n",
    "* **Результат на всем сете** ~ 0.83\n",
    "* **Время на обучении** - 43.1 ms\n",
    "* **Время на предсказании** - 6.55 ms\n",
    "\n",
    "### Results explanation\n",
    "* Наилучшее качество на валидации показала Линейная регрессия - 0.8328 с парметрами n-grams = 1 и C~26.82. Второй лучший результат у Мультиномиального Байеса - 0.8157 при параметрах n-grams =2 и alpha~0.072. Видимо Байес смог выделить более удачные для себя зависимости при анализе словосочетаний, поскольку качество при n-grams = 1 ниже.\n",
    "* На всем сете (то есть трейн + тест) лучший скор снова показывает Линейная регрессия - 0.855 с теми же параметрами, что и при лучшей валидации. Второй лучший результат снова у Байеса и разрыв не так велик, как у Ближайших соседей - всего ~2%.\n",
    "*Вышеперечисленные скоры дают нам понять, каким моделям стоит отдать предпочтение при решении подобной задачи. Метод ближайших соседей не самый лучший выбор в виду его простоты (запоминание выборки, а не выстраивание какой-то более сложной зависимости). В тоже время хорошо показали себя как и Линейная регрессия так и Наивный Байес.*\n",
    "* На обучение больше всего времени потратила Линейная регрессия, поскольку как было обьяснено выше данная модель выстраивает линейную зависимость между обьектами и ответами и ей необходимо настроить параметры при каждой фиче, которых тут очень много. Это и дает такой заметный проигрыш во времени обучения, но после Линейная регрессия тратит столь же заметно мало времени для предсказания результов, по сравнению с конкурентами. Больше всего времени на предсказание потратила модель K ближайших соседей и как было сказано выше в задаче 1, это легко обосновать если вспомнить каким образом модель предсказывает результаты - сравнение обьектов тестовой выборки с k соседями трейновой. Это конечно же требует много времени для построения предсказания, а вот на обучении на оборот дает выигрыш, ведь выборка просто запоминается. <br></br>\n",
    "Немного не до конца понял зачем нужно проверять модели на выборках на которых они обучаются( если я понял пояснение к задаче верно), ведь они очевидно дадут лучшее качество чем на валидации, причем эти результы будут абсолютно не показательны. *Однако все же замерил скоры и на трейнах.*"
   ]
  },
  {
   "cell_type": "markdown",
   "metadata": {},
   "source": [
    "## Задача 4. (опционально)\n",
    "#### Исследование влияния количества признаков FeatureHasher на качество классификации (+3 балла к сумме по всем ДЗ) "
   ]
  },
  {
   "cell_type": "markdown",
   "metadata": {},
   "source": [
    "<p>Изучите, что такое feature hashing (достаточно разобаться с документацией sklearn) и кратко опишите. Как будет меняться качество классификации для обозначенных ранее методов при использовании FeatureHasher (или HashingVectorizer) из пакета sklearn перед TF-IDF преобразованием, если</p>"
   ]
  },
  {
   "cell_type": "code",
   "execution_count": 54,
   "metadata": {
    "collapsed": false
   },
   "outputs": [],
   "source": [
    "n_features = np.logspace(1, 5, 5, base=10) # количество признаков\n",
    "non_negative=True"
   ]
  },
  {
   "cell_type": "markdown",
   "metadata": {},
   "source": [
    "<p>В этом задании можно воспользоваться GridSearchCV</p>"
   ]
  },
  {
   "cell_type": "code",
   "execution_count": 55,
   "metadata": {
    "collapsed": true
   },
   "outputs": [],
   "source": [
    "from sklearn.feature_extraction.text import HashingVectorizer\n",
    "from sklearn.feature_extraction import FeatureHasher\n",
    "from sklearn.model_selection import GridSearchCV\n",
    "from sklearn.metrics import make_scorer"
   ]
  },
  {
   "cell_type": "markdown",
   "metadata": {},
   "source": [
    "Feature Hasher\n",
    "\n",
    "В сравнении с методом Bag of words, Feature Hasher пользуется стратегией hashing trick для выделения фичей.\n",
    "\n",
    "Суть этого подхода схожа с составлением hash table, только на выходе мы получаем вектор фичей, детерменированной \n",
    "\n",
    "размерности, которая определяется data scientist'ом. После определения длины выходного вектора берется хэш-функция,\n",
    "\n",
    "которая отображает наши слова-признаки в пространство числовых токенов. Результат функции целочисленно делиться на размер вектора\n",
    "\n",
    "и полученное число определяет индекс в реузьтирующем векторе, куда будет записано число встреч данного слова.\n",
    "\n",
    "Подобный подход имеет свои преимущества перед tf-idf vectorizer'ом, но и свои недостатки (куда без них):\n",
    "\n",
    " - Данный подход выигрывает по времени обработки информации и очень удобен для формирования вектора фичей \"на лету\".\n",
    "\n",
    " - Данный подход не позволяет провернуть обратную трансформацию признаков ( например если мы хотим узнать какой признак\n",
    "\n",
    " имел наибольшее влияние на результат).\n",
    "\n",
    " - Могут возникнуть коллизии при добавлении фичей в вектор, если у слов был высчитан один и тот же хэш. Однако на практике\n",
    "\n",
    " это редко приводит к серьезным последствиям и обычно используются векторы достаточно большого размера ( >= 2 ** 18)\n",
    "\n",
    "Пример:\n",
    "\n",
    " \"the quick brown fox\" \n",
    "\n",
    " let's say we want length 5 in output. Then\n",
    "\n",
    " h(the) mod 5 = 0\n",
    "\n",
    " h(quick) mod 5 = 1\n",
    "\n",
    " h(brown) mod 5 = 1\n",
    "\n",
    " h(fox) mod 5 = 3\n",
    "\n",
    "\n",
    "\n",
    " Once we have this we can simply construct our vector as:\n",
    "\n",
    "\n",
    "\n",
    " (1,2,0,1,0)\n"
   ]
  },
  {
   "cell_type": "markdown",
   "metadata": {},
   "source": [
    "Как я понял FeatureHasher не производит нормализацию фичей, поэтому при первичной работе с ним качество упало по сравнению с tfidf. HashingVectorizer уже проводит нормализацию, поэтому юзал его."
   ]
  },
  {
   "cell_type": "markdown",
   "metadata": {},
   "source": [
    "Делаю аналогично алгоритму из задания 3, только с использованием GridSearchCV. Кросс-валидируюсь на трейне, на котором настроил hashingvectorizer и который преобразовал с данным векторайзером. Тестовую выборку использую как отложенную выборку, которую модель не видела ни при обучении ни при валидации. Так мы добьемся наиболее точного результата."
   ]
  },
  {
   "cell_type": "code",
   "execution_count": 56,
   "metadata": {
    "collapsed": false
   },
   "outputs": [
    {
     "name": "stdout",
     "output_type": "stream",
     "text": [
      "n_features: 10\n",
      "-KNC\n",
      "best param: {'n_neighbors': 81}\n",
      "best score cv: 0.552857142857\n",
      "time measurenments:\n",
      "whole set result:  0.586666666667\n",
      "--->KNeighborsClassifier(algorithm='auto', leaf_size=30, metric='minkowski',\n",
      "           metric_params=None, n_jobs=1, n_neighbors=81, p=2,\n",
      "           weights='uniform')\n",
      " fitting time:\n",
      "CPU times: user 0 ns, sys: 0 ns, total: 0 ns\n",
      "Wall time: 675 µs\n",
      "prediction time:\n",
      "CPU times: user 56 ms, sys: 0 ns, total: 56 ms\n",
      "Wall time: 58.3 ms\n",
      "n_features: 100\n",
      "-KNC\n",
      "best param: {'n_neighbors': 21}\n",
      "best score cv: 0.584285714286\n",
      "time measurenments:\n",
      "whole set result:  0.603333333333\n",
      "--->KNeighborsClassifier(algorithm='auto', leaf_size=30, metric='minkowski',\n",
      "           metric_params=None, n_jobs=1, n_neighbors=21, p=2,\n",
      "           weights='uniform')\n",
      " fitting time:\n",
      "CPU times: user 4 ms, sys: 0 ns, total: 4 ms\n",
      "Wall time: 1.27 ms\n",
      "prediction time:\n",
      "CPU times: user 260 ms, sys: 0 ns, total: 260 ms\n",
      "Wall time: 260 ms\n",
      "n_features: 1000\n",
      "-KNC\n",
      "best param: {'n_neighbors': 1}\n",
      "best score cv: 0.577857142857\n",
      "time measurenments:\n",
      "whole set result:  0.606666666667\n",
      "--->KNeighborsClassifier(algorithm='auto', leaf_size=30, metric='minkowski',\n",
      "           metric_params=None, n_jobs=1, n_neighbors=1, p=2,\n",
      "           weights='uniform')\n",
      " fitting time:\n",
      "CPU times: user 4 ms, sys: 0 ns, total: 4 ms\n",
      "Wall time: 2.14 ms\n",
      "prediction time:\n",
      "CPU times: user 360 ms, sys: 0 ns, total: 360 ms\n",
      "Wall time: 357 ms\n",
      "n_features: 10000\n",
      "-KNC\n",
      "best param: {'n_neighbors': 141}\n",
      "best score cv: 0.558571428571\n",
      "time measurenments:\n",
      "whole set result:  0.563333333333\n",
      "--->KNeighborsClassifier(algorithm='auto', leaf_size=30, metric='minkowski',\n",
      "           metric_params=None, n_jobs=1, n_neighbors=141, p=2,\n",
      "           weights='uniform')\n",
      " fitting time:\n",
      "CPU times: user 4 ms, sys: 0 ns, total: 4 ms\n",
      "Wall time: 2.32 ms\n",
      "prediction time:\n",
      "CPU times: user 292 ms, sys: 0 ns, total: 292 ms\n",
      "Wall time: 291 ms\n",
      "n_features: 100000\n",
      "-KNC\n",
      "best param: {'n_neighbors': 141}\n",
      "best score cv: 0.558571428571\n",
      "time measurenments:\n",
      "whole set result:  0.568333333333\n",
      "--->KNeighborsClassifier(algorithm='auto', leaf_size=30, metric='minkowski',\n",
      "           metric_params=None, n_jobs=1, n_neighbors=141, p=2,\n",
      "           weights='uniform')\n",
      " fitting time:\n",
      "CPU times: user 4 ms, sys: 0 ns, total: 4 ms\n",
      "Wall time: 2.52 ms\n",
      "prediction time:\n",
      "CPU times: user 280 ms, sys: 4 ms, total: 284 ms\n",
      "Wall time: 280 ms\n"
     ]
    }
   ],
   "source": [
    "scorer = make_scorer(accuracy_score)\n",
    "#try various features\n",
    "for i in n_features:\n",
    "    #apply featurehasher to texts\n",
    "    fh = HashingVectorizer(n_features=int(i), non_negative=True)\n",
    "    fh_train = fh.fit_transform(X_train)\n",
    "    fh_test = fh.transform(X_test)\n",
    "    print('n_features:', int(i))\n",
    "    knc_fh = KNeighborsClassifier()\n",
    "    #apply gridsearchvb to indentify best score and best parameters\n",
    "    gscv_knc = GridSearchCV(knc_fh, param_grid={'n_neighbors': ns}, scoring=scorer, cv=4)\n",
    "    gscv_knc.fit(fh_train, y_train)\n",
    "    print('-KNC')\n",
    "    print('best param:', gscv_knc.best_params_)\n",
    "    print('best score cv:', gscv_knc.best_score_)\n",
    "    print('time measurenments:')\n",
    "    knc_ = gscv_knc.best_estimator_\n",
    "    knc_.fit(fh_train, y_train)\n",
    "    print('whole set result: ', accuracy_score(knc_.predict(fh_test), y_test))\n",
    "    time_measure(gscv_knc.best_estimator_, fh_train, fh_test, labels, 1400)"
   ]
  },
  {
   "cell_type": "markdown",
   "metadata": {},
   "source": [
    "**Лучший** результат для ближайших соседей получился такой:\n",
    "* n_feature - 100\n",
    "* n_neighbors - 21\n",
    "* best score cv ~ 58%\n",
    "* whole set result ~ 60%\n",
    "* fitting time - 1.37 ms\n",
    "* prediction time - 262 ms"
   ]
  },
  {
   "cell_type": "code",
   "execution_count": 63,
   "metadata": {
    "collapsed": false
   },
   "outputs": [
    {
     "name": "stdout",
     "output_type": "stream",
     "text": [
      "n_features: 10\n",
      "-LogR\n",
      "best param: {'C': 0.51794746792312096}\n",
      "best score cv: 0.565714285714\n",
      "whole set result:  0.576666666667\n",
      "time measurenments:\n",
      "--->LogisticRegression(C=0.51794746792312096, class_weight=None, dual=False,\n",
      "          fit_intercept=True, intercept_scaling=1, max_iter=100,\n",
      "          multi_class='ovr', n_jobs=1, penalty='l2', random_state=None,\n",
      "          solver='liblinear', tol=0.0001, verbose=0, warm_start=False)\n",
      " fitting time:\n",
      "CPU times: user 0 ns, sys: 0 ns, total: 0 ns\n",
      "Wall time: 3.32 ms\n",
      "prediction time:\n",
      "CPU times: user 0 ns, sys: 0 ns, total: 0 ns\n",
      "Wall time: 211 µs\n",
      "n_features: 100\n",
      "-LogR\n",
      "best param: {'C': 0.51794746792312096}\n",
      "best score cv: 0.661428571429\n",
      "whole set result:  0.678333333333\n",
      "time measurenments:\n",
      "--->LogisticRegression(C=0.51794746792312096, class_weight=None, dual=False,\n",
      "          fit_intercept=True, intercept_scaling=1, max_iter=100,\n",
      "          multi_class='ovr', n_jobs=1, penalty='l2', random_state=None,\n",
      "          solver='liblinear', tol=0.0001, verbose=0, warm_start=False)\n",
      " fitting time:\n",
      "CPU times: user 8 ms, sys: 0 ns, total: 8 ms\n",
      "Wall time: 10.6 ms\n",
      "prediction time:\n",
      "CPU times: user 0 ns, sys: 0 ns, total: 0 ns\n",
      "Wall time: 297 µs\n",
      "n_features: 1000\n",
      "-LogR\n",
      "best param: {'C': 26.826957952797247}\n",
      "best score cv: 0.755714285714\n",
      "whole set result:  0.753333333333\n",
      "time measurenments:\n",
      "--->LogisticRegression(C=26.826957952797247, class_weight=None, dual=False,\n",
      "          fit_intercept=True, intercept_scaling=1, max_iter=100,\n",
      "          multi_class='ovr', n_jobs=1, penalty='l2', random_state=None,\n",
      "          solver='liblinear', tol=0.0001, verbose=0, warm_start=False)\n",
      " fitting time:\n",
      "CPU times: user 80 ms, sys: 0 ns, total: 80 ms\n",
      "Wall time: 80.6 ms\n",
      "prediction time:\n",
      "CPU times: user 0 ns, sys: 0 ns, total: 0 ns\n",
      "Wall time: 548 µs\n",
      "n_features: 10000\n",
      "-LogR\n",
      "best param: {'C': 1389.4954943731361}\n",
      "best score cv: 0.809285714286\n",
      "whole set result:  0.85\n",
      "time measurenments:\n",
      "--->LogisticRegression(C=1389.4954943731361, class_weight=None, dual=False,\n",
      "          fit_intercept=True, intercept_scaling=1, max_iter=100,\n",
      "          multi_class='ovr', n_jobs=1, penalty='l2', random_state=None,\n",
      "          solver='liblinear', tol=0.0001, verbose=0, warm_start=False)\n",
      " fitting time:\n",
      "CPU times: user 596 ms, sys: 20 ms, total: 616 ms\n",
      "Wall time: 309 ms\n",
      "prediction time:\n",
      "CPU times: user 0 ns, sys: 0 ns, total: 0 ns\n",
      "Wall time: 829 µs\n",
      "n_features: 100000\n",
      "-LogR\n",
      "best param: {'C': 1389.4954943731361}\n",
      "best score cv: 0.815714285714\n",
      "whole set result:  0.855\n",
      "time measurenments:\n",
      "--->LogisticRegression(C=1389.4954943731361, class_weight=None, dual=False,\n",
      "          fit_intercept=True, intercept_scaling=1, max_iter=100,\n",
      "          multi_class='ovr', n_jobs=1, penalty='l2', random_state=None,\n",
      "          solver='liblinear', tol=0.0001, verbose=0, warm_start=False)\n",
      " fitting time:\n",
      "CPU times: user 892 ms, sys: 20 ms, total: 912 ms\n",
      "Wall time: 457 ms\n",
      "prediction time:\n",
      "CPU times: user 0 ns, sys: 4 ms, total: 4 ms\n",
      "Wall time: 1.95 ms\n"
     ]
    }
   ],
   "source": [
    "#try various features\n",
    "for i in n_features:\n",
    "    #apply featurehasher to texts\n",
    "    fh = HashingVectorizer(n_features=int(i), non_negative=True)\n",
    "    fh_train = fh.fit_transform(X_train)\n",
    "    fh_test = fh.transform(X_test)\n",
    "    print('n_features:', int(i))\n",
    "    logr_fh = LogisticRegression()\n",
    "    #apply gridsearchvb to indentify best score and best parameters\n",
    "    gscv_logr = GridSearchCV(logr_fh, param_grid={'C': cs}, scoring=scorer, cv=4)\n",
    "    gscv_logr.fit(fh_train, y_train)\n",
    "    print('-LogR')\n",
    "    print('best param:', gscv_logr.best_params_)\n",
    "    print('best score cv:', gscv_logr.best_score_)\n",
    "    logr_ = gscv_logr.best_estimator_\n",
    "    logr_.fit(fh_train, y_train)\n",
    "    print('whole set result: ', accuracy_score(logr_.predict(fh_test), y_test))\n",
    "    print('time measurenments:')\n",
    "    time_measure(gscv_logr.best_estimator_, fh_train, fh_test, labels, 1400)"
   ]
  },
  {
   "cell_type": "markdown",
   "metadata": {},
   "source": [
    "**Лучший** результат у Логистической Регрессии:\n",
    "* n_features: 100000\n",
    "* best param ~ 1389.5\n",
    "* best score cv ~ 82%\n",
    "* whole set result ~ 86%\n",
    "* fitting time - 457 ms\n",
    "* prediction time - 1.95 ms\n",
    "\n",
    "Время предсказания выросло из-за роста количества фичей, но результат не улучшился. Если мы хотим получить выигрыш во времени, то нам придется пожертвовать качеством предсказания. "
   ]
  },
  {
   "cell_type": "code",
   "execution_count": 62,
   "metadata": {
    "collapsed": false
   },
   "outputs": [
    {
     "name": "stdout",
     "output_type": "stream",
     "text": [
      "n_features: 10\n",
      "-MNB\n",
      "best param: {'alpha': 10.0}\n",
      "best score cv: 0.545\n",
      "time measurenments:\n",
      "whole set result:  0.536666666667\n",
      "--->MultinomialNB(alpha=10.0, class_prior=None, fit_prior=True)\n",
      " fitting time:\n",
      "CPU times: user 0 ns, sys: 0 ns, total: 0 ns\n",
      "Wall time: 1.53 ms\n",
      "prediction time:\n",
      "CPU times: user 0 ns, sys: 0 ns, total: 0 ns\n",
      "Wall time: 152 µs\n",
      "n_features: 100\n",
      "-MNB\n",
      "best param: {'alpha': 10.0}\n",
      "best score cv: 0.64\n",
      "time measurenments:\n",
      "whole set result:  0.673333333333\n",
      "--->MultinomialNB(alpha=10.0, class_prior=None, fit_prior=True)\n",
      " fitting time:\n",
      "CPU times: user 4 ms, sys: 0 ns, total: 4 ms\n",
      "Wall time: 2.15 ms\n",
      "prediction time:\n",
      "CPU times: user 0 ns, sys: 0 ns, total: 0 ns\n",
      "Wall time: 381 µs\n",
      "n_features: 1000\n",
      "-MNB\n",
      "best param: {'alpha': 0.0001}\n",
      "best score cv: 0.729285714286\n",
      "time measurenments:\n",
      "whole set result:  0.741666666667\n",
      "--->MultinomialNB(alpha=0.0001, class_prior=None, fit_prior=True)\n",
      " fitting time:\n",
      "CPU times: user 4 ms, sys: 0 ns, total: 4 ms\n",
      "Wall time: 3.66 ms\n",
      "prediction time:\n",
      "CPU times: user 0 ns, sys: 0 ns, total: 0 ns\n",
      "Wall time: 886 µs\n",
      "n_features: 10000\n",
      "-MNB\n",
      "best param: {'alpha': 0.071968567300115208}\n",
      "best score cv: 0.789285714286\n",
      "time measurenments:\n",
      "whole set result:  0.813333333333\n",
      "--->MultinomialNB(alpha=0.071968567300115208, class_prior=None, fit_prior=True)\n",
      " fitting time:\n",
      "CPU times: user 8 ms, sys: 0 ns, total: 8 ms\n",
      "Wall time: 4.79 ms\n",
      "prediction time:\n",
      "CPU times: user 0 ns, sys: 0 ns, total: 0 ns\n",
      "Wall time: 1.14 ms\n",
      "n_features: 100000\n",
      "-MNB\n",
      "best param: {'alpha': 0.0026826957952797272}\n",
      "best score cv: 0.788571428571\n",
      "time measurenments:\n",
      "whole set result:  0.798333333333\n",
      "--->MultinomialNB(alpha=0.0026826957952797272, class_prior=None, fit_prior=True)\n",
      " fitting time:\n",
      "CPU times: user 12 ms, sys: 0 ns, total: 12 ms\n",
      "Wall time: 12.3 ms\n",
      "prediction time:\n",
      "CPU times: user 4 ms, sys: 0 ns, total: 4 ms\n",
      "Wall time: 2.86 ms\n"
     ]
    }
   ],
   "source": [
    "#try various features\n",
    "for i in n_features:\n",
    "    #apply featurehasher to texts\n",
    "    fh = HashingVectorizer(n_features=int(i), non_negative=True)\n",
    "    fh_train = fh.fit_transform(X_train)\n",
    "    fh_test = fh.transform(X_test)\n",
    "    print('n_features:', int(i))\n",
    "    mnb_fh = MultinomialNB()\n",
    "    #apply gridsearchvb to indentify best score and best parameters\n",
    "    gscv_mnb = GridSearchCV(mnb_fh, param_grid={'alpha': alphas}, scoring=scorer, cv=4)\n",
    "    gscv_mnb.fit(fh_train, y_train)\n",
    "    print('-MNB')\n",
    "    print('best param:', gscv_mnb.best_params_)\n",
    "    print('best score cv:', gscv_mnb.best_score_)\n",
    "    print('time measurenments:')\n",
    "    mnb_ = gscv_mnb.best_estimator_\n",
    "    mnb_.fit(fh_train, y_train)\n",
    "    print('whole set result: ', accuracy_score(mnb_.predict(fh_test), y_test))\n",
    "    time_measure(gscv_mnb.best_estimator_, fh_train, fh_test, labels, 1400)"
   ]
  },
  {
   "cell_type": "markdown",
   "metadata": {},
   "source": [
    "**Лучший** результат у Байеса:\n",
    "* n_features: 10000\n",
    "* alpha ~ 0.072\n",
    "* best score cv ~ 79%\n",
    "* whole set result ~ 81%\n",
    "* fitting time - 4.79 ms\n",
    "* prediction time - 1.14 ms\n",
    "\n",
    "Результат хуже чем у Баейса в задаче 3 при n-grams=2, но лучше чем при n-grams=1. "
   ]
  },
  {
   "cell_type": "markdown",
   "metadata": {},
   "source": [
    "**Поскольку результаты от применения Feature Hasher едва заметно изменились, мне кажется этот вариант стоит рассматривать только если важно получить улучшение во времени и не сильно проиграть в качестве.**"
   ]
  },
  {
   "cell_type": "markdown",
   "metadata": {
    "collapsed": true
   },
   "source": [
    "# Задача 5. (опционально)\n",
    "__Простой прототип (+ 2 балла к сумме по всем ДЗ)__\n",
    "\n",
    "Напишите функцию, которая берет на вход произвольную строку и возвращает для нее предсказание для вашей задачи. Придумайте по 3 примера строк для положительного и отрицательного класса, сделайте для них предсказание. Совпадают ли ваши метки и предсказания классификатора? Оцените (любым способом), насколько придуманные вами тексты похожи на объекты датасета, с которым вы работали.\n"
   ]
  },
  {
   "cell_type": "code",
   "execution_count": null,
   "metadata": {
    "collapsed": true
   },
   "outputs": [],
   "source": [
    "def predict_class_for_text(s):\n",
    "    pass"
   ]
  },
  {
   "cell_type": "code",
   "execution_count": null,
   "metadata": {
    "collapsed": true
   },
   "outputs": [],
   "source": []
  },
  {
   "cell_type": "code",
   "execution_count": null,
   "metadata": {
    "collapsed": true
   },
   "outputs": [],
   "source": []
  }
 ],
 "metadata": {
  "anaconda-cloud": {},
  "kernelspec": {
   "display_name": "Python [conda root]",
   "language": "python",
   "name": "conda-root-py"
  },
  "language_info": {
   "codemirror_mode": {
    "name": "ipython",
    "version": 3
   },
   "file_extension": ".py",
   "mimetype": "text/x-python",
   "name": "python",
   "nbconvert_exporter": "python",
   "pygments_lexer": "ipython3",
   "version": "3.5.2"
  },
  "nav_menu": {},
  "toc": {
   "navigate_menu": true,
   "number_sections": false,
   "sideBar": true,
   "threshold": 6,
   "toc_cell": false,
   "toc_section_display": "block",
   "toc_window_display": true
  }
 },
 "nbformat": 4,
 "nbformat_minor": 2
}
