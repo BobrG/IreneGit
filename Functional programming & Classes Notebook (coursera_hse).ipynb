{
 "cells": [
  {
   "cell_type": "markdown",
   "metadata": {},
   "source": [
    "**[Python Coursera](https://www.coursera.org/learn/python-osnovy-programmirovaniya)**\n",
    "# Functional programming in Python.\n",
    "## Task 1: Unique numbers in sequence.\n"
   ]
  },
  {
   "cell_type": "code",
   "execution_count": 2,
   "metadata": {
    "collapsed": false
   },
   "outputs": [
    {
     "name": "stdout",
     "output_type": "stream",
     "text": [
      "1 2 3 4 5\n",
      "5\n"
     ]
    }
   ],
   "source": [
    "print(len(set(map(int, input().split()))))"
   ]
  },
  {
   "cell_type": "markdown",
   "metadata": {},
   "source": [
    "## Task 2: Unique words in text."
   ]
  },
  {
   "cell_type": "code",
   "execution_count": 46,
   "metadata": {
    "collapsed": false
   },
   "outputs": [
    {
     "name": "stdout",
     "output_type": "stream",
     "text": [
      "She sells sea shells on the sea shore; The shells that she sells are sea shells I'm sure. So if she sells sea shells on the sea shore, I'm sure that the shells are sea shore shells.\n",
      "19\n"
     ]
    }
   ],
   "source": [
    "print(len(set(input().split())))"
   ]
  },
  {
   "cell_type": "markdown",
   "metadata": {},
   "source": [
    "## Task 3: Minimal odd number in sequence.\n"
   ]
  },
  {
   "cell_type": "code",
   "execution_count": 76,
   "metadata": {
    "collapsed": false
   },
   "outputs": [
    {
     "name": "stdout",
     "output_type": "stream",
     "text": [
      "0 1 2 3\n",
      "1\n"
     ]
    }
   ],
   "source": [
    "print(min(filter(lambda x: x % 2 != 0, map(int, input().split()))))"
   ]
  },
  {
   "cell_type": "markdown",
   "metadata": {},
   "source": [
    "## Task 4: Check zeros in sequence.\n",
    "Check whether sequence containes ever one zero.\n",
    "Input: N - lenght of sequence, then every new member on new line."
   ]
  },
  {
   "cell_type": "markdown",
   "metadata": {},
   "source": [
    "*Inserting in one line, without amount of members. (Using generator)* "
   ]
  },
  {
   "cell_type": "code",
   "execution_count": 29,
   "metadata": {
    "collapsed": false
   },
   "outputs": [
    {
     "name": "stdout",
     "output_type": "stream",
     "text": [
      "0 1 2\n",
      "True\n"
     ]
    }
   ],
   "source": [
    "print(bool([i for i in map(int, input().split()) if i == 0]))"
   ]
  },
  {
   "cell_type": "markdown",
   "metadata": {},
   "source": [
    "*Inserting amount of numbers in sequence and new member on new line*"
   ]
  },
  {
   "cell_type": "code",
   "execution_count": 129,
   "metadata": {
    "collapsed": false
   },
   "outputs": [
    {
     "name": "stdout",
     "output_type": "stream",
     "text": [
      "3\n",
      "1\n",
      "0\n",
      "3\n",
      "True\n"
     ]
    }
   ],
   "source": [
    "print(bool(sum(map(lambda x: int(input()) == 0, range(int(input()))))))"
   ]
  },
  {
   "cell_type": "markdown",
   "metadata": {},
   "source": [
    "## Task 5: Multiplying 5th powers.\n",
    "\n",
    "Input is sequence of natural numbers (n≤1000). Count multiplication of all members of sequence with power 5."
   ]
  },
  {
   "cell_type": "code",
   "execution_count": 116,
   "metadata": {
    "collapsed": false
   },
   "outputs": [
    {
     "name": "stdout",
     "output_type": "stream",
     "text": [
      "1 1 1 2\n",
      "32\n"
     ]
    }
   ],
   "source": [
    "from functools import reduce\n",
    "print(reduce(lambda x, y: x*y, map(int, input().split()))**5)"
   ]
  },
  {
   "cell_type": "markdown",
   "metadata": {},
   "source": [
    "## Task 6: XOR.\n",
    "\n",
    "Input: two sequences (a₁,…,an) and (b₁,…,bn) which containes 0 and 1.\n",
    "\n",
    "Build new sequence (c₁,…,cn), where cᵢ=xor(aᵢ,bᵢ).\n",
    "\n",
    "*(xor(0,0)=0, xor(0,1)=1, xor(1,0)=1, xor(1,1)=0)*"
   ]
  },
  {
   "cell_type": "code",
   "execution_count": 118,
   "metadata": {
    "collapsed": false
   },
   "outputs": [
    {
     "name": "stdout",
     "output_type": "stream",
     "text": [
      "0 0 1 1\n",
      "0 1 0 1\n",
      "0 1 1 0\n"
     ]
    }
   ],
   "source": [
    "print(*map(lambda a: abs(a[0] - a[1]) , (zip(map(int, input().split()), map(int, input().split())))))"
   ]
  },
  {
   "cell_type": "markdown",
   "metadata": {},
   "source": [
    "# Classes in Python."
   ]
  },
  {
   "cell_type": "markdown",
   "metadata": {},
   "source": [
    "## Task 1: Matrix Class.\n",
    "\n",
    "Describe class Matrix. It must consist of:\n",
    "\n",
    "*   Constructor with list of list argument. It is guarateed that list consist of numbers, not empty and have equal sizes. Constructor should copy list of list's content what means that with change of lists (which form Matrix) the Matrix content should stay constant.\n",
    "\n",
    "*    Method __str__ which turns matrix into string. Elements inside every string should be divided by tabulation, and strings should be separeted by line break. Each string should not be followed by tabulation symbol and there shouldn't be any line break.\n",
    "\n",
    "*    Method size without arguments, returning tuple like (amount of rows, amount of columns)"
   ]
  },
  {
   "cell_type": "code",
   "execution_count": null,
   "metadata": {
    "collapsed": true
   },
   "outputs": [],
   "source": []
  }
 ],
 "metadata": {
  "kernelspec": {
   "display_name": "Python [default]",
   "language": "python",
   "name": "python3"
  },
  "language_info": {
   "codemirror_mode": {
    "name": "ipython",
    "version": 3
   },
   "file_extension": ".py",
   "mimetype": "text/x-python",
   "name": "python",
   "nbconvert_exporter": "python",
   "pygments_lexer": "ipython3",
   "version": "3.5.2"
  }
 },
 "nbformat": 4,
 "nbformat_minor": 1
}
