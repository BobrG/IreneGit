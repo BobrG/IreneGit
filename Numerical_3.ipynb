{
 "cells": [
  {
   "cell_type": "markdown",
   "metadata": {},
   "source": [
    "# Лабораторная работа №3.\n",
    "## Выполнил: Бобровских Глеб.\n",
    "## Вариант 4."
   ]
  },
  {
   "cell_type": "code",
   "execution_count": 1,
   "metadata": {
    "collapsed": false
   },
   "outputs": [],
   "source": [
    "import numpy as np\n",
    "import matplotlib.pyplot as plt\n",
    "%matplotlib inline\n",
    "\n",
    "from scipy.optimize import fsolve\n",
    "from scipy.misc import derivative"
   ]
  },
  {
   "cell_type": "markdown",
   "metadata": {},
   "source": [
    "## Задание 1.\n",
    "Найти с точностью корни системы нелинейных уравнений $\\varepsilon = 10^{6}$:\n",
    "\n",
    "$\\begin{equation*}\n",
    "\\begin{cases}\n",
    "f_1(x_1, x_2) = 0,\\\\\n",
    "f_2(x_1, x_2) = 0\\\\\n",
    "\\end{cases}\n",
    "\\end{equation*}$\n",
    "\n",
    "\n",
    "используя **метод Ньютона для системы нелинейных уравнений**.\n",
    "\n",
    "Система из варианта 4:\n",
    "\n",
    "$\\begin{equation*}\n",
    "\\begin{cases}\n",
    "\\cos x_1 + x_2 - 1.5 = 0\\\\ \n",
    "2x_1 - \\sin(x_2 - 0.5) - 1 = 0\\\\\n",
    "\\end{cases}\n",
    "\\end{equation*}$\n"
   ]
  },
  {
   "cell_type": "markdown",
   "metadata": {},
   "source": [
    "**Зададим систему нелинейных уравнений.**"
   ]
  },
  {
   "cell_type": "code",
   "execution_count": 2,
   "metadata": {
    "collapsed": true
   },
   "outputs": [],
   "source": [
    "def equations(p):\n",
    "    x, y = p[0], p[1]\n",
    "    return np.array([np.cos(x) + y - 1.5, 2*x - np.sin(y - 0.5) - 1])"
   ]
  },
  {
   "cell_type": "markdown",
   "metadata": {},
   "source": [
    "**Локализуем корни системы уравнений.**\n",
    "\n",
    "\n",
    "Приведем уравнения системы к виду $x_1 = g(x_2)$ и отобразим на плоскости."
   ]
  },
  {
   "cell_type": "code",
   "execution_count": 3,
   "metadata": {
    "collapsed": true
   },
   "outputs": [],
   "source": [
    "def f_1(x):\n",
    "    return 1.5 - np.cos(x) \n",
    "def f_2(x):\n",
    "    return np.arcsin(2*x - 1) + 0.5"
   ]
  },
  {
   "cell_type": "code",
   "execution_count": 4,
   "metadata": {
    "collapsed": false
   },
   "outputs": [
    {
     "data": {
      "text/plain": [
       "[<matplotlib.lines.Line2D at 0x7f0e68583d68>]"
      ]
     },
     "execution_count": 4,
     "metadata": {},
     "output_type": "execute_result"
    },
    {
     "data": {
      "image/png": "[encoded data removed]",
      "text/plain": [
       "<matplotlib.figure.Figure at 0x7f0e68641940>"
      ]
     },
     "metadata": {},
     "output_type": "display_data"
    }
   ],
   "source": [
    "x = np.linspace(-10, 10, 100)\n",
    "plt.plot(x, f_1(x))\n",
    "x = np.linspace(0, 1, 100)\n",
    "plt.plot(x, f_2(x))"
   ]
  },
  {
   "cell_type": "markdown",
   "metadata": {},
   "source": [
    "**Определим вспомогательную функцию для поиска производной функции двух переменных.**"
   ]
  },
  {
   "cell_type": "code",
   "execution_count": 5,
   "metadata": {
    "collapsed": true
   },
   "outputs": [],
   "source": [
    "# find partial derivative for function of multiple variables\n",
    "# f - array with functions;\n",
    "# f_num - number of function in system;\n",
    "# var - variable for which we count partial derivative;\n",
    "# point - list of point where to find derivative;\n",
    "def partial_derivative(func, f_num=0, var=0, point=[]):\n",
    "    args = point[:]\n",
    "    def wraps(x):\n",
    "        args[var] = x\n",
    "        return func(args)[f_num]\n",
    "    return derivative(wraps, point[var], dx = 1e-6)\n",
    "# find jacobian for system of functions\n",
    "# f - array with functions;\n",
    "# x - point where to find jacobian;\n",
    "# num - amount of functions in system;\n",
    "def Jacobian(f, x, num=2):\n",
    "    jacob = np.zeros((2, 2))\n",
    "    for i in range(num):\n",
    "        for j in range(num):\n",
    "            jacob[i, j] = partial_derivative(f, i, j, x)\n",
    "    return jacob"
   ]
  },
  {
   "cell_type": "markdown",
   "metadata": {},
   "source": [
    "### Метод Ньютона (для систем нелинейных уравнений).\n",
    "Имеем приближение $x_{i}$ к корню системы и мы ищем лучшее приближение $x_{i+1}$ путем аппроксимации функции $F(x_{i+1})$ линейной функцией и решением соответствующей системы теперь уже линейных уравнений. Мы аппроксимируем нелинейную задачу $F(x_{i+1})=0$ линейной:\n",
    "\n",
    "$$F(x_{i}) + J(x_{i})(x_{i+1} - x_{i}) = 0, \\qquad (1)$$\n",
    "\n",
    "где $ J(x_{i})$ - *якобиан* системы $F(x_{i})$\n",
    "\n",
    "уравнение (1) является линейной системой с матрицей коэффициентов $J$ и вектором $F(x_{i})$. Переписывая в другой форме, получим:\n",
    "\n",
    "$$J(x_{i})\\delta=-F(x_{i}), \\delta = (x_{i+1} - x_{i})$$\n",
    "\n",
    "На каждой итерации метода Ньютона выполняем следующие шаги:\n",
    "\n",
    "1. Решаем $J(x_{i})\\delta=-F(x_{i})$ для $\\delta$.\n",
    "2. Выражаем $x_{i+1}=x_{i}+\\delta$\n",
    "\n"
   ]
  },
  {
   "cell_type": "code",
   "execution_count": 18,
   "metadata": {
    "collapsed": true
   },
   "outputs": [],
   "source": [
    "def newton_for_nonlinear(F, J, x, norm, eps):\n",
    "    # ||F|| < eps - stop criterion.\n",
    "    count = 0\n",
    "    while abs(np.linalg.norm(F(x), ord=norm)) > eps and count < 100:\n",
    "        delta = np.linalg.solve(J(F, x), -1*F(x))\n",
    "        x = x + delta\n",
    "        count += 1\n",
    "    return x, count\n"
   ]
  },
  {
   "cell_type": "code",
   "execution_count": 19,
   "metadata": {
    "collapsed": false
   },
   "outputs": [],
   "source": [
    "x_2, n_2 = newton_for_nonlinear(equations, Jacobian, x=[0.0, -0.5], norm=2, eps=1e-6)"
   ]
  },
  {
   "cell_type": "code",
   "execution_count": 20,
   "metadata": {
    "collapsed": false
   },
   "outputs": [
    {
     "name": "stdout",
     "output_type": "stream",
     "text": [
      "Norm - 2, Roots - [5.8192615e-01, 6.6459448e-01], number of iterations - 4\n"
     ]
    }
   ],
   "source": [
    "print('Norm - 2, Roots - [{:.7e}, {:.7e}], number of iterations - {:d}'.format(x_2[0], x_2[1], n_2))"
   ]
  },
  {
   "cell_type": "code",
   "execution_count": 22,
   "metadata": {
    "collapsed": false
   },
   "outputs": [
    {
     "name": "stdout",
     "output_type": "stream",
     "text": [
      "Norm - inf, Roots - [5.8192615e-01, 6.6459448e-01], number of iterations - 4\n"
     ]
    }
   ],
   "source": [
    "x_inf, n_inf = newton_for_nonlinear(equations, Jacobian, x=[0.0,-0.5], norm=np.inf, eps=1e-6)\n",
    "\n",
    "print('Norm - inf, Roots - [{:.7e}, {:.7e}], number of iterations - {:d}'.format(x_inf[0], x_inf[1], n_inf))"
   ]
  },
  {
   "cell_type": "code",
   "execution_count": 17,
   "metadata": {
    "collapsed": false
   },
   "outputs": [
    {
     "name": "stdout",
     "output_type": "stream",
     "text": [
      "Roots - [5.8192615e-01, 6.6459448e-01]\n",
      "Norm of error: 5.99353899844e-12\n",
      "Norm of error: 6.60380300271e-12\n"
     ]
    }
   ],
   "source": [
    "x, y = fsolve(equations, [0, -1])\n",
    "\n",
    "print('Roots - [{:.7e}, {:.7e}]'.format(x, y))\n",
    "print('Norm of error:', np.linalg.norm([x, y] - x_inf, ord=np.inf))\n",
    "print('Norm of error:', np.linalg.norm([x, y] - x_2, ord=2))"
   ]
  },
  {
   "cell_type": "code",
   "execution_count": null,
   "metadata": {
    "collapsed": true
   },
   "outputs": [],
   "source": []
  }
 ],
 "metadata": {
  "anaconda-cloud": {},
  "kernelspec": {
   "display_name": "Python [default]",
   "language": "python",
   "name": "python3"
  },
  "language_info": {
   "codemirror_mode": {
    "name": "ipython",
    "version": 3
   },
   "file_extension": ".py",
   "mimetype": "text/x-python",
   "name": "python",
   "nbconvert_exporter": "python",
   "pygments_lexer": "ipython3",
   "version": "3.5.4"
  }
 },
 "nbformat": 4,
 "nbformat_minor": 1
}
