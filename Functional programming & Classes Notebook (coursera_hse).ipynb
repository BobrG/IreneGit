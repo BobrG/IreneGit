{
 "cells": [
  {
   "cell_type": "markdown",
   "metadata": {},
   "source": [
    "**[Python Coursera](https://www.coursera.org/learn/python-osnovy-programmirovaniya)**\n",
    "# Functional programming in Python.\n",
    "## Task 1: Unique numbers in sequence.\n"
   ]
  },
  {
   "cell_type": "code",
   "execution_count": 2,
   "metadata": {
    "collapsed": false
   },
   "outputs": [
    {
     "name": "stdout",
     "output_type": "stream",
     "text": [
      "1 2 3 4 5\n",
      "5\n"
     ]
    }
   ],
   "source": [
    "print(len(set(map(int, input().split()))))"
   ]
  },
  {
   "cell_type": "markdown",
   "metadata": {},
   "source": [
    "## Task 2: Unique words in text."
   ]
  },
  {
   "cell_type": "code",
   "execution_count": 46,
   "metadata": {
    "collapsed": false
   },
   "outputs": [
    {
     "name": "stdout",
     "output_type": "stream",
     "text": [
      "She sells sea shells on the sea shore; The shells that she sells are sea shells I'm sure. So if she sells sea shells on the sea shore, I'm sure that the shells are sea shore shells.\n",
      "19\n"
     ]
    }
   ],
   "source": [
    "print(len(set(input().split())))"
   ]
  },
  {
   "cell_type": "markdown",
   "metadata": {},
   "source": [
    "## Task 3: Minimal odd number in sequence.\n"
   ]
  },
  {
   "cell_type": "code",
   "execution_count": 76,
   "metadata": {
    "collapsed": false
   },
   "outputs": [
    {
     "name": "stdout",
     "output_type": "stream",
     "text": [
      "0 1 2 3\n",
      "1\n"
     ]
    }
   ],
   "source": [
    "print(min(filter(lambda x: x % 2 != 0, map(int, input().split()))))"
   ]
  },
  {
   "cell_type": "markdown",
   "metadata": {},
   "source": [
    "## Task 4: Check zeros in sequence.\n",
    "Check whether sequence containes ever one zero.\n",
    "Input: N - lenght of sequence, then every new member on new line."
   ]
  },
  {
   "cell_type": "markdown",
   "metadata": {},
   "source": [
    "*Inserting in one line, without amount of members. (Using generator)* "
   ]
  },
  {
   "cell_type": "code",
   "execution_count": 29,
   "metadata": {
    "collapsed": false
   },
   "outputs": [
    {
     "name": "stdout",
     "output_type": "stream",
     "text": [
      "0 1 2\n",
      "True\n"
     ]
    }
   ],
   "source": [
    "print(bool([i for i in map(int, input().split()) if i == 0]))"
   ]
  },
  {
   "cell_type": "markdown",
   "metadata": {},
   "source": [
    "*Inserting amount of numbers in sequence and new member on new line*"
   ]
  },
  {
   "cell_type": "code",
   "execution_count": 129,
   "metadata": {
    "collapsed": false
   },
   "outputs": [
    {
     "name": "stdout",
     "output_type": "stream",
     "text": [
      "3\n",
      "1\n",
      "0\n",
      "3\n",
      "True\n"
     ]
    }
   ],
   "source": [
    "print(bool(sum(map(lambda x: int(input()) == 0, range(int(input()))))))"
   ]
  },
  {
   "cell_type": "markdown",
   "metadata": {},
   "source": [
    "## Task 5: Multiplying 5th powers.\n",
    "\n",
    "Input is sequence of natural numbers (n≤1000). Count multiplication of all members of sequence with power 5."
   ]
  },
  {
   "cell_type": "code",
   "execution_count": 116,
   "metadata": {
    "collapsed": false
   },
   "outputs": [
    {
     "name": "stdout",
     "output_type": "stream",
     "text": [
      "1 1 1 2\n",
      "32\n"
     ]
    }
   ],
   "source": [
    "from functools import reduce\n",
    "print(reduce(lambda x, y: x*y, map(int, input().split()))**5)"
   ]
  },
  {
   "cell_type": "markdown",
   "metadata": {},
   "source": [
    "## Task 6: XOR.\n",
    "\n",
    "Input: two sequences (a₁,…,an) and (b₁,…,bn) which containes 0 and 1.\n",
    "\n",
    "Build new sequence (c₁,…,cn), where cᵢ=xor(aᵢ,bᵢ).\n",
    "\n",
    "*(xor(0,0)=0, xor(0,1)=1, xor(1,0)=1, xor(1,1)=0)*"
   ]
  },
  {
   "cell_type": "code",
   "execution_count": 118,
   "metadata": {
    "collapsed": false
   },
   "outputs": [
    {
     "name": "stdout",
     "output_type": "stream",
     "text": [
      "0 0 1 1\n",
      "0 1 0 1\n",
      "0 1 1 0\n"
     ]
    }
   ],
   "source": [
    "print(*map(lambda a: abs(a[0] - a[1]) , (zip(map(int, input().split()), map(int, input().split())))))"
   ]
  },
  {
   "cell_type": "markdown",
   "metadata": {},
   "source": [
    "# Classes in Python."
   ]
  },
  {
   "cell_type": "markdown",
   "metadata": {},
   "source": [
    "## Task 1: Matrix Class.\n",
    "\n",
    "Describe class Matrix. It must consist of:\n",
    "\n",
    "*   Constructor with list of list argument. It is guarateed that list consist of numbers, not empty and have equal sizes. Constructor should copy list of list's content what means that with change of lists (which form Matrix) the Matrix content should stay constant.\n",
    "\n",
    "*    Method __str__ which turns matrix into string. Elements inside every string should be divided by tabulation, and strings should be separeted by line break. Each string should not be followed by tabulation symbol and there shouldn't be any line break.\n",
    "\n",
    "*    Method size without arguments, returning tuple like (amount of rows, amount of columns)"
   ]
  },
  {
   "cell_type": "code",
   "execution_count": 176,
   "metadata": {
    "collapsed": false
   },
   "outputs": [
    {
     "name": "stdout",
     "output_type": "stream",
     "text": [
      "1\t0\n",
      "0\t1\n",
      "1\t0\n",
      "0\t1\n",
      "1\t0\n",
      "0\t1\n"
     ]
    }
   ],
   "source": [
    "class Matrix:\n",
    "    def __init__(self, inp):\n",
    "        self.a = []\n",
    "        for i in inp:\n",
    "            self.a.append(i[:])\n",
    "\n",
    "    def __str__(self):\n",
    "        strg = ''\n",
    "        for i in range(len(self.a)):\n",
    "            strg += str(self.a[i][0])\n",
    "            for j in range(1, len(self.a[i])):\n",
    "                strg += '\\t' + str(self.a[i][j])\n",
    "            if i != len(self.a) - 1:\n",
    "                strg += '\\n'\n",
    "        return strg\n",
    "\n",
    "    def size(self):\n",
    "        return len(self.a), len(self.a[0])"
   ]
  },
  {
   "cell_type": "markdown",
   "metadata": {},
   "source": [
    "## Task 2: Expand previous Matrix Class."
   ]
  },
  {
   "cell_type": "code",
   "execution_count": 1,
   "metadata": {
    "collapsed": true
   },
   "outputs": [],
   "source": [
    "class Matrix:\n",
    "    def __init__(self, inp):\n",
    "        self.a = []\n",
    "        for i in inp:\n",
    "            self.a.append(i[:])\n",
    "\n",
    "    def __str__(self):\n",
    "        strg = ''\n",
    "        for i in range(len(self.a)):\n",
    "            strg += str(self.a[i][0])\n",
    "            for j in range(1, len(self.a[i])):\n",
    "                strg += '\\t' + str(self.a[i][j])\n",
    "            if i != len(self.a) - 1:\n",
    "                strg += '\\n'\n",
    "        return strg\n",
    "\n",
    "    def size(self):\n",
    "        return len(self.a), len(self.a[0])\n",
    "#new methods:\n",
    "    def __add__(self, other):\n",
    "        tmp = []\n",
    "        for i in range(len(self.a)):\n",
    "            tmp_0 = []\n",
    "            for j in range(len(self.a[0])):\n",
    "                tmp_0.append(self.a[i][j] + other.a[i][j])\n",
    "            tmp.append(tmp_0)\n",
    "        return Matrix(tmp)\n",
    "\n",
    "    def __mul__(self, m):\n",
    "        tmp = []\n",
    "        for i in range(len(self.a)):\n",
    "            tmp_0 = []\n",
    "            for j in range(len(self.a[0])):\n",
    "                tmp_0.append(self.a[i][j]*m)\n",
    "            tmp.append(tmp_0)\n",
    "        return Matrix(tmp)\n",
    "\n",
    "    __rmul__ = __mul__"
   ]
  },
  {
   "cell_type": "markdown",
   "metadata": {
    "collapsed": true
   },
   "source": [
    "## Task 3: Add exception handling.\n",
    "\n",
    "Add new class MatrixError to previous task. This class should contain self items matrix1 and matrix2 (pointers on matrices).\n",
    "\n",
    "Update class Matrix with following additions:\n",
    "\n",
    "* Add in __add__ method size verification and throw exception whether input matrices have different dimensionsso that matrix1 in MatrixError becomes equal to 'self' in __add__ , and matrix2 — becomes equal to 'other'.\n",
    "\n",
    "* Add new method - transpose, which should transpose matrix and return the result (this method modifies instance of Matrix)\n",
    "\n",
    "* Describe static method transposed, which input is Matrix and return object is transpred matrix."
   ]
  },
  {
   "cell_type": "code",
   "execution_count": 17,
   "metadata": {
    "collapsed": false
   },
   "outputs": [
    {
     "name": "stdout",
     "output_type": "stream",
     "text": [
      " Task 3 check 1\n",
      "1\t1\t0\n",
      "20\t1\t-1\n",
      "-1\t-2\t1\n",
      "1\t0\t0\n",
      "0\t1\t0\n",
      "0\t0\t1\n",
      "0\t1\t0\n",
      "20\t0\t-1\n",
      "Task 3 check 2\n",
      "10\t10\n",
      "0\t0\n",
      "1\t1\n",
      "10\t0\t1\n",
      "10\t0\t1\n",
      "10\t0\t1\n",
      "10\t0\t1\n",
      "Task 3 check 3\n",
      "10\t10\n",
      "0\t0\n",
      "1\t1\n",
      "10\t0\t1\n",
      "10\t0\t1\n",
      "10\t10\n",
      "0\t0\n",
      "1\t1\n"
     ]
    }
   ],
   "source": [
    "class MatrixError(BaseException):\n",
    "    def __init__(self, matrix, other):\n",
    "        self.matrix1 = matrix\n",
    "        self.matrix2 = other\n",
    "\n",
    "class Matrix:\n",
    "    def __init__(self, inp):\n",
    "        self.a = []\n",
    "        for i in inp:\n",
    "            self.a.append(i[:])\n",
    "\n",
    "    def __str__(self):\n",
    "        strg = ''\n",
    "        for i in range(len(self.a)):\n",
    "            strg += str(self.a[i][0])\n",
    "            for j in range(1, len(self.a[i])):\n",
    "                strg += '\\t' + str(self.a[i][j])\n",
    "            if i != len(self.a) - 1:\n",
    "                strg += '\\n'\n",
    "        return strg\n",
    "\n",
    "    def size(self):\n",
    "        return len(self.a), len(self.a[0])\n",
    "#exception handling added\n",
    "    def __add__(self, other):\n",
    "        if (self.size() == other.size()):\n",
    "            tmp = []\n",
    "            for i in range(len(self.a)):\n",
    "                tmp_0 = []\n",
    "                for j in range(len(self.a[0])):\n",
    "                    tmp_0.append(self.a[i][j] + other.a[i][j])\n",
    "                tmp.append(tmp_0)\n",
    "        else:\n",
    "            raise MatrixError(self, other)\n",
    "        return Matrix(tmp)\n",
    "\n",
    "    def __mul__(self, m):\n",
    "        tmp = []\n",
    "        for i in range(len(self.a)):\n",
    "            tmp_0 = []\n",
    "            for j in range(len(self.a[0])):\n",
    "                tmp_0.append(self.a[i][j]*m)\n",
    "            tmp.append(tmp_0)\n",
    "        return Matrix(tmp)\n",
    "\n",
    "    __rmul__ = __mul__\n",
    "#new methods\n",
    "    @staticmethod\n",
    "    def transposed(self):\n",
    "        tmp = []\n",
    "        for i in range(len(self.a[0])):\n",
    "            tmp_0 = []\n",
    "            for j in range(len(self.a)):\n",
    "                tmp_0.append(self.a[j][i])\n",
    "            tmp.append(tmp_0)\n",
    "        return Matrix(tmp)\n",
    "   \n",
    "    def transpose(self):\n",
    "        self.a = (Matrix.transposed(self)).a[:]\n",
    "        return self\n",
    "\n",
    "print(' Task 3 check 1')\n",
    "# Check exception to add method\n",
    "m1 = Matrix([[1, 0, 0], [0, 1, 0], [0, 0, 1]])\n",
    "m2 = Matrix([[0, 1, 0], [20, 0, -1], [-1, -2, 0]])\n",
    "print(m1 + m2)\n",
    "\n",
    "m2 = Matrix([[0, 1, 0], [20, 0, -1]])\n",
    "try:\n",
    "    m = m1 + m2\n",
    "    print('WA\\n' + str(m))\n",
    "except MatrixError as e:\n",
    "    print(e.matrix1)\n",
    "    print(e.matrix2)\n",
    "    \n",
    "print('Task 3 check 2')\n",
    "m = Matrix([[10, 10], [0, 0], [1, 1]])\n",
    "print(m)\n",
    "m1 = m.transpose()\n",
    "print(m)\n",
    "print(m1)\n",
    "\n",
    "print('Task 3 check 3')\n",
    "m = Matrix([[10, 10], [0, 0], [1, 1]])\n",
    "print(m)\n",
    "print(Matrix.transposed(m))\n",
    "print(m)\n"
   ]
  },
  {
   "cell_type": "markdown",
   "metadata": {
    "collapsed": true
   },
   "source": [
    "## Task 4: Linear Algebra Methods"
   ]
  },
  {
   "cell_type": "code",
   "execution_count": 143,
   "metadata": {
    "collapsed": false
   },
   "outputs": [
    {
     "name": "stdout",
     "output_type": "stream",
     "text": [
      "[[1, 0, 0, 1], [0, 1, 0, 1], [0, 0, 1, 1]]\n",
      "1\n",
      "[0, 1, 2]\n",
      "new [[1.0, 0.0, 0.0, 1.0], [0, 1, 0, 1], [0, 0, 1, 1]]\n",
      "[[1.0, 0.0, 0.0, 1.0], [0, 1.0, 0, 0.0], [0, 0, 1.0, 0.0]]\n",
      "1\n",
      "[1, 2]\n",
      "new [[1.0, 0.0, 0.0, 1.0], [0, 1.0, 0, 0.0], [0, 0, 1.0, 0.0]]\n",
      "[[1.0, 0.0, 0.0, 1.0], [0, 1.0, 0, 0.0], [0, 0, 1.0, 0.0]]\n",
      "1\n",
      "[2]\n",
      "new [[1.0, 0.0, 0.0, 1.0], [0, 1.0, 0, 0.0], [0, 0, 1.0, 0.0]]\n",
      "[[1.0, 0.0, 0.0, 1.0], [0, 1.0, 0, 0.0], [0, 0, 1.0, 0.0]]\n",
      "[1.0, 0.0, 0.0]\n"
     ]
    }
   ],
   "source": [
    "class MatrixError(BaseException):\n",
    "    def __init__(self, matrix, other):\n",
    "        self.matrix1 = matrix\n",
    "        self.matrix2 = other\n",
    "\n",
    "class Matrix:\n",
    "    def __init__(self, inp):\n",
    "        self.a = []\n",
    "        for i in inp:\n",
    "            self.a.append(i[:])\n",
    "\n",
    "    def __str__(self):\n",
    "        strg = ''\n",
    "        for i in range(len(self.a)):\n",
    "            strg += str(self.a[i][0])\n",
    "            for j in range(1, len(self.a[i])):\n",
    "                strg += '\\t' + str(self.a[i][j])\n",
    "            if i != len(self.a) - 1:\n",
    "                strg += '\\n'\n",
    "        return strg\n",
    "\n",
    "    def size(self):\n",
    "        return len(self.a), len(self.a[0])\n",
    "\n",
    "    def __add__(self, other):\n",
    "        if (self.size() == other.size()):\n",
    "            tmp = []\n",
    "            for i in range(len(self.a)):\n",
    "                tmp_0 = []\n",
    "                for j in range(len(self.a[0])):\n",
    "                    tmp_0.append(self.a[i][j] + other.a[i][j])\n",
    "                tmp.append(tmp_0)\n",
    "        else:\n",
    "            raise MatrixError(self, other)\n",
    "        return Matrix(tmp)\n",
    "\n",
    "    def __mul__(self, m):\n",
    "        tmp = []\n",
    "        for i in range(len(self.a)):\n",
    "            tmp_0 = []\n",
    "            for j in range(len(self.a[0])):\n",
    "                tmp_0.append(self.a[i][j]*m)\n",
    "            tmp.append(tmp_0)\n",
    "        return Matrix(tmp)\n",
    "\n",
    "    __rmul__ = __mul__\n",
    "\n",
    "    @staticmethod\n",
    "    def transposed(self):\n",
    "        tmp = []\n",
    "        for i in range(len(self.a[0])):\n",
    "            tmp_0 = []\n",
    "            for j in range(len(self.a)):\n",
    "                tmp_0.append(self.a[j][i])\n",
    "            tmp.append(tmp_0)\n",
    "        return Matrix(tmp)\n",
    "   \n",
    "    def transpose(self):\n",
    "        self.a = (Matrix.transposed(self)).a[:]\n",
    "        return self\n",
    "#new methods\n",
    "    def solve(self, x):\n",
    "        tmp = self.a[:]\n",
    "        [tmp[i].append(x[i]) for i in range(len(tmp))]\n",
    "        print(tmp)\n",
    "        k = 0\n",
    "        while k < len(self.a):\n",
    "            maxx = (max([max(i) for i in self.a[k:]]))\n",
    "            print(maxx)\n",
    "            ind = [self.a.index(i) for i in self.a[k:] if maxx in i]\n",
    "            print(ind)\n",
    "            tmp[k], tmp[ind[0]] = tmp[ind[0]], tmp[k]\n",
    "            tmp = list(map(lambda a: [i / a[0] if a[0] else i for i in a ], tmp))\n",
    "            print('new', tmp)\n",
    "            for i in range(k + 1, len(self.a)):\n",
    "                for j in range(len(tmp[k])):\n",
    "                    if tmp[i][j] != 0:\n",
    "                        tmp[i][j] -= tmp[k][j]\n",
    "            print(tmp)\n",
    "            k += 1\n",
    "        res = []\n",
    "        for i in range(len(tmp)):\n",
    "            tmp[i][-1] /= tmp[i][i]\n",
    "            res.append(tmp[i][-1])\n",
    "        return res\n",
    "# Task 5 check 1\n",
    "m = Matrix([[1, 0, 0], [0, 1, 0], [0, 0, 1]])\n",
    "print(m.solve([1,1,1]))"
   ]
  },
  {
   "cell_type": "code",
   "execution_count": 107,
   "metadata": {
    "collapsed": false
   },
   "outputs": [
    {
     "name": "stdout",
     "output_type": "stream",
     "text": [
      "[[1, 1, 0], [0, 1, 1]]\n",
      "[[0.5, 0.5, 0.0, 0.5], [0.0, 0.5, 0.5, 0.5]]\n",
      "[[1, 1, 0, 1], [0, 1, 1, 1]]\n",
      "[1, 1, 1]\n"
     ]
    }
   ],
   "source": [
    "aa = [[1,1,0],[0,1,1]]\n",
    "print(aa)\n",
    "x = [1, 1, 1]\n",
    "b = [aa[i].append(x[i]) for i in range(len(aa))]\n",
    "print(list(map(lambda a: [i/2 for i in a], aa)))\n",
    "print(aa)\n",
    "print(x)"
   ]
  },
  {
   "cell_type": "code",
   "execution_count": null,
   "metadata": {
    "collapsed": true
   },
   "outputs": [],
   "source": []
  }
 ],
 "metadata": {
  "anaconda-cloud": {},
  "kernelspec": {
   "display_name": "Python [default]",
   "language": "python",
   "name": "python3"
  },
  "language_info": {
   "codemirror_mode": {
    "name": "ipython",
    "version": 3
   },
   "file_extension": ".py",
   "mimetype": "text/x-python",
   "name": "python",
   "nbconvert_exporter": "python",
   "pygments_lexer": "ipython3",
   "version": "3.5.2"
  }
 },
 "nbformat": 4,
 "nbformat_minor": 1
}
