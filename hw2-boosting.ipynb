{
 "cells": [
  {
   "cell_type": "markdown",
   "metadata": {},
   "source": [
    "# Домашнее задание 2"
   ]
  },
  {
   "cell_type": "markdown",
   "metadata": {},
   "source": [
    "Используя датасет [STUDENT ALCOHOL CONSUMPTION](https://archive.ics.uci.edu/ml/datasets/STUDENT+ALCOHOL+CONSUMPTION#) и статью \"USING\tDATA\tMINING\tTO\tPREDICT\tSECONDARY SCHOOL\tSTUDENT\tALCOHOL\tCONSUMPTION\" выполните следующие задания:"
   ]
  },
  {
   "cell_type": "code",
   "execution_count": 1,
   "metadata": {
    "collapsed": true
   },
   "outputs": [],
   "source": [
    "import pandas as pd\n",
    "import numpy as np\n",
    "import matplotlib.pyplot as plt\n",
    "%matplotlib inline"
   ]
  },
  {
   "cell_type": "markdown",
   "metadata": {},
   "source": [
    "### Предобработка (Max 2)\n",
    "- Приведите описание признаков датасета на русском языке с указанием типа данных (0.3 балла)\n",
    "- Предобработка данных (1.7)\n",
    "    - Проверьте наличие пропусков. В случае наличия пропусков заполните их медианными значениями (0.4)\n",
    "    - Подсчитайте количество людей, у которых матери с образованием \"0\" (0.4)\n",
    "    - Преобразуйте все номинальные признаки в несколько признаков с бинарным значение (0.4)\n",
    "    - Используя объект [SelectKBest](http://scikit-learn.org/stable/modules/generated/sklearn.feature_selection.SelectKBest.html#sklearn.feature_selection.SelectKBest) с параметром [f_regression](http://scikit-learn.org/stable/modules/generated/sklearn.feature_selection.f_regression.html#sklearn.feature_selection.f_regression)  выберите два признака, которые наиболее сильно связаны с признаком G3 (0.5)"
   ]
  },
  {
   "cell_type": "code",
   "execution_count": 2,
   "metadata": {
    "collapsed": false,
    "scrolled": true
   },
   "outputs": [
    {
     "name": "stdout",
     "output_type": "stream",
     "text": [
      "# Attributes for both student-mat.csv (Math course) and student-por.csv (Portuguese language course) datasets:\n",
      "\n",
      "1 school - student's school (binary: \"GP\" - Gabriel Pereira or \"MS\" - Mousinho da Silveira)\n",
      "\n",
      "2 sex - student's sex (binary: \"F\" - female or \"M\" - male)\n",
      "\n",
      "3 age - student's age (numeric: from 15 to 22)\n",
      "\n",
      "4 address - student's home address type (binary: \"U\" - urban or \"R\" - rural)\n",
      "\n",
      "5 famsize - family size (binary: \"LE3\" - less or equal to 3 or \"GT3\" - greater than 3)\n",
      "\n",
      "6 Pstatus - parent's cohabitation status (binary: \"T\" - living together or \"A\" - apart)\n",
      "\n",
      "7 Medu - mother's education (numeric: 0 - none,  1 - primary education (4th grade), 2 – 5th to 9th grade, 3 – secondary education or 4 – higher education)\n",
      "\n",
      "8 Fedu - father's education (numeric: 0 - none,  1 - primary education (4th grade), 2 – 5th to 9th grade, 3 – secondary education or 4 – higher education)\n",
      "\n",
      "9 Mjob - mother's job (nominal: \"teacher\", \"health\" care related, civil \"services\" (e.g. administrative or police), \"at_home\" or \"other\")\n",
      "\n",
      "10 Fjob - father's job (nominal: \"teacher\", \"health\" care related, civil \"services\" (e.g. administrative or police), \"at_home\" or \"other\")\n",
      "\n",
      "11 reason - reason to choose this school (nominal: close to \"home\", school \"reputation\", \"course\" preference or \"other\")\n",
      "\n",
      "12 guardian - student's guardian (nominal: \"mother\", \"father\" or \"other\")\n",
      "\n",
      "13 traveltime - home to school travel time (numeric: 1 - <15 min., 2 - 15 to 30 min., 3 - 30 min. to 1 hour, or 4 - >1 hour)\n",
      "\n",
      "14 studytime - weekly study time (numeric: 1 - <2 hours, 2 - 2 to 5 hours, 3 - 5 to 10 hours, or 4 - >10 hours)\n",
      "\n",
      "15 failures - number of past class failures (numeric: n if 1<=n<3, else 4)\n",
      "\n",
      "16 schoolsup - extra educational support (binary: yes or no)\n",
      "\n",
      "17 famsup - family educational support (binary: yes or no)\n",
      "\n",
      "18 paid - extra paid classes within the course subject (Math or Portuguese) (binary: yes or no)\n",
      "\n",
      "19 activities - extra-curricular activities (binary: yes or no)\n",
      "\n",
      "20 nursery - attended nursery school (binary: yes or no)\n",
      "\n",
      "21 higher - wants to take higher education (binary: yes or no)\n",
      "\n",
      "22 internet - Internet access at home (binary: yes or no)\n",
      "\n",
      "23 romantic - with a romantic relationship (binary: yes or no)\n",
      "\n",
      "24 famrel - quality of family relationships (numeric: from 1 - very bad to 5 - excellent)\n",
      "\n",
      "25 freetime - free time after school (numeric: from 1 - very low to 5 - very high)\n",
      "\n",
      "26 goout - going out with friends (numeric: from 1 - very low to 5 - very high)\n",
      "\n",
      "27 Dalc - workday alcohol consumption (numeric: from 1 - very low to 5 - very high)\n",
      "\n",
      "28 Walc - weekend alcohol consumption (numeric: from 1 - very low to 5 - very high)\n",
      "\n",
      "29 health - current health status (numeric: from 1 - very bad to 5 - very good)\n",
      "\n",
      "30 absences - number of school absences (numeric: from 0 to 93)\n",
      "\n",
      "\n",
      "\n",
      "# these grades are related with the course subject, Math or Portuguese:\n",
      "\n",
      "31 G1 - first period grade (numeric: from 0 to 20)\n",
      "\n",
      "31 G2 - second period grade (numeric: from 0 to 20)\n",
      "\n",
      "32 G3 - final grade (numeric: from 0 to 20, output target)\n",
      "\n",
      "\n",
      "\n",
      "Additional note: there are several (382) students that belong to both datasets . \n",
      "\n",
      "These students can be identified by searching for identical attributes\n",
      "\n",
      "that characterize each student, as shown in the annexed R file.\n",
      "\n"
     ]
    }
   ],
   "source": [
    "descr = open('data/student.txt')\n",
    "for i in descr:\n",
    "    print(i)"
   ]
  },
  {
   "cell_type": "markdown",
   "metadata": {},
   "source": [
    "## Перевод:\n",
    "### student-por.csv (Студенты курса португальского языка). Описание датасета:\n",
    "1. **school** - Школа (Бинарный признак: \"GP\" - Gabriel Pereira или \"MS\" - Mousinho da Silveira)<br>\n",
    "2. **sex** - Пол (Бинарный признак: \"F\" - женский или \"M\" - мужской)\n",
    "3. **age** - Возраст (Порядковый признак: от 15 до 22)\n",
    "4. **address** - Тип места проживания (Бинарный признак: \"U\" - Город или \"R\" - Деревня)\n",
    "5. **famsize** - Размер семьи (Бинарный признак: \"LE3\" - (<=3) человек или \"GT3\" - (>3) человек)\n",
    "6. **Pstatus** - Совместная жизнь супругов-родителей (Бинарный признак: \"T\" - живут вместе или \"A\" - живут раздельно)\n",
    "7. **Medu** - Образование матери (Порядковый признак: 0 - Без образования, 1 - начальное образование (до 4го класса), 2 – с 5го по 6й класс, 3 – среднее образование or 4 – высшее образование)\n",
    "8. **Fedu** - Образование отца (Порядковый признак: 0 - Без образования, 1 - начальное образование (до 4го класса), 2 – с 5го по 6й класс, 3 – среднее образование or 4 – высшее образование)\n",
    "9. **Mjob** - Работа матери (Номинальный признак: \"teacher\", \"health\" если относится к уходу, гражданские \"services\" (e.g. администрация или полиция), \"at_home\" или \"other\")\n",
    "10. **Fjob** - Работа отца (Номинальный признак: \"teacher\", \"health\" если относится к уходу, гражданские \"services\" (e.g. администрация или полиция), \"at_home\" или \"other\")\n",
    "11. **reason** - Причина поступления в данную школу (Номинальный признак: близко к \"home\", школьная \"reputation\", \"course\" предпочтения или \"other\")\n",
    "12. **guardian** - опекун (Номинальный признак: \"mother\", \"father\" or \"other\")\n",
    "13. **traveltime** - Время от дома до школы (Порядковый признак: 1 - 1 hour)\n",
    "14. **studytime** - Время, которое тратится на обучение в неделю (Порядковый признак: 1 - 10 hours)\n",
    "15. **failures** - Несданные предметы (Порядковый признак: n if 1<=n<3, else 4)\n",
    "16. **schoolsup** - Школьная поддержка отстающих в учебе учеников (Бинарный признак: yes или no)\n",
    "17. **famsup** - Семейная поддержка по учебе (Бинарный признак: yes or no)\n",
    "18. **paid** - Дополнительные оплачиваемые классы по предметам курса (Бинарный признак: yes or no)\n",
    "19. **activities** - Внеклассные занятия (Бинарный признак: yes or no)\n",
    "20. **nursery** - Поступление в детский сад (Бинарный признак: yes or no) (Боже, я думал это врачебная помощь)\n",
    "21. **higher** - Желание получить высшее образование (Бинарный признак: yes or no)\n",
    "22. **internet** - Наличие интернета дома (Бинарный признак: yes or no)\n",
    "23. **romantic** - Тратит ли свою жизнь на девушек (Бинарный признак: yes or no)\n",
    "24. **famrel** - Качество семейных отношений (Порядковый признак: from 1 - очень плохие to 5 - очешуительные)\n",
    "25. **freetime** - Обьем свободного времени после школы (Порядковый признак: from 1 - очень мало to 5 - очень много)\n",
    "26. **goout** - Прогулки с друзьями (частота кажется) (Порядковый признак: from 1 - очень низко to 5 - очень высоко)\n",
    "27. **Dalc** - Потребление алкоголя в течение рабочего дня (Порядковый признак: from 1 - очень низкое to 5 - очень высокое)\n",
    "28. **Walc** - Потребление алкоголя в выходные дни (Порядковый признак: from 1 - очень низкое to 5 - очень высокое)\n",
    "29. **health** - Состояние здоровья на данный момент (Порядковый признак: from 1 - очень бэд to 5 - очень гуд)\n",
    "30. **absences** - Количество пропусков школки (Порядковый признак: from 0 to 93)\n",
    "31. **G1** - Оценка в первом учебном году (Порядковый признак: from 0 to 20)\n",
    "32. **G2** - Оценка во втором учебном году (Порядковый признак: from 0 to 20)\n",
    "33. **G3** - Результирующая оценка (Порядковый признак: from 0 to 20, выходной таргет)"
   ]
  },
  {
   "cell_type": "code",
   "execution_count": 3,
   "metadata": {
    "collapsed": false
   },
   "outputs": [],
   "source": [
    "# было решено смотреть данные только из таблицы с большим числом обьектов.\n",
    "data_por = pd.read_csv('data/student-por.csv', sep=';')"
   ]
  },
  {
   "cell_type": "code",
   "execution_count": 4,
   "metadata": {
    "collapsed": false
   },
   "outputs": [
    {
     "data": {
      "text/html": [
       "<div>\n",
       "<style>\n",
       "    .dataframe thead tr:only-child th {\n",
       "        text-align: right;\n",
       "    }\n",
       "\n",
       "    .dataframe thead th {\n",
       "        text-align: left;\n",
       "    }\n",
       "\n",
       "    .dataframe tbody tr th {\n",
       "        vertical-align: top;\n",
       "    }\n",
       "</style>\n",
       "<table border=\"1\" class=\"dataframe\">\n",
       "  <thead>\n",
       "    <tr style=\"text-align: right;\">\n",
       "      <th></th>\n",
       "      <th>school</th>\n",
       "      <th>sex</th>\n",
       "      <th>age</th>\n",
       "      <th>address</th>\n",
       "      <th>famsize</th>\n",
       "      <th>Pstatus</th>\n",
       "      <th>Medu</th>\n",
       "      <th>Fedu</th>\n",
       "      <th>Mjob</th>\n",
       "      <th>Fjob</th>\n",
       "      <th>...</th>\n",
       "      <th>famrel</th>\n",
       "      <th>freetime</th>\n",
       "      <th>goout</th>\n",
       "      <th>Dalc</th>\n",
       "      <th>Walc</th>\n",
       "      <th>health</th>\n",
       "      <th>absences</th>\n",
       "      <th>G1</th>\n",
       "      <th>G2</th>\n",
       "      <th>G3</th>\n",
       "    </tr>\n",
       "  </thead>\n",
       "  <tbody>\n",
       "    <tr>\n",
       "      <th>0</th>\n",
       "      <td>GP</td>\n",
       "      <td>F</td>\n",
       "      <td>18</td>\n",
       "      <td>U</td>\n",
       "      <td>GT3</td>\n",
       "      <td>A</td>\n",
       "      <td>4</td>\n",
       "      <td>4</td>\n",
       "      <td>at_home</td>\n",
       "      <td>teacher</td>\n",
       "      <td>...</td>\n",
       "      <td>4</td>\n",
       "      <td>3</td>\n",
       "      <td>4</td>\n",
       "      <td>1</td>\n",
       "      <td>1</td>\n",
       "      <td>3</td>\n",
       "      <td>4</td>\n",
       "      <td>0</td>\n",
       "      <td>11</td>\n",
       "      <td>11</td>\n",
       "    </tr>\n",
       "    <tr>\n",
       "      <th>1</th>\n",
       "      <td>GP</td>\n",
       "      <td>F</td>\n",
       "      <td>17</td>\n",
       "      <td>U</td>\n",
       "      <td>GT3</td>\n",
       "      <td>T</td>\n",
       "      <td>1</td>\n",
       "      <td>1</td>\n",
       "      <td>at_home</td>\n",
       "      <td>other</td>\n",
       "      <td>...</td>\n",
       "      <td>5</td>\n",
       "      <td>3</td>\n",
       "      <td>3</td>\n",
       "      <td>1</td>\n",
       "      <td>1</td>\n",
       "      <td>3</td>\n",
       "      <td>2</td>\n",
       "      <td>9</td>\n",
       "      <td>11</td>\n",
       "      <td>11</td>\n",
       "    </tr>\n",
       "    <tr>\n",
       "      <th>2</th>\n",
       "      <td>GP</td>\n",
       "      <td>F</td>\n",
       "      <td>15</td>\n",
       "      <td>U</td>\n",
       "      <td>LE3</td>\n",
       "      <td>T</td>\n",
       "      <td>1</td>\n",
       "      <td>1</td>\n",
       "      <td>at_home</td>\n",
       "      <td>other</td>\n",
       "      <td>...</td>\n",
       "      <td>4</td>\n",
       "      <td>3</td>\n",
       "      <td>2</td>\n",
       "      <td>2</td>\n",
       "      <td>3</td>\n",
       "      <td>3</td>\n",
       "      <td>6</td>\n",
       "      <td>12</td>\n",
       "      <td>13</td>\n",
       "      <td>12</td>\n",
       "    </tr>\n",
       "  </tbody>\n",
       "</table>\n",
       "<p>3 rows × 33 columns</p>\n",
       "</div>"
      ],
      "text/plain": [
       "  school sex  age address famsize Pstatus  Medu  Fedu     Mjob     Fjob ...  \\\n",
       "0     GP   F   18       U     GT3       A     4     4  at_home  teacher ...   \n",
       "1     GP   F   17       U     GT3       T     1     1  at_home    other ...   \n",
       "2     GP   F   15       U     LE3       T     1     1  at_home    other ...   \n",
       "\n",
       "  famrel freetime  goout  Dalc  Walc health absences  G1  G2  G3  \n",
       "0      4        3      4     1     1      3        4   0  11  11  \n",
       "1      5        3      3     1     1      3        2   9  11  11  \n",
       "2      4        3      2     2     3      3        6  12  13  12  \n",
       "\n",
       "[3 rows x 33 columns]"
      ]
     },
     "execution_count": 4,
     "metadata": {},
     "output_type": "execute_result"
    }
   ],
   "source": [
    "data_por.head(3)"
   ]
  },
  {
   "cell_type": "code",
   "execution_count": 5,
   "metadata": {
    "collapsed": false
   },
   "outputs": [
    {
     "data": {
      "text/html": [
       "<div>\n",
       "<style>\n",
       "    .dataframe thead tr:only-child th {\n",
       "        text-align: right;\n",
       "    }\n",
       "\n",
       "    .dataframe thead th {\n",
       "        text-align: left;\n",
       "    }\n",
       "\n",
       "    .dataframe tbody tr th {\n",
       "        vertical-align: top;\n",
       "    }\n",
       "</style>\n",
       "<table border=\"1\" class=\"dataframe\">\n",
       "  <thead>\n",
       "    <tr style=\"text-align: right;\">\n",
       "      <th></th>\n",
       "      <th>age</th>\n",
       "      <th>Medu</th>\n",
       "      <th>Fedu</th>\n",
       "      <th>traveltime</th>\n",
       "      <th>studytime</th>\n",
       "      <th>failures</th>\n",
       "      <th>famrel</th>\n",
       "      <th>freetime</th>\n",
       "      <th>goout</th>\n",
       "      <th>Dalc</th>\n",
       "      <th>Walc</th>\n",
       "      <th>health</th>\n",
       "      <th>absences</th>\n",
       "      <th>G1</th>\n",
       "      <th>G2</th>\n",
       "      <th>G3</th>\n",
       "    </tr>\n",
       "  </thead>\n",
       "  <tbody>\n",
       "    <tr>\n",
       "      <th>count</th>\n",
       "      <td>649.000000</td>\n",
       "      <td>649.000000</td>\n",
       "      <td>649.000000</td>\n",
       "      <td>649.000000</td>\n",
       "      <td>649.000000</td>\n",
       "      <td>649.000000</td>\n",
       "      <td>649.000000</td>\n",
       "      <td>649.000000</td>\n",
       "      <td>649.000000</td>\n",
       "      <td>649.000000</td>\n",
       "      <td>649.000000</td>\n",
       "      <td>649.000000</td>\n",
       "      <td>649.000000</td>\n",
       "      <td>649.000000</td>\n",
       "      <td>649.000000</td>\n",
       "      <td>649.000000</td>\n",
       "    </tr>\n",
       "    <tr>\n",
       "      <th>mean</th>\n",
       "      <td>16.744222</td>\n",
       "      <td>2.514638</td>\n",
       "      <td>2.306626</td>\n",
       "      <td>1.568567</td>\n",
       "      <td>1.930663</td>\n",
       "      <td>0.221880</td>\n",
       "      <td>3.930663</td>\n",
       "      <td>3.180277</td>\n",
       "      <td>3.184900</td>\n",
       "      <td>1.502311</td>\n",
       "      <td>2.280431</td>\n",
       "      <td>3.536210</td>\n",
       "      <td>3.659476</td>\n",
       "      <td>11.399076</td>\n",
       "      <td>11.570108</td>\n",
       "      <td>11.906009</td>\n",
       "    </tr>\n",
       "    <tr>\n",
       "      <th>std</th>\n",
       "      <td>1.218138</td>\n",
       "      <td>1.134552</td>\n",
       "      <td>1.099931</td>\n",
       "      <td>0.748660</td>\n",
       "      <td>0.829510</td>\n",
       "      <td>0.593235</td>\n",
       "      <td>0.955717</td>\n",
       "      <td>1.051093</td>\n",
       "      <td>1.175766</td>\n",
       "      <td>0.924834</td>\n",
       "      <td>1.284380</td>\n",
       "      <td>1.446259</td>\n",
       "      <td>4.640759</td>\n",
       "      <td>2.745265</td>\n",
       "      <td>2.913639</td>\n",
       "      <td>3.230656</td>\n",
       "    </tr>\n",
       "    <tr>\n",
       "      <th>min</th>\n",
       "      <td>15.000000</td>\n",
       "      <td>0.000000</td>\n",
       "      <td>0.000000</td>\n",
       "      <td>1.000000</td>\n",
       "      <td>1.000000</td>\n",
       "      <td>0.000000</td>\n",
       "      <td>1.000000</td>\n",
       "      <td>1.000000</td>\n",
       "      <td>1.000000</td>\n",
       "      <td>1.000000</td>\n",
       "      <td>1.000000</td>\n",
       "      <td>1.000000</td>\n",
       "      <td>0.000000</td>\n",
       "      <td>0.000000</td>\n",
       "      <td>0.000000</td>\n",
       "      <td>0.000000</td>\n",
       "    </tr>\n",
       "    <tr>\n",
       "      <th>25%</th>\n",
       "      <td>16.000000</td>\n",
       "      <td>2.000000</td>\n",
       "      <td>1.000000</td>\n",
       "      <td>1.000000</td>\n",
       "      <td>1.000000</td>\n",
       "      <td>0.000000</td>\n",
       "      <td>4.000000</td>\n",
       "      <td>3.000000</td>\n",
       "      <td>2.000000</td>\n",
       "      <td>1.000000</td>\n",
       "      <td>1.000000</td>\n",
       "      <td>2.000000</td>\n",
       "      <td>0.000000</td>\n",
       "      <td>10.000000</td>\n",
       "      <td>10.000000</td>\n",
       "      <td>10.000000</td>\n",
       "    </tr>\n",
       "    <tr>\n",
       "      <th>50%</th>\n",
       "      <td>17.000000</td>\n",
       "      <td>2.000000</td>\n",
       "      <td>2.000000</td>\n",
       "      <td>1.000000</td>\n",
       "      <td>2.000000</td>\n",
       "      <td>0.000000</td>\n",
       "      <td>4.000000</td>\n",
       "      <td>3.000000</td>\n",
       "      <td>3.000000</td>\n",
       "      <td>1.000000</td>\n",
       "      <td>2.000000</td>\n",
       "      <td>4.000000</td>\n",
       "      <td>2.000000</td>\n",
       "      <td>11.000000</td>\n",
       "      <td>11.000000</td>\n",
       "      <td>12.000000</td>\n",
       "    </tr>\n",
       "    <tr>\n",
       "      <th>75%</th>\n",
       "      <td>18.000000</td>\n",
       "      <td>4.000000</td>\n",
       "      <td>3.000000</td>\n",
       "      <td>2.000000</td>\n",
       "      <td>2.000000</td>\n",
       "      <td>0.000000</td>\n",
       "      <td>5.000000</td>\n",
       "      <td>4.000000</td>\n",
       "      <td>4.000000</td>\n",
       "      <td>2.000000</td>\n",
       "      <td>3.000000</td>\n",
       "      <td>5.000000</td>\n",
       "      <td>6.000000</td>\n",
       "      <td>13.000000</td>\n",
       "      <td>13.000000</td>\n",
       "      <td>14.000000</td>\n",
       "    </tr>\n",
       "    <tr>\n",
       "      <th>max</th>\n",
       "      <td>22.000000</td>\n",
       "      <td>4.000000</td>\n",
       "      <td>4.000000</td>\n",
       "      <td>4.000000</td>\n",
       "      <td>4.000000</td>\n",
       "      <td>3.000000</td>\n",
       "      <td>5.000000</td>\n",
       "      <td>5.000000</td>\n",
       "      <td>5.000000</td>\n",
       "      <td>5.000000</td>\n",
       "      <td>5.000000</td>\n",
       "      <td>5.000000</td>\n",
       "      <td>32.000000</td>\n",
       "      <td>19.000000</td>\n",
       "      <td>19.000000</td>\n",
       "      <td>19.000000</td>\n",
       "    </tr>\n",
       "  </tbody>\n",
       "</table>\n",
       "</div>"
      ],
      "text/plain": [
       "              age        Medu        Fedu  traveltime   studytime    failures  \\\n",
       "count  649.000000  649.000000  649.000000  649.000000  649.000000  649.000000   \n",
       "mean    16.744222    2.514638    2.306626    1.568567    1.930663    0.221880   \n",
       "std      1.218138    1.134552    1.099931    0.748660    0.829510    0.593235   \n",
       "min     15.000000    0.000000    0.000000    1.000000    1.000000    0.000000   \n",
       "25%     16.000000    2.000000    1.000000    1.000000    1.000000    0.000000   \n",
       "50%     17.000000    2.000000    2.000000    1.000000    2.000000    0.000000   \n",
       "75%     18.000000    4.000000    3.000000    2.000000    2.000000    0.000000   \n",
       "max     22.000000    4.000000    4.000000    4.000000    4.000000    3.000000   \n",
       "\n",
       "           famrel    freetime       goout        Dalc        Walc      health  \\\n",
       "count  649.000000  649.000000  649.000000  649.000000  649.000000  649.000000   \n",
       "mean     3.930663    3.180277    3.184900    1.502311    2.280431    3.536210   \n",
       "std      0.955717    1.051093    1.175766    0.924834    1.284380    1.446259   \n",
       "min      1.000000    1.000000    1.000000    1.000000    1.000000    1.000000   \n",
       "25%      4.000000    3.000000    2.000000    1.000000    1.000000    2.000000   \n",
       "50%      4.000000    3.000000    3.000000    1.000000    2.000000    4.000000   \n",
       "75%      5.000000    4.000000    4.000000    2.000000    3.000000    5.000000   \n",
       "max      5.000000    5.000000    5.000000    5.000000    5.000000    5.000000   \n",
       "\n",
       "         absences          G1          G2          G3  \n",
       "count  649.000000  649.000000  649.000000  649.000000  \n",
       "mean     3.659476   11.399076   11.570108   11.906009  \n",
       "std      4.640759    2.745265    2.913639    3.230656  \n",
       "min      0.000000    0.000000    0.000000    0.000000  \n",
       "25%      0.000000   10.000000   10.000000   10.000000  \n",
       "50%      2.000000   11.000000   11.000000   12.000000  \n",
       "75%      6.000000   13.000000   13.000000   14.000000  \n",
       "max     32.000000   19.000000   19.000000   19.000000  "
      ]
     },
     "execution_count": 5,
     "metadata": {},
     "output_type": "execute_result"
    }
   ],
   "source": [
    "data_por.describe()"
   ]
  },
  {
   "cell_type": "code",
   "execution_count": 6,
   "metadata": {
    "collapsed": false
   },
   "outputs": [
    {
     "data": {
      "text/html": [
       "<div>\n",
       "<style>\n",
       "    .dataframe thead tr:only-child th {\n",
       "        text-align: right;\n",
       "    }\n",
       "\n",
       "    .dataframe thead th {\n",
       "        text-align: left;\n",
       "    }\n",
       "\n",
       "    .dataframe tbody tr th {\n",
       "        vertical-align: top;\n",
       "    }\n",
       "</style>\n",
       "<table border=\"1\" class=\"dataframe\">\n",
       "  <thead>\n",
       "    <tr style=\"text-align: right;\">\n",
       "      <th></th>\n",
       "      <th>school</th>\n",
       "      <th>sex</th>\n",
       "      <th>age</th>\n",
       "      <th>address</th>\n",
       "      <th>famsize</th>\n",
       "      <th>Pstatus</th>\n",
       "      <th>Medu</th>\n",
       "      <th>Fedu</th>\n",
       "      <th>Mjob</th>\n",
       "      <th>Fjob</th>\n",
       "      <th>...</th>\n",
       "      <th>famrel</th>\n",
       "      <th>freetime</th>\n",
       "      <th>goout</th>\n",
       "      <th>Dalc</th>\n",
       "      <th>Walc</th>\n",
       "      <th>health</th>\n",
       "      <th>absences</th>\n",
       "      <th>G1</th>\n",
       "      <th>G2</th>\n",
       "      <th>G3</th>\n",
       "    </tr>\n",
       "  </thead>\n",
       "  <tbody>\n",
       "  </tbody>\n",
       "</table>\n",
       "<p>0 rows × 33 columns</p>\n",
       "</div>"
      ],
      "text/plain": [
       "Empty DataFrame\n",
       "Columns: [school, sex, age, address, famsize, Pstatus, Medu, Fedu, Mjob, Fjob, reason, guardian, traveltime, studytime, failures, schoolsup, famsup, paid, activities, nursery, higher, internet, romantic, famrel, freetime, goout, Dalc, Walc, health, absences, G1, G2, G3]\n",
       "Index: []\n",
       "\n",
       "[0 rows x 33 columns]"
      ]
     },
     "execution_count": 6,
     "metadata": {},
     "output_type": "execute_result"
    }
   ],
   "source": [
    "data_por[data_por.isnull().any(axis=1)]"
   ]
  },
  {
   "cell_type": "markdown",
   "metadata": {},
   "source": [
    "### No NaNs detected!\n",
    "\n",
    "Проверил на пропуски с помощью isnull().any(axis=1). Явных пропусков выявлено не было. \n",
    "Также на всякий случай прочекал наличие скрытых NaN таких, как цифры -999 в вещественных или целочисленных признаках. Глянул поля min и max в describe() - скрытых пропусков не обнаружил.\n",
    "\n",
    "Если почитать внимательно статью, то можно обнаружить следущий абзац:<p></p>\n",
    "![NaNs in paper](https://github.com/BobrG/IreneGit/blob/master/data/nans_hw2_boosting.png?raw=true)"
   ]
  },
  {
   "cell_type": "markdown",
   "metadata": {},
   "source": [
    "### Посчитаем число матерей без образования.\n",
    "(и пусть нам это дальше не пригодится....)"
   ]
  },
  {
   "cell_type": "code",
   "execution_count": 7,
   "metadata": {
    "collapsed": false
   },
   "outputs": [
    {
     "data": {
      "text/html": [
       "<div>\n",
       "<style>\n",
       "    .dataframe thead tr:only-child th {\n",
       "        text-align: right;\n",
       "    }\n",
       "\n",
       "    .dataframe thead th {\n",
       "        text-align: left;\n",
       "    }\n",
       "\n",
       "    .dataframe tbody tr th {\n",
       "        vertical-align: top;\n",
       "    }\n",
       "</style>\n",
       "<table border=\"1\" class=\"dataframe\">\n",
       "  <thead>\n",
       "    <tr style=\"text-align: right;\">\n",
       "      <th></th>\n",
       "      <th>school</th>\n",
       "      <th>sex</th>\n",
       "      <th>age</th>\n",
       "      <th>address</th>\n",
       "      <th>famsize</th>\n",
       "      <th>Pstatus</th>\n",
       "      <th>Medu</th>\n",
       "      <th>Fedu</th>\n",
       "      <th>Mjob</th>\n",
       "      <th>Fjob</th>\n",
       "      <th>...</th>\n",
       "      <th>famrel</th>\n",
       "      <th>freetime</th>\n",
       "      <th>goout</th>\n",
       "      <th>Dalc</th>\n",
       "      <th>Walc</th>\n",
       "      <th>health</th>\n",
       "      <th>absences</th>\n",
       "      <th>G1</th>\n",
       "      <th>G2</th>\n",
       "      <th>G3</th>\n",
       "    </tr>\n",
       "  </thead>\n",
       "  <tbody>\n",
       "    <tr>\n",
       "      <th>127</th>\n",
       "      <td>GP</td>\n",
       "      <td>F</td>\n",
       "      <td>19</td>\n",
       "      <td>U</td>\n",
       "      <td>GT3</td>\n",
       "      <td>T</td>\n",
       "      <td>0</td>\n",
       "      <td>1</td>\n",
       "      <td>at_home</td>\n",
       "      <td>other</td>\n",
       "      <td>...</td>\n",
       "      <td>3</td>\n",
       "      <td>4</td>\n",
       "      <td>2</td>\n",
       "      <td>1</td>\n",
       "      <td>1</td>\n",
       "      <td>5</td>\n",
       "      <td>0</td>\n",
       "      <td>9</td>\n",
       "      <td>10</td>\n",
       "      <td>11</td>\n",
       "    </tr>\n",
       "    <tr>\n",
       "      <th>281</th>\n",
       "      <td>GP</td>\n",
       "      <td>M</td>\n",
       "      <td>16</td>\n",
       "      <td>U</td>\n",
       "      <td>GT3</td>\n",
       "      <td>T</td>\n",
       "      <td>0</td>\n",
       "      <td>2</td>\n",
       "      <td>other</td>\n",
       "      <td>other</td>\n",
       "      <td>...</td>\n",
       "      <td>4</td>\n",
       "      <td>3</td>\n",
       "      <td>2</td>\n",
       "      <td>2</td>\n",
       "      <td>4</td>\n",
       "      <td>5</td>\n",
       "      <td>0</td>\n",
       "      <td>11</td>\n",
       "      <td>12</td>\n",
       "      <td>11</td>\n",
       "    </tr>\n",
       "    <tr>\n",
       "      <th>375</th>\n",
       "      <td>GP</td>\n",
       "      <td>F</td>\n",
       "      <td>17</td>\n",
       "      <td>U</td>\n",
       "      <td>LE3</td>\n",
       "      <td>T</td>\n",
       "      <td>0</td>\n",
       "      <td>2</td>\n",
       "      <td>at_home</td>\n",
       "      <td>at_home</td>\n",
       "      <td>...</td>\n",
       "      <td>3</td>\n",
       "      <td>3</td>\n",
       "      <td>3</td>\n",
       "      <td>2</td>\n",
       "      <td>3</td>\n",
       "      <td>2</td>\n",
       "      <td>0</td>\n",
       "      <td>14</td>\n",
       "      <td>14</td>\n",
       "      <td>15</td>\n",
       "    </tr>\n",
       "    <tr>\n",
       "      <th>437</th>\n",
       "      <td>MS</td>\n",
       "      <td>F</td>\n",
       "      <td>16</td>\n",
       "      <td>R</td>\n",
       "      <td>GT3</td>\n",
       "      <td>T</td>\n",
       "      <td>0</td>\n",
       "      <td>2</td>\n",
       "      <td>other</td>\n",
       "      <td>other</td>\n",
       "      <td>...</td>\n",
       "      <td>3</td>\n",
       "      <td>2</td>\n",
       "      <td>3</td>\n",
       "      <td>1</td>\n",
       "      <td>2</td>\n",
       "      <td>2</td>\n",
       "      <td>0</td>\n",
       "      <td>12</td>\n",
       "      <td>11</td>\n",
       "      <td>12</td>\n",
       "    </tr>\n",
       "    <tr>\n",
       "      <th>493</th>\n",
       "      <td>MS</td>\n",
       "      <td>F</td>\n",
       "      <td>17</td>\n",
       "      <td>U</td>\n",
       "      <td>GT3</td>\n",
       "      <td>T</td>\n",
       "      <td>0</td>\n",
       "      <td>1</td>\n",
       "      <td>other</td>\n",
       "      <td>at_home</td>\n",
       "      <td>...</td>\n",
       "      <td>2</td>\n",
       "      <td>4</td>\n",
       "      <td>4</td>\n",
       "      <td>3</td>\n",
       "      <td>5</td>\n",
       "      <td>5</td>\n",
       "      <td>5</td>\n",
       "      <td>9</td>\n",
       "      <td>9</td>\n",
       "      <td>10</td>\n",
       "    </tr>\n",
       "    <tr>\n",
       "      <th>584</th>\n",
       "      <td>MS</td>\n",
       "      <td>F</td>\n",
       "      <td>17</td>\n",
       "      <td>R</td>\n",
       "      <td>GT3</td>\n",
       "      <td>T</td>\n",
       "      <td>0</td>\n",
       "      <td>0</td>\n",
       "      <td>at_home</td>\n",
       "      <td>other</td>\n",
       "      <td>...</td>\n",
       "      <td>4</td>\n",
       "      <td>4</td>\n",
       "      <td>3</td>\n",
       "      <td>1</td>\n",
       "      <td>1</td>\n",
       "      <td>5</td>\n",
       "      <td>0</td>\n",
       "      <td>10</td>\n",
       "      <td>11</td>\n",
       "      <td>11</td>\n",
       "    </tr>\n",
       "  </tbody>\n",
       "</table>\n",
       "<p>6 rows × 33 columns</p>\n",
       "</div>"
      ],
      "text/plain": [
       "    school sex  age address famsize Pstatus  Medu  Fedu     Mjob     Fjob ...  \\\n",
       "127     GP   F   19       U     GT3       T     0     1  at_home    other ...   \n",
       "281     GP   M   16       U     GT3       T     0     2    other    other ...   \n",
       "375     GP   F   17       U     LE3       T     0     2  at_home  at_home ...   \n",
       "437     MS   F   16       R     GT3       T     0     2    other    other ...   \n",
       "493     MS   F   17       U     GT3       T     0     1    other  at_home ...   \n",
       "584     MS   F   17       R     GT3       T     0     0  at_home    other ...   \n",
       "\n",
       "    famrel freetime  goout  Dalc  Walc health absences  G1  G2  G3  \n",
       "127      3        4      2     1     1      5        0   9  10  11  \n",
       "281      4        3      2     2     4      5        0  11  12  11  \n",
       "375      3        3      3     2     3      2        0  14  14  15  \n",
       "437      3        2      3     1     2      2        0  12  11  12  \n",
       "493      2        4      4     3     5      5        5   9   9  10  \n",
       "584      4        4      3     1     1      5        0  10  11  11  \n",
       "\n",
       "[6 rows x 33 columns]"
      ]
     },
     "execution_count": 7,
     "metadata": {},
     "output_type": "execute_result"
    }
   ],
   "source": [
    "data_por[data_por['Medu'] == 0]"
   ]
  },
  {
   "cell_type": "markdown",
   "metadata": {},
   "source": [
    "Найдено 6 обьектов. \n",
    "Ответ 6."
   ]
  },
  {
   "cell_type": "markdown",
   "metadata": {},
   "source": [
    "Binary and Categorial features to transform:\n",
    "* school - student's school (binary: \"GP\" - Gabriel Pereira or \"MS\" - Mousinho da Silveira)<p></p>\n",
    "\n",
    "* sex - student's sex (binary: \"F\" - female or \"M\" - male)<p></p>\n",
    "\n",
    "* address - student's home address type (binary: \"U\" - urban or \"R\" - rural)<p></p>\n",
    "\n",
    "* famsize - family size (binary: \"LE3\" - less or equal to 3 or \"GT3\" - greater than 3)<p></p>\n",
    "\n",
    "* Pstatus - parent's cohabitation status (binary: \"T\" - living together or \"A\" - apart)<p></p>\n",
    "\n",
    "* Mjob - mother's job (nominal: \"teacher\", \"health\" care related, civil \"services\" (e.g. administrative or police), \"at_home\" or \"other\")<p></p>\n",
    "\n",
    "* Fjob - father's job (nominal: \"teacher\", \"health\" care related, civil \"services\" (e.g. administrative or police), \"at_home\" or \"other\")<p></p>\n",
    "\n",
    "* reason - reason to choose this school (nominal: close to \"home\", school \"reputation\", \"course\" preference or \"other\")<p></p>\n",
    "\n",
    "* guardian - student's guardian (nominal: \"mother\", \"father\" or \"other\")<p></p>\n",
    "\n",
    "* schoolsup - extra educational support (binary: yes or no)<p></p>\n",
    "\n",
    "* famsup - family educational support (binary: yes or no)<p></p>\n",
    "\n",
    "* paid - extra paid classes within the course subject (Math or Portuguese) (binary: yes or no)<p></p>\n",
    "\n",
    "* activities - extra-curricular activities (binary: yes or no)<p></p>\n",
    "\n",
    "* nursery - attended nursery school (binary: yes or no)<p></p>\n",
    "\n",
    "* higher - wants to take higher education (binary: yes or no)<p></p>\n",
    "\n",
    "* internet - Internet access at home (binary: yes or no)<p></p>\n",
    "\n",
    "* romantic - with a romantic relationship (binary: yes or no)<p></p>\n"
   ]
  },
  {
   "cell_type": "code",
   "execution_count": 8,
   "metadata": {
    "collapsed": true
   },
   "outputs": [],
   "source": [
    "def convert_to_binary(d, strg):\n",
    "    d[strg] = d[strg].astype('category')\n",
    "    d[strg] = d[strg].cat.codes\n",
    "tmp = ['school', 'sex', 'address', 'famsize', 'Pstatus', 'schoolsup', 'famsup', 'paid',\n",
    "      'activities', 'nursery', 'higher', 'internet', 'romantic']"
   ]
  },
  {
   "cell_type": "code",
   "execution_count": 9,
   "metadata": {
    "collapsed": false
   },
   "outputs": [],
   "source": [
    "[convert_to_binary(data_por, i) for i in tmp]\n",
    "data_por = pd.get_dummies(data_por, columns=['Mjob', 'Fjob', 'reason', 'guardian'])"
   ]
  },
  {
   "cell_type": "code",
   "execution_count": 10,
   "metadata": {
    "collapsed": false
   },
   "outputs": [
    {
     "data": {
      "text/plain": [
       "school                int8\n",
       "sex                   int8\n",
       "age                  int64\n",
       "address               int8\n",
       "famsize               int8\n",
       "Pstatus               int8\n",
       "Medu                 int64\n",
       "Fedu                 int64\n",
       "traveltime           int64\n",
       "studytime            int64\n",
       "failures             int64\n",
       "schoolsup             int8\n",
       "famsup                int8\n",
       "paid                  int8\n",
       "activities            int8\n",
       "nursery               int8\n",
       "higher                int8\n",
       "internet              int8\n",
       "romantic              int8\n",
       "famrel               int64\n",
       "freetime             int64\n",
       "goout                int64\n",
       "Dalc                 int64\n",
       "Walc                 int64\n",
       "health               int64\n",
       "absences             int64\n",
       "G1                   int64\n",
       "G2                   int64\n",
       "G3                   int64\n",
       "Mjob_at_home         uint8\n",
       "Mjob_health          uint8\n",
       "Mjob_other           uint8\n",
       "Mjob_services        uint8\n",
       "Mjob_teacher         uint8\n",
       "Fjob_at_home         uint8\n",
       "Fjob_health          uint8\n",
       "Fjob_other           uint8\n",
       "Fjob_services        uint8\n",
       "Fjob_teacher         uint8\n",
       "reason_course        uint8\n",
       "reason_home          uint8\n",
       "reason_other         uint8\n",
       "reason_reputation    uint8\n",
       "guardian_father      uint8\n",
       "guardian_mother      uint8\n",
       "guardian_other       uint8\n",
       "dtype: object"
      ]
     },
     "execution_count": 10,
     "metadata": {},
     "output_type": "execute_result"
    }
   ],
   "source": [
    "data_por.dtypes"
   ]
  },
  {
   "cell_type": "code",
   "execution_count": 11,
   "metadata": {
    "collapsed": false
   },
   "outputs": [],
   "source": [
    "from sklearn.feature_selection import SelectKBest, f_regression\n",
    "data_best = SelectKBest(f_regression, k=2).fit_transform(data_por.drop('G3', axis=1), data_por['G3'])"
   ]
  },
  {
   "cell_type": "code",
   "execution_count": 12,
   "metadata": {
    "collapsed": false
   },
   "outputs": [
    {
     "name": "stdout",
     "output_type": "stream",
     "text": [
      "(649, 2)\n"
     ]
    },
    {
     "data": {
      "text/plain": [
       "array([[ 0, 11],\n",
       "       [ 9, 11],\n",
       "       [12, 13]])"
      ]
     },
     "execution_count": 12,
     "metadata": {},
     "output_type": "execute_result"
    }
   ],
   "source": [
    "print(data_best.shape)\n",
    "data_best[0:3]"
   ]
  },
  {
   "cell_type": "code",
   "execution_count": 13,
   "metadata": {
    "collapsed": false
   },
   "outputs": [
    {
     "name": "stdout",
     "output_type": "stream",
     "text": [
      "school - [0 0 0]\n",
      "sex - [0 0 0]\n",
      "age - [18 17 15]\n",
      "address - [1 1 1]\n",
      "famsize - [0 0 1]\n",
      "Pstatus - [0 1 1]\n",
      "Medu - [4 1 1]\n",
      "Fedu - [4 1 1]\n",
      "traveltime - [2 1 1]\n",
      "studytime - [2 2 2]\n",
      "failures - [0 0 0]\n",
      "schoolsup - [1 0 1]\n",
      "famsup - [0 1 0]\n",
      "paid - [0 0 0]\n",
      "activities - [0 0 0]\n",
      "nursery - [1 0 1]\n",
      "higher - [1 1 1]\n",
      "internet - [0 1 1]\n",
      "romantic - [0 0 0]\n",
      "famrel - [4 5 4]\n",
      "freetime - [3 3 3]\n",
      "goout - [4 3 2]\n",
      "Dalc - [1 1 2]\n",
      "Walc - [1 1 3]\n",
      "health - [3 3 3]\n",
      "absences - [4 2 6]\n",
      "G1 - [ 0  9 12]\n",
      "G2 - [11 11 13]\n",
      "G3 - [11 11 12]\n",
      "Mjob_at_home - [1 1 1]\n",
      "Mjob_health - [0 0 0]\n",
      "Mjob_other - [0 0 0]\n",
      "Mjob_services - [0 0 0]\n",
      "Mjob_teacher - [0 0 0]\n",
      "Fjob_at_home - [0 0 0]\n",
      "Fjob_health - [0 0 0]\n",
      "Fjob_other - [0 1 1]\n",
      "Fjob_services - [0 0 0]\n",
      "Fjob_teacher - [1 0 0]\n",
      "reason_course - [1 1 0]\n",
      "reason_home - [0 0 0]\n",
      "reason_other - [0 0 1]\n",
      "reason_reputation - [0 0 0]\n",
      "guardian_father - [0 1 0]\n",
      "guardian_mother - [1 0 1]\n",
      "guardian_other - [0 0 0]\n"
     ]
    }
   ],
   "source": [
    "for i in data_por.columns:\n",
    "    print(i, '-', data_por[i].head(3).values)"
   ]
  },
  {
   "cell_type": "markdown",
   "metadata": {},
   "source": [
    "### SelectKBest выбрал G1 и G2 как лучшие признаки для предсказания G3;\n",
    "*что в принципе не более чем очевидно*"
   ]
  },
  {
   "cell_type": "markdown",
   "metadata": {},
   "source": [
    "### Регрессия (Max 4)\n",
    "Выберите один признак, который наиболее влияет на признак G3 и используя кросс-валидацию (cross-validation) выполните следующее:"
   ]
  },
  {
   "cell_type": "markdown",
   "metadata": {},
   "source": [
    "- На обучающей выборке обучите объект [RidgeСV](http://scikit-learn.org/stable/modules/generated/sklearn.linear_model.RidgeCV.html#sklearn.linear_model.RidgeCV) для различных alpha (0.2)\n",
    "- Выберите alpha при котором RidgeCV лучше всего предсказывает значения (0.1)\n",
    "- Подсчитайте метрику mean absolute error, mean squared error, median absolute error,r2 score(0.2)\n",
    "<p></p>Max (0.5)\n",
    "- ------------------------------------\n",
    "- Создайте объекты [SGDRegressor](http://scikit-learn.org/stable/modules/generated/sklearn.linear_model.SGDRegressor.html#sklearn.linear_model.SGDRegressor), используя все возможных варианты аргумента penalty (0.2)\n",
    "- Обучите все полученных объекты на обучающей выборке (0.1)\n",
    "- Подсчитайте метрику r2 score для всех объектов (0.2)\n",
    "<p></p>Max (0.5)\n",
    "- ------------------------------------\n",
    "- Создайте объекты с параметрами max_depth = 1,3, 10 [GradientBoostingRegressor](http://scikit-learn.org/stable/modules/generated/sklearn.ensemble.GradientBoostingRegressor.html#sklearn.ensemble.GradientBoostingRegressor) и для каждого объекта изменяйте количество n_estimators  от 100 до 1000 с шагом 100 (0.2)\n",
    "- Подсчитайте метрику r2 score для всех объектов (0.1)\n",
    "- Визуализируйте зависимость R2 oт n_estimators на графике (0.2)\n",
    "<p></p>Max (0.5)\n",
    "- -----------------------------------\n",
    "- Используя все доступные регрессоры в библиотеке sklearn, найдите самый лучший регрессор. (2.5)"
   ]
  },
  {
   "cell_type": "markdown",
   "metadata": {},
   "source": [
    "**Выберем наиболее влиятельный на G3 признак**"
   ]
  },
  {
   "cell_type": "code",
   "execution_count": 14,
   "metadata": {
    "collapsed": false
   },
   "outputs": [
    {
     "name": "stdout",
     "output_type": "stream",
     "text": [
      "0.826387124789\n",
      "0.91854800356\n"
     ]
    }
   ],
   "source": [
    "print(np.corrcoef(data_best[:, 0], data_por['G3'])[1, 0])\n",
    "print(np.corrcoef(data_best[:, 1], data_por['G3'])[1, 0])"
   ]
  },
  {
   "cell_type": "markdown",
   "metadata": {},
   "source": [
    "Возьмем фичу у которой больше коэффициент корреляции с целевой переменной."
   ]
  },
  {
   "cell_type": "code",
   "execution_count": 15,
   "metadata": {
    "collapsed": false
   },
   "outputs": [],
   "source": [
    "X = data_best[:,1].reshape(-1, 1)\n",
    "y = data_por['G3']"
   ]
  },
  {
   "cell_type": "markdown",
   "metadata": {},
   "source": [
    "# RidgeCV"
   ]
  },
  {
   "cell_type": "code",
   "execution_count": 73,
   "metadata": {
    "collapsed": true
   },
   "outputs": [],
   "source": [
    "from sklearn.model_selection import train_test_split\n",
    "X_train, X_test, y_train, y_test = train_test_split(X, y, test_size=0.3, random_state=42)"
   ]
  },
  {
   "cell_type": "code",
   "execution_count": 74,
   "metadata": {
    "collapsed": false
   },
   "outputs": [
    {
     "data": {
      "text/plain": [
       "RidgeCV(alphas=array([  1.00000e-03,   3.59381e-03,   1.29155e-02,   4.64159e-02,\n",
       "         1.66810e-01,   5.99484e-01,   2.15443e+00,   7.74264e+00,\n",
       "         2.78256e+01,   1.00000e+02]),\n",
       "    cv=None, fit_intercept=True, gcv_mode=None, normalize=False,\n",
       "    scoring=None, store_cv_values=False)"
      ]
     },
     "execution_count": 74,
     "metadata": {},
     "output_type": "execute_result"
    }
   ],
   "source": [
    "from sklearn.linear_model import RidgeCV\n",
    "from sklearn.model_selection import train_test_split\n",
    "rcv = RidgeCV(alphas=np.logspace(-3, 2, 10))\n",
    "rcv.fit(X_train, y_train)"
   ]
  },
  {
   "cell_type": "code",
   "execution_count": 75,
   "metadata": {
    "collapsed": false
   },
   "outputs": [
    {
     "data": {
      "text/plain": [
       "2.1544346900318843"
      ]
     },
     "execution_count": 75,
     "metadata": {},
     "output_type": "execute_result"
    }
   ],
   "source": [
    "rcv.alpha_"
   ]
  },
  {
   "cell_type": "code",
   "execution_count": 76,
   "metadata": {
    "collapsed": false
   },
   "outputs": [
    {
     "name": "stdout",
     "output_type": "stream",
     "text": [
      "mean absolute error: 0.724646621942\n",
      "meadian absolute error: 0.548926761619\n",
      "mean squared error: 1.2299513226\n",
      "r2 score: 0.882387967699\n"
     ]
    }
   ],
   "source": [
    "from sklearn.metrics import mean_absolute_error, median_absolute_error, mean_squared_error, r2_score\n",
    "y_pred = rcv.predict(X_test)\n",
    "print('mean absolute error:', mean_absolute_error(y_pred, y_test))\n",
    "print('meadian absolute error:', median_absolute_error(y_pred, y_test))\n",
    "print('mean squared error:', mean_squared_error(y_pred, y_test))\n",
    "print('r2 score:', r2_score(y_pred, y_test))"
   ]
  },
  {
   "cell_type": "markdown",
   "metadata": {},
   "source": [
    "### Лучший alpha=2.1544346900318843"
   ]
  },
  {
   "cell_type": "markdown",
   "metadata": {},
   "source": [
    "# SGDRegressor"
   ]
  },
  {
   "cell_type": "code",
   "execution_count": 77,
   "metadata": {
    "collapsed": false
   },
   "outputs": [
    {
     "name": "stderr",
     "output_type": "stream",
     "text": [
      "/home/bobrg/anaconda3/lib/python3.5/site-packages/sklearn/linear_model/stochastic_gradient.py:84: FutureWarning: max_iter and tol parameters have been added in <class 'sklearn.linear_model.stochastic_gradient.SGDRegressor'> in 0.19. If both are left unset, they default to max_iter=5 and tol=None. If tol is not None, max_iter defaults to max_iter=1000. From 0.21, default max_iter will be 1000, and default tol will be 1e-3.\n",
      "  \"and default tol will be 1e-3.\" % type(self), FutureWarning)\n"
     ]
    }
   ],
   "source": [
    "from sklearn.linear_model import SGDRegressor\n",
    "sgdr1 = SGDRegressor(penalty='none')\n",
    "sgdr2 = SGDRegressor(penalty='l1')\n",
    "sgdr3 = SGDRegressor(penalty='l2')\n",
    "sgdr4 = SGDRegressor(penalty='elasticnet')"
   ]
  },
  {
   "cell_type": "code",
   "execution_count": 78,
   "metadata": {
    "collapsed": false
   },
   "outputs": [],
   "source": [
    "sgdr1.fit(X_train, y_train);\n",
    "sgdr2.fit(X_train, y_train);\n",
    "sgdr3.fit(X_train, y_train);\n",
    "sgdr4.fit(X_train, y_train);"
   ]
  },
  {
   "cell_type": "code",
   "execution_count": 79,
   "metadata": {
    "collapsed": false
   },
   "outputs": [
    {
     "name": "stdout",
     "output_type": "stream",
     "text": [
      "penalty=none r2 score: 0.881307260792\n",
      "penalty=l1 r2 score: 0.878500064626\n",
      "penalty=l2 r2 score: 0.881544786312\n",
      "penalty=elasticnet r2 score: 0.881373770012\n"
     ]
    }
   ],
   "source": [
    "Y_pred_1 = sgdr1.predict(X_test)\n",
    "Y_pred_2 = sgdr2.predict(X_test)\n",
    "Y_pred_3 = sgdr3.predict(X_test)\n",
    "Y_pred_4 = sgdr4.predict(X_test)\n",
    "print('penalty=none r2 score:', r2_score(Y_pred_1, y_test))\n",
    "print('penalty=l1 r2 score:', r2_score(Y_pred_2, y_test))\n",
    "print('penalty=l2 r2 score:', r2_score(Y_pred_3, y_test))\n",
    "print('penalty=elasticnet r2 score:', r2_score(Y_pred_4, y_test))"
   ]
  },
  {
   "cell_type": "markdown",
   "metadata": {},
   "source": [
    "### Best parameter - penalty=l2"
   ]
  },
  {
   "cell_type": "markdown",
   "metadata": {},
   "source": [
    "# GradientBoostingRegressor"
   ]
  },
  {
   "cell_type": "code",
   "execution_count": 80,
   "metadata": {
    "collapsed": true
   },
   "outputs": [],
   "source": [
    "from sklearn.ensemble import GradientBoostingRegressor"
   ]
  },
  {
   "cell_type": "code",
   "execution_count": 81,
   "metadata": {
    "collapsed": false
   },
   "outputs": [],
   "source": [
    "r2_score_1 = np.zeros((10, 2))\n",
    "r2_score_2 = np.zeros((10, 2))\n",
    "r2_score_3 = np.zeros((10, 2))\n",
    "for i in np.arange(100, 1100, 100):\n",
    "    gbr1 = GradientBoostingRegressor(max_depth=1, n_estimators=i)\n",
    "    gbr2 = GradientBoostingRegressor(max_depth=3, n_estimators=i)\n",
    "    gbr3 = GradientBoostingRegressor(max_depth=10, n_estimators=i)\n",
    "    gbr1.fit(X_train, y_train)\n",
    "    gbr2.fit(X_train, y_train)\n",
    "    gbr3.fit(X_train, y_train)\n",
    "    r2_score_1[i//100 - 1] = [r2_score(gbr1.predict(X_test), y_test), i]\n",
    "    r2_score_2[i//100 - 1] = [r2_score(gbr2.predict(X_test), y_test), i]\n",
    "    r2_score_3[i//100 - 1] = [r2_score(gbr3.predict(X_test), y_test), i]"
   ]
  },
  {
   "cell_type": "code",
   "execution_count": 82,
   "metadata": {
    "collapsed": true
   },
   "outputs": [],
   "source": [
    "r2_score_maxes = [r2_score_1[r2_score_1[:, 0].argmax()],\n",
    "                  r2_score_2[r2_score_2[:, 0].argmax()],\n",
    "                  r2_score_3[r2_score_3[:, 0].argmax()]]"
   ]
  },
  {
   "cell_type": "code",
   "execution_count": 83,
   "metadata": {
    "collapsed": false
   },
   "outputs": [
    {
     "name": "stdout",
     "output_type": "stream",
     "text": [
      "[array([   0.85400498,  200.        ]), array([   0.85118801,  600.        ]), array([   0.85118801,  400.        ])]\n"
     ]
    }
   ],
   "source": [
    "print(r2_score_maxes)"
   ]
  },
  {
   "cell_type": "markdown",
   "metadata": {},
   "source": [
    "### Best parameter - max_depth=1, n_estimators=200"
   ]
  },
  {
   "cell_type": "code",
   "execution_count": 84,
   "metadata": {
    "collapsed": false
   },
   "outputs": [
    {
     "data": {
      "text/plain": [
       "<matplotlib.text.Text at 0x7f8aeeacd0f0>"
      ]
     },
     "execution_count": 84,
     "metadata": {},
     "output_type": "execute_result"
    },
    {
     "data": {
      "image/png": "[encoded data removed]",
      "text/plain": [
       "<matplotlib.figure.Figure at 0x7f8aee1a33c8>"
      ]
     },
     "metadata": {},
     "output_type": "display_data"
    }
   ],
   "source": [
    "fig = plt.figure(figsize=(9, 9))\n",
    "plt.plot(r2_score_1[:, 1], r2_score_1[:, 0], '-o', label='max_depth=1')\n",
    "plt.plot(r2_score_2[:, 1], r2_score_2[:, 0], '-o', label='max_depth=3')\n",
    "plt.plot(r2_score_3[:, 1], r2_score_3[:, 0], '-o', label='max_depth=10')\n",
    "plt.legend(fontsize=13)\n",
    "plt.grid('on')\n",
    "plt.title('R2 score on test', fontsize=16)\n",
    "plt.ylabel('test_score', fontsize=15)\n",
    "plt.xlabel('n_estimators parameter', fontsize=15)"
   ]
  },
  {
   "cell_type": "code",
   "execution_count": 85,
   "metadata": {
    "collapsed": false
   },
   "outputs": [
    {
     "data": {
      "text/plain": [
       "<matplotlib.text.Text at 0x7f8aee0876a0>"
      ]
     },
     "execution_count": 85,
     "metadata": {},
     "output_type": "execute_result"
    },
    {
     "data": {
      "image/png": "[encoded data removed]",
      "text/plain": [
       "<matplotlib.figure.Figure at 0x7f8aee076be0>"
      ]
     },
     "metadata": {},
     "output_type": "display_data"
    }
   ],
   "source": [
    "fig = plt.figure(figsize=(6,6))\n",
    "plt.plot(r2_score_2[:, 1], r2_score_2[:, 0], '-o', label='max_depth=3')\n",
    "plt.plot(r2_score_3[:, 1], r2_score_3[:, 0], '-o', label='max_depth=10')\n",
    "plt.legend(fontsize=10)\n",
    "plt.grid('on')\n",
    "plt.title('R2 score on test', fontsize=13)\n",
    "plt.ylabel('test_score', fontsize=12)\n",
    "plt.xlabel('n_estimators parameter', fontsize=12)"
   ]
  },
  {
   "cell_type": "markdown",
   "metadata": {},
   "source": [
    "### Выберем лучший регрессор."
   ]
  },
  {
   "cell_type": "code",
   "execution_count": 86,
   "metadata": {
    "collapsed": false
   },
   "outputs": [
    {
     "name": "stdout",
     "output_type": "stream",
     "text": [
      "1.2299513226\n"
     ]
    }
   ],
   "source": [
    "print(mean_squared_error(rcv.predict(X_test), y_test))"
   ]
  },
  {
   "cell_type": "code",
   "execution_count": 89,
   "metadata": {
    "collapsed": false
   },
   "outputs": [
    {
     "name": "stdout",
     "output_type": "stream",
     "text": [
      "1.2358695136\n"
     ]
    }
   ],
   "source": [
    "print(mean_squared_error(sgdr3.predict(X_test), y_test))"
   ]
  },
  {
   "cell_type": "code",
   "execution_count": 88,
   "metadata": {
    "collapsed": false
   },
   "outputs": [
    {
     "name": "stdout",
     "output_type": "stream",
     "text": [
      "1.37208158438\n"
     ]
    }
   ],
   "source": [
    "gbr = GradientBoostingRegressor(max_depth=1, n_estimators=100)\n",
    "gbr.fit(X_train, y_train)\n",
    "print(mean_squared_error(gbr.predict(X_test), y_test))"
   ]
  },
  {
   "cell_type": "markdown",
   "metadata": {},
   "source": [
    "# Лучший регрессор - RidgeCV с alpha=2.1544346900318843 "
   ]
  },
  {
   "cell_type": "markdown",
   "metadata": {},
   "source": [
    "### Классификация (Max 4)\n",
    "- В статье описано использование Random Forest для предсказания важности факторов, влияющих на потребление алкоголя. Повторите эксперимент с использование объекта [RandomForest](http://scikit-learn.org/stable/modules/generated/sklearn.ensemble.RandomForestClassifier.html#sklearn.ensemble.RandomForestClassifier) и найдите наилучшие параметры. Укажите accuracy для наилучших параметров (0.5)\n",
    "- Обучите объект [GradientBoostingClassifier](http://scikit-learn.org/stable/modules/generated/sklearn.ensemble.GradientBoostingClassifier.html#sklearn.ensemble.GradientBoostingClassifier)  и найдите для него наилучшие параметры. Укажите accuracy для наилучших параметров (0.5)\n",
    "- Обучите объект [AdaBoostClassifier](http://scikit-learn.org/stable/modules/generated/sklearn.ensemble.AdaBoostClassifier.html)  и найдите для него наилучшие параметры. Укажите accuracy для наилучших параметров (0.5)\n",
    "- Найдите наилучший классификатор. Укажите accuracy для наилучших параметров (2.5)"
   ]
  },
  {
   "cell_type": "markdown",
   "metadata": {},
   "source": [
    "**Введем целевую переменную описывающую потребление алкоголя студентом. Бинаризируем ее по границе 3.\n",
    "Данные действия делаем в соответствии со статьей.**"
   ]
  },
  {
   "cell_type": "code",
   "execution_count": 32,
   "metadata": {
    "collapsed": false
   },
   "outputs": [],
   "source": [
    "y_alc = (data_por['Dalc']*5 + data_por['Walc']*2) / 7\n",
    "y_alc = [int(y<3) for y in y_alc]\n",
    "data_por.drop(['Dalc', 'Walc'], axis=1, inplace=True)"
   ]
  },
  {
   "cell_type": "markdown",
   "metadata": {},
   "source": [
    "**Backward Feature Elimination.**<p></p>\n",
    "In this technique, at a given iteration, the selected classification algorithm is trained on n input features. Then we remove one input feature at a time and train the same model on n-1 input features n times. The input feature whose removal has produced the smallest increase in the error rate is removed, leaving us with n-1 input features. The classification is then repeated using n-2 features, and so on. Each iteration k produces a model trained on n-k features and an error rate e(k). Selecting the maximum tolerable error rate, we define the smallest number of features necessary to reach that classification performance with the selected machine learning algorithm."
   ]
  },
  {
   "cell_type": "code",
   "execution_count": 33,
   "metadata": {
    "collapsed": false
   },
   "outputs": [
    {
     "name": "stdout",
     "output_type": "stream",
     "text": [
      "start score 0.745555271093\n",
      "----------------------------------------\n",
      "0.0864197530864\n",
      "traveltime\n",
      "dropping traveltime\n",
      "score after dropping feature 0.831975024179\n",
      "start score 0.831975024179\n",
      "----------------------------------------\n",
      "-0.00926637082551\n",
      "studytime\n"
     ]
    }
   ],
   "source": [
    "from sklearn.ensemble import RandomForestClassifier\n",
    "from sklearn.model_selection import cross_validate\n",
    "from sklearn.metrics import accuracy_score \n",
    "data_tmp = data_por\n",
    "for j in data_tmp.columns: \n",
    "    bfe_score = {}\n",
    "    rfc = RandomForestClassifier(n_jobs=-1,random_state=42)\n",
    "    input_score = cross_validate(rfc, data_tmp, y_alc, cv=3)['test_score'].mean()\n",
    "    print('start score', input_score)\n",
    "    for i in data_tmp.columns:\n",
    "        tmp = data_tmp.drop(i, axis=1)\n",
    "        bfe_score[i] = cross_validate(rfc, tmp, y_alc, cv=3)['test_score'].mean() - input_score \n",
    "    this = max(bfe_score)\n",
    "\n",
    "    print('----------------------------------------')\n",
    "    print(bfe_score[this])\n",
    "    print(this)\n",
    "    if (bfe_score[this] < 0):    \n",
    "        break\n",
    "    print('dropping', this)\n",
    "    print('score after dropping feature', bfe_score[this] + input_score)\n",
    "    data_tmp.drop(this, axis=1, inplace=True)\n",
    "    if len(data_tmp.columns) == 6:\n",
    "        break"
   ]
  },
  {
   "cell_type": "markdown",
   "metadata": {},
   "source": [
    "**Жадный отбор дропнул одну фичу и слегка улучшил скор. Дальше отброс фич только уменьшал скор.**"
   ]
  },
  {
   "cell_type": "markdown",
   "metadata": {},
   "source": [
    "## Найдем лучшие параметры RandomForest."
   ]
  },
  {
   "cell_type": "code",
   "execution_count": 34,
   "metadata": {
    "collapsed": true
   },
   "outputs": [],
   "source": [
    "data_por = data_tmp"
   ]
  },
  {
   "cell_type": "code",
   "execution_count": 35,
   "metadata": {
    "collapsed": false
   },
   "outputs": [
    {
     "data": {
      "text/plain": [
       "GridSearchCV(cv=4, error_score='raise',\n",
       "       estimator=RandomForestClassifier(bootstrap=True, class_weight=None, criterion='gini',\n",
       "            max_depth=None, max_features='auto', max_leaf_nodes=None,\n",
       "            min_impurity_decrease=0.0, min_impurity_split=None,\n",
       "            min_samples_leaf=1, min_samples_split=2,\n",
       "            min_weight_fraction_leaf=0.0, n_estimators=10, n_jobs=-1,\n",
       "            oob_score=False, random_state=42, verbose=0, warm_start=False),\n",
       "       fit_params=None, iid=True, n_jobs=1,\n",
       "       param_grid={'max_depth': (1, 3, 5, 8, 11, 17, 20), 'criterion': ('gini', 'entropy'), 'n_estimators': array([ 10, 110, 210, 310])},\n",
       "       pre_dispatch='2*n_jobs', refit=True, return_train_score=True,\n",
       "       scoring='accuracy', verbose=0)"
      ]
     },
     "execution_count": 35,
     "metadata": {},
     "output_type": "execute_result"
    }
   ],
   "source": [
    "from sklearn.model_selection import GridSearchCV\n",
    "param_grid = {'criterion' : ('gini', 'entropy'), 'max_depth':(1,3,5,8,11,17,20),\n",
    "              'n_estimators': np.arange(10, 400, 100)}\n",
    "rfc = RandomForestClassifier(n_jobs=-1,random_state=42)\n",
    "gcv = GridSearchCV(rfc, param_grid=param_grid, scoring='accuracy', cv=4)\n",
    "gcv.fit(data_por, y_alc)"
   ]
  },
  {
   "cell_type": "code",
   "execution_count": 36,
   "metadata": {
    "collapsed": false
   },
   "outputs": [
    {
     "name": "stdout",
     "output_type": "stream",
     "text": [
      "{'max_depth': 1, 'criterion': 'gini', 'n_estimators': 10}\n",
      "0.884437596302\n"
     ]
    }
   ],
   "source": [
    "print(gcv.best_params_)\n",
    "print(gcv.best_score_)"
   ]
  },
  {
   "cell_type": "markdown",
   "metadata": {},
   "source": [
    "## Найдем лучшие параметры GradientBoostingClassifier."
   ]
  },
  {
   "cell_type": "code",
   "execution_count": 37,
   "metadata": {
    "collapsed": false
   },
   "outputs": [
    {
     "data": {
      "text/plain": [
       "GridSearchCV(cv=4, error_score='raise',\n",
       "       estimator=GradientBoostingClassifier(criterion='friedman_mse', init=None,\n",
       "              learning_rate=0.1, loss='deviance', max_depth=3,\n",
       "              max_features=None, max_leaf_nodes=None,\n",
       "              min_impurity_decrease=0.0, min_impurity_split=None,\n",
       "              min_samples_leaf=1, min_samples_split=2,\n",
       "              min_weight_fraction_leaf=0.0, n_estimators=100,\n",
       "              presort='auto', random_state=None, subsample=1.0, verbose=0,\n",
       "              warm_start=False),\n",
       "       fit_params=None, iid=True, n_jobs=1,\n",
       "       param_grid={'learning_rate': (0.0001, 0.001, 0.1, 1.0, 10, 100), 'max_depth': (1, 5, 8, 10, 20), 'loss': ('deviance', 'exponential'), 'n_estimators': array([ 10,  60, 110, 160])},\n",
       "       pre_dispatch='2*n_jobs', refit=True, return_train_score=True,\n",
       "       scoring='accuracy', verbose=0)"
      ]
     },
     "execution_count": 37,
     "metadata": {},
     "output_type": "execute_result"
    }
   ],
   "source": [
    "from sklearn.ensemble import GradientBoostingClassifier\n",
    "param_grid = {'loss' : ('deviance', 'exponential'),\n",
    "    'learning_rate': (0.0001, 0.001, 0.1, 1.0, 10, 100),\n",
    "    'n_estimators':np.arange(10,200,50),\n",
    "    'max_depth':(1,5,8,10,20)}\n",
    "gbc = GradientBoostingClassifier()\n",
    "gcv = GridSearchCV(gbc, param_grid=param_grid, scoring='accuracy', cv=4)\n",
    "gcv.fit(data_por, y_alc)"
   ]
  },
  {
   "cell_type": "code",
   "execution_count": 38,
   "metadata": {
    "collapsed": false
   },
   "outputs": [
    {
     "name": "stdout",
     "output_type": "stream",
     "text": [
      "{'learning_rate': 0.1, 'max_depth': 1, 'loss': 'exponential', 'n_estimators': 60}\n",
      "0.88906009245\n"
     ]
    }
   ],
   "source": [
    "print(gcv.best_params_)\n",
    "print(gcv.best_score_)"
   ]
  },
  {
   "cell_type": "markdown",
   "metadata": {},
   "source": [
    "## Найдем лучшие параметры AdaBoostClassifier."
   ]
  },
  {
   "cell_type": "code",
   "execution_count": 39,
   "metadata": {
    "collapsed": false
   },
   "outputs": [
    {
     "data": {
      "text/plain": [
       "GridSearchCV(cv=4, error_score='raise',\n",
       "       estimator=AdaBoostClassifier(algorithm='SAMME.R', base_estimator=None,\n",
       "          learning_rate=1.0, n_estimators=50, random_state=None),\n",
       "       fit_params=None, iid=True, n_jobs=1,\n",
       "       param_grid={'learning_rate': (0.01, 0.1, 1.0, 10.0), 'n_estimators': array([10, 30, 50, 70, 90])},\n",
       "       pre_dispatch='2*n_jobs', refit=True, return_train_score=True,\n",
       "       scoring='accuracy', verbose=0)"
      ]
     },
     "execution_count": 39,
     "metadata": {},
     "output_type": "execute_result"
    }
   ],
   "source": [
    "from sklearn.ensemble import AdaBoostClassifier\n",
    "abc_params = {'n_estimators': np.arange(10, 100, 20), 'learning_rate': (0.01, 0.1, 1.0, 10.0)}\n",
    "abc = AdaBoostClassifier()\n",
    "gcv = GridSearchCV(abc, param_grid=abc_params, scoring='accuracy', cv=4)\n",
    "gcv.fit(data_por, y_alc)"
   ]
  },
  {
   "cell_type": "code",
   "execution_count": 40,
   "metadata": {
    "collapsed": false
   },
   "outputs": [
    {
     "name": "stdout",
     "output_type": "stream",
     "text": [
      "{'learning_rate': 0.1, 'n_estimators': 90}\n",
      "0.890600924499\n"
     ]
    }
   ],
   "source": [
    "print(gcv.best_params_)\n",
    "print(gcv.best_score_)"
   ]
  },
  {
   "cell_type": "markdown",
   "metadata": {},
   "source": [
    "## Лучший классификатор\n",
    "## GradientBoostingClassifier.\n",
    "### со скором ~ 89% и параметрами 'learning_rate': 0.1, 'n_estimators': 60, 'loss': 'exponential',<br>'max_depth': 1\n",
    "Хотя кажется у модели AdaBoostClassifier ~ такой же результат с параметрами learning_rate: 0.1 и n_estimators 90."
   ]
  },
  {
   "cell_type": "markdown",
   "metadata": {},
   "source": [
    "# Замечания\n",
    "\n",
    "- В работе следует использовать библиотеку scikit-learn версии 0.18 и scipy версии 0.18.1"
   ]
  },
  {
   "cell_type": "code",
   "execution_count": null,
   "metadata": {
    "collapsed": true
   },
   "outputs": [],
   "source": []
  }
 ],
 "metadata": {
  "anaconda-cloud": {},
  "kernelspec": {
   "display_name": "Python [default]",
   "language": "python",
   "name": "python3"
  },
  "language_info": {
   "codemirror_mode": {
    "name": "ipython",
    "version": 3
   },
   "file_extension": ".py",
   "mimetype": "text/x-python",
   "name": "python",
   "nbconvert_exporter": "python",
   "pygments_lexer": "ipython3",
   "version": "3.5.2"
  }
 },
 "nbformat": 4,
 "nbformat_minor": 0
}
