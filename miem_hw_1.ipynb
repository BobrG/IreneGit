{
 "cells": [
  {
   "cell_type": "markdown",
   "metadata": {},
   "source": [
    "# Домашнее задание №1.\n",
    "## Выполнил: Бобровских Глеб, БПМ151."
   ]
  },
  {
   "cell_type": "code",
   "execution_count": 107,
   "metadata": {
    "collapsed": true
   },
   "outputs": [],
   "source": [
    "import pandas as pd\n",
    "import numpy as np\n",
    "import itertools\n",
    "import matplotlib.pyplot as plt\n",
    "%matplotlib inline\n",
    "from sklearn.metrics import confusion_matrix, precision_score, recall_score, precision_recall_curve, roc_curve, auc\n",
    "from sklearn.preprocessing import MinMaxScaler\n",
    "from sklearn.model_selection import GridSearchCV\n",
    "from sklearn.linear_model import LogisticRegression\n",
    "from sklearn.svm import SVC"
   ]
  },
  {
   "cell_type": "code",
   "execution_count": 108,
   "metadata": {
    "collapsed": false
   },
   "outputs": [],
   "source": [
    "train = pd.read_table('data/data/train_86_by_71.txt', header=None)\n",
    "val = pd.read_table('data/data/valid_20_by_71.txt', header=None)\n",
    "test = pd.read_table('data/data/test_12_by_70.txt', header=None)"
   ]
  },
  {
   "cell_type": "code",
   "execution_count": 109,
   "metadata": {
    "collapsed": false
   },
   "outputs": [
    {
     "data": {
      "text/html": [
       "<div>\n",
       "<style>\n",
       "    .dataframe thead tr:only-child th {\n",
       "        text-align: right;\n",
       "    }\n",
       "\n",
       "    .dataframe thead th {\n",
       "        text-align: left;\n",
       "    }\n",
       "\n",
       "    .dataframe tbody tr th {\n",
       "        vertical-align: top;\n",
       "    }\n",
       "</style>\n",
       "<table border=\"1\" class=\"dataframe\">\n",
       "  <thead>\n",
       "    <tr style=\"text-align: right;\">\n",
       "      <th></th>\n",
       "      <th>0</th>\n",
       "      <th>1</th>\n",
       "      <th>2</th>\n",
       "      <th>3</th>\n",
       "      <th>4</th>\n",
       "      <th>5</th>\n",
       "      <th>6</th>\n",
       "      <th>7</th>\n",
       "      <th>8</th>\n",
       "      <th>9</th>\n",
       "      <th>...</th>\n",
       "      <th>61</th>\n",
       "      <th>62</th>\n",
       "      <th>63</th>\n",
       "      <th>64</th>\n",
       "      <th>65</th>\n",
       "      <th>66</th>\n",
       "      <th>67</th>\n",
       "      <th>68</th>\n",
       "      <th>69</th>\n",
       "      <th>70</th>\n",
       "    </tr>\n",
       "  </thead>\n",
       "  <tbody>\n",
       "    <tr>\n",
       "      <th>0</th>\n",
       "      <td>1.0</td>\n",
       "      <td>22.505</td>\n",
       "      <td>4.892</td>\n",
       "      <td>1.957</td>\n",
       "      <td>0.000</td>\n",
       "      <td>1.957</td>\n",
       "      <td>23.483</td>\n",
       "      <td>7.828</td>\n",
       "      <td>5.871</td>\n",
       "      <td>4.892</td>\n",
       "      <td>...</td>\n",
       "      <td>0.978</td>\n",
       "      <td>0.978</td>\n",
       "      <td>0.978</td>\n",
       "      <td>0.000</td>\n",
       "      <td>11.742</td>\n",
       "      <td>3.914</td>\n",
       "      <td>6.849</td>\n",
       "      <td>3.914</td>\n",
       "      <td>4.892</td>\n",
       "      <td>0.0</td>\n",
       "    </tr>\n",
       "    <tr>\n",
       "      <th>1</th>\n",
       "      <td>2.0</td>\n",
       "      <td>25.313</td>\n",
       "      <td>1.830</td>\n",
       "      <td>0.305</td>\n",
       "      <td>4.575</td>\n",
       "      <td>26.532</td>\n",
       "      <td>3.660</td>\n",
       "      <td>2.440</td>\n",
       "      <td>16.468</td>\n",
       "      <td>2.440</td>\n",
       "      <td>...</td>\n",
       "      <td>5.185</td>\n",
       "      <td>2.135</td>\n",
       "      <td>1.220</td>\n",
       "      <td>1.220</td>\n",
       "      <td>10.369</td>\n",
       "      <td>0.610</td>\n",
       "      <td>3.965</td>\n",
       "      <td>5.489</td>\n",
       "      <td>8.234</td>\n",
       "      <td>0.0</td>\n",
       "    </tr>\n",
       "    <tr>\n",
       "      <th>2</th>\n",
       "      <td>2.0</td>\n",
       "      <td>27.719</td>\n",
       "      <td>1.808</td>\n",
       "      <td>2.410</td>\n",
       "      <td>0.904</td>\n",
       "      <td>5.423</td>\n",
       "      <td>28.322</td>\n",
       "      <td>2.712</td>\n",
       "      <td>5.725</td>\n",
       "      <td>8.738</td>\n",
       "      <td>...</td>\n",
       "      <td>3.616</td>\n",
       "      <td>3.013</td>\n",
       "      <td>0.301</td>\n",
       "      <td>0.603</td>\n",
       "      <td>7.834</td>\n",
       "      <td>4.218</td>\n",
       "      <td>3.616</td>\n",
       "      <td>6.629</td>\n",
       "      <td>4.519</td>\n",
       "      <td>0.0</td>\n",
       "    </tr>\n",
       "    <tr>\n",
       "      <th>3</th>\n",
       "      <td>2.0</td>\n",
       "      <td>17.879</td>\n",
       "      <td>2.774</td>\n",
       "      <td>0.925</td>\n",
       "      <td>3.699</td>\n",
       "      <td>22.503</td>\n",
       "      <td>2.158</td>\n",
       "      <td>5.240</td>\n",
       "      <td>11.714</td>\n",
       "      <td>3.391</td>\n",
       "      <td>...</td>\n",
       "      <td>0.617</td>\n",
       "      <td>0.308</td>\n",
       "      <td>4.316</td>\n",
       "      <td>2.158</td>\n",
       "      <td>6.165</td>\n",
       "      <td>0.617</td>\n",
       "      <td>3.083</td>\n",
       "      <td>7.090</td>\n",
       "      <td>2.158</td>\n",
       "      <td>0.0</td>\n",
       "    </tr>\n",
       "    <tr>\n",
       "      <th>4</th>\n",
       "      <td>2.0</td>\n",
       "      <td>28.475</td>\n",
       "      <td>3.947</td>\n",
       "      <td>1.128</td>\n",
       "      <td>4.793</td>\n",
       "      <td>16.916</td>\n",
       "      <td>3.383</td>\n",
       "      <td>4.511</td>\n",
       "      <td>7.612</td>\n",
       "      <td>4.229</td>\n",
       "      <td>...</td>\n",
       "      <td>1.692</td>\n",
       "      <td>2.537</td>\n",
       "      <td>0.846</td>\n",
       "      <td>1.692</td>\n",
       "      <td>7.330</td>\n",
       "      <td>0.282</td>\n",
       "      <td>4.229</td>\n",
       "      <td>2.255</td>\n",
       "      <td>6.202</td>\n",
       "      <td>0.0</td>\n",
       "    </tr>\n",
       "  </tbody>\n",
       "</table>\n",
       "<p>5 rows × 71 columns</p>\n",
       "</div>"
      ],
      "text/plain": [
       "    0       1      2      3      4       5       6      7       8      9   \\\n",
       "0  1.0  22.505  4.892  1.957  0.000   1.957  23.483  7.828   5.871  4.892   \n",
       "1  2.0  25.313  1.830  0.305  4.575  26.532   3.660  2.440  16.468  2.440   \n",
       "2  2.0  27.719  1.808  2.410  0.904   5.423  28.322  2.712   5.725  8.738   \n",
       "3  2.0  17.879  2.774  0.925  3.699  22.503   2.158  5.240  11.714  3.391   \n",
       "4  2.0  28.475  3.947  1.128  4.793  16.916   3.383  4.511   7.612  4.229   \n",
       "\n",
       "  ...      61     62     63     64      65     66     67     68     69   70  \n",
       "0 ...   0.978  0.978  0.978  0.000  11.742  3.914  6.849  3.914  4.892  0.0  \n",
       "1 ...   5.185  2.135  1.220  1.220  10.369  0.610  3.965  5.489  8.234  0.0  \n",
       "2 ...   3.616  3.013  0.301  0.603   7.834  4.218  3.616  6.629  4.519  0.0  \n",
       "3 ...   0.617  0.308  4.316  2.158   6.165  0.617  3.083  7.090  2.158  0.0  \n",
       "4 ...   1.692  2.537  0.846  1.692   7.330  0.282  4.229  2.255  6.202  0.0  \n",
       "\n",
       "[5 rows x 71 columns]"
      ]
     },
     "execution_count": 109,
     "metadata": {},
     "output_type": "execute_result"
    }
   ],
   "source": [
    "train.head()"
   ]
  },
  {
   "cell_type": "code",
   "execution_count": 110,
   "metadata": {
    "collapsed": false
   },
   "outputs": [
    {
     "data": {
      "text/html": [
       "<div>\n",
       "<style>\n",
       "    .dataframe thead tr:only-child th {\n",
       "        text-align: right;\n",
       "    }\n",
       "\n",
       "    .dataframe thead th {\n",
       "        text-align: left;\n",
       "    }\n",
       "\n",
       "    .dataframe tbody tr th {\n",
       "        vertical-align: top;\n",
       "    }\n",
       "</style>\n",
       "<table border=\"1\" class=\"dataframe\">\n",
       "  <thead>\n",
       "    <tr style=\"text-align: right;\">\n",
       "      <th></th>\n",
       "      <th>0</th>\n",
       "      <th>1</th>\n",
       "      <th>2</th>\n",
       "      <th>3</th>\n",
       "      <th>4</th>\n",
       "      <th>5</th>\n",
       "      <th>6</th>\n",
       "      <th>7</th>\n",
       "      <th>8</th>\n",
       "      <th>9</th>\n",
       "      <th>...</th>\n",
       "      <th>60</th>\n",
       "      <th>61</th>\n",
       "      <th>62</th>\n",
       "      <th>63</th>\n",
       "      <th>64</th>\n",
       "      <th>65</th>\n",
       "      <th>66</th>\n",
       "      <th>67</th>\n",
       "      <th>68</th>\n",
       "      <th>69</th>\n",
       "    </tr>\n",
       "  </thead>\n",
       "  <tbody>\n",
       "    <tr>\n",
       "      <th>0</th>\n",
       "      <td>17.526</td>\n",
       "      <td>1.002</td>\n",
       "      <td>5.008</td>\n",
       "      <td>0.501</td>\n",
       "      <td>4.507</td>\n",
       "      <td>19.029</td>\n",
       "      <td>3.505</td>\n",
       "      <td>7.511</td>\n",
       "      <td>18.027</td>\n",
       "      <td>20.030</td>\n",
       "      <td>...</td>\n",
       "      <td>0.501</td>\n",
       "      <td>3.005</td>\n",
       "      <td>1.002</td>\n",
       "      <td>2.504</td>\n",
       "      <td>12.519</td>\n",
       "      <td>3.005</td>\n",
       "      <td>7.511</td>\n",
       "      <td>6.009</td>\n",
       "      <td>3.005</td>\n",
       "      <td>0.0</td>\n",
       "    </tr>\n",
       "    <tr>\n",
       "      <th>1</th>\n",
       "      <td>16.765</td>\n",
       "      <td>2.719</td>\n",
       "      <td>3.172</td>\n",
       "      <td>0.453</td>\n",
       "      <td>2.719</td>\n",
       "      <td>24.468</td>\n",
       "      <td>2.266</td>\n",
       "      <td>11.781</td>\n",
       "      <td>10.874</td>\n",
       "      <td>19.483</td>\n",
       "      <td>...</td>\n",
       "      <td>1.812</td>\n",
       "      <td>0.906</td>\n",
       "      <td>2.266</td>\n",
       "      <td>1.359</td>\n",
       "      <td>13.593</td>\n",
       "      <td>3.625</td>\n",
       "      <td>10.874</td>\n",
       "      <td>1.359</td>\n",
       "      <td>2.719</td>\n",
       "      <td>0.0</td>\n",
       "    </tr>\n",
       "    <tr>\n",
       "      <th>2</th>\n",
       "      <td>23.506</td>\n",
       "      <td>8.325</td>\n",
       "      <td>1.959</td>\n",
       "      <td>0.490</td>\n",
       "      <td>1.959</td>\n",
       "      <td>23.506</td>\n",
       "      <td>3.918</td>\n",
       "      <td>6.366</td>\n",
       "      <td>5.877</td>\n",
       "      <td>24.976</td>\n",
       "      <td>...</td>\n",
       "      <td>0.000</td>\n",
       "      <td>2.938</td>\n",
       "      <td>1.469</td>\n",
       "      <td>0.490</td>\n",
       "      <td>14.202</td>\n",
       "      <td>1.469</td>\n",
       "      <td>9.794</td>\n",
       "      <td>5.387</td>\n",
       "      <td>4.897</td>\n",
       "      <td>0.0</td>\n",
       "    </tr>\n",
       "    <tr>\n",
       "      <th>3</th>\n",
       "      <td>20.036</td>\n",
       "      <td>1.214</td>\n",
       "      <td>3.643</td>\n",
       "      <td>0.607</td>\n",
       "      <td>6.679</td>\n",
       "      <td>25.501</td>\n",
       "      <td>1.821</td>\n",
       "      <td>9.107</td>\n",
       "      <td>8.500</td>\n",
       "      <td>28.537</td>\n",
       "      <td>...</td>\n",
       "      <td>0.607</td>\n",
       "      <td>1.214</td>\n",
       "      <td>0.000</td>\n",
       "      <td>1.214</td>\n",
       "      <td>12.143</td>\n",
       "      <td>3.036</td>\n",
       "      <td>0.607</td>\n",
       "      <td>6.679</td>\n",
       "      <td>13.358</td>\n",
       "      <td>0.0</td>\n",
       "    </tr>\n",
       "    <tr>\n",
       "      <th>4</th>\n",
       "      <td>22.150</td>\n",
       "      <td>0.923</td>\n",
       "      <td>4.153</td>\n",
       "      <td>1.846</td>\n",
       "      <td>2.769</td>\n",
       "      <td>28.611</td>\n",
       "      <td>2.769</td>\n",
       "      <td>8.768</td>\n",
       "      <td>10.152</td>\n",
       "      <td>23.535</td>\n",
       "      <td>...</td>\n",
       "      <td>1.846</td>\n",
       "      <td>1.846</td>\n",
       "      <td>1.846</td>\n",
       "      <td>0.461</td>\n",
       "      <td>10.614</td>\n",
       "      <td>1.846</td>\n",
       "      <td>11.537</td>\n",
       "      <td>5.076</td>\n",
       "      <td>2.769</td>\n",
       "      <td>0.0</td>\n",
       "    </tr>\n",
       "  </tbody>\n",
       "</table>\n",
       "<p>5 rows × 70 columns</p>\n",
       "</div>"
      ],
      "text/plain": [
       "       0      1      2      3      4       5      6       7       8       9   \\\n",
       "0  17.526  1.002  5.008  0.501  4.507  19.029  3.505   7.511  18.027  20.030   \n",
       "1  16.765  2.719  3.172  0.453  2.719  24.468  2.266  11.781  10.874  19.483   \n",
       "2  23.506  8.325  1.959  0.490  1.959  23.506  3.918   6.366   5.877  24.976   \n",
       "3  20.036  1.214  3.643  0.607  6.679  25.501  1.821   9.107   8.500  28.537   \n",
       "4  22.150  0.923  4.153  1.846  2.769  28.611  2.769   8.768  10.152  23.535   \n",
       "\n",
       "  ...      60     61     62     63      64     65      66     67      68   69  \n",
       "0 ...   0.501  3.005  1.002  2.504  12.519  3.005   7.511  6.009   3.005  0.0  \n",
       "1 ...   1.812  0.906  2.266  1.359  13.593  3.625  10.874  1.359   2.719  0.0  \n",
       "2 ...   0.000  2.938  1.469  0.490  14.202  1.469   9.794  5.387   4.897  0.0  \n",
       "3 ...   0.607  1.214  0.000  1.214  12.143  3.036   0.607  6.679  13.358  0.0  \n",
       "4 ...   1.846  1.846  1.846  0.461  10.614  1.846  11.537  5.076   2.769  0.0  \n",
       "\n",
       "[5 rows x 70 columns]"
      ]
     },
     "execution_count": 110,
     "metadata": {},
     "output_type": "execute_result"
    }
   ],
   "source": [
    "test.head()"
   ]
  },
  {
   "cell_type": "code",
   "execution_count": 111,
   "metadata": {
    "collapsed": false
   },
   "outputs": [],
   "source": [
    "# бинаризируем таргеты;\n",
    "y_tr = np.asarray(train[0].apply(lambda a: 0 if a==1 else 1))\n",
    "X_tr = np.asarray(train.drop(0, axis=1))\n",
    "y_val = np.asarray(val[0].apply(lambda a: 0 if a==1 else 1))\n",
    "X_val = np.asarray(val.drop(0, axis=1))\n",
    "X_ts = np.asarray(test)"
   ]
  },
  {
   "cell_type": "markdown",
   "metadata": {},
   "source": [
    "### Задание 1. Логистическа Регрессия.\n",
    "<br> **Дефолтные параметры. Метрики качества - confusion matrix, precision/recall, auc-roc.**"
   ]
  },
  {
   "cell_type": "code",
   "execution_count": 112,
   "metadata": {
    "collapsed": false
   },
   "outputs": [],
   "source": [
    "lr = LogisticRegression(random_state=42)\n",
    "lr.fit(X_tr, y_tr)\n",
    "pred = lr.predict(X_val)\n",
    "y_proba = lr.predict_proba(X_val)"
   ]
  },
  {
   "cell_type": "markdown",
   "metadata": {},
   "source": [
    "### Confusion Matrix."
   ]
  },
  {
   "cell_type": "code",
   "execution_count": 113,
   "metadata": {
    "collapsed": true
   },
   "outputs": [],
   "source": [
    "# определим функцию для отрисовки confusion matrix, см sklearn :)\n",
    "def plot_confusion_matrix(cm, classes,\n",
    "                          normalize=False,\n",
    "                          title='Confusion matrix',\n",
    "                          cmap=plt.cm.Blues):\n",
    "    \"\"\"\n",
    "    This function prints and plots the confusion matrix.\n",
    "    Normalization can be applied by setting `normalize=True`.\n",
    "    \"\"\"\n",
    "    plt.imshow(cm, interpolation='nearest', cmap=cmap)\n",
    "    plt.title(title)\n",
    "    plt.colorbar()\n",
    "    tick_marks = np.arange(len(classes))\n",
    "    plt.xticks(tick_marks, classes, rotation=45)\n",
    "    plt.yticks(tick_marks, classes)\n",
    "\n",
    "    if normalize:\n",
    "        cm = cm.astype('float') / cm.sum(axis=1)[:, np.newaxis]\n",
    "        print(\"Normalized confusion matrix\")\n",
    "    else:\n",
    "        print('Confusion matrix, without normalization')\n",
    "\n",
    "    print(cm)\n",
    "\n",
    "    thresh = cm.max() / 2.\n",
    "    for i, j in itertools.product(range(cm.shape[0]), range(cm.shape[1])):\n",
    "        plt.text(j, i, cm[i, j],\n",
    "                 horizontalalignment=\"center\",\n",
    "                 color=\"white\" if cm[i, j] > thresh else \"black\")\n",
    "\n",
    "    plt.tight_layout()\n",
    "    plt.ylabel('True label')\n",
    "    plt.xlabel('Predicted label')\n",
    "\n"
   ]
  },
  {
   "cell_type": "code",
   "execution_count": 114,
   "metadata": {
    "collapsed": false
   },
   "outputs": [
    {
     "name": "stdout",
     "output_type": "stream",
     "text": [
      "Confusion matrix, without normalization\n",
      "[[10  2]\n",
      " [ 0  8]]\n"
     ]
    },
    {
     "data": {
      "image/png": "[encoded data removed]",
      "text/plain": [
       "<matplotlib.figure.Figure at 0x7fb139500860>"
      ]
     },
     "metadata": {},
     "output_type": "display_data"
    }
   ],
   "source": [
    "cnf_matrix = confusion_matrix(y_val, pred)\n",
    "plt.figure(figsize=(10, 8))\n",
    "plot_confusion_matrix(cnf_matrix, classes=['Gamilton', 'Medisson'],\n",
    "                      title='Confusion matrix')"
   ]
  },
  {
   "cell_type": "markdown",
   "metadata": {},
   "source": [
    "### Precision and Recall."
   ]
  },
  {
   "cell_type": "markdown",
   "metadata": {
    "collapsed": true
   },
   "source": [
    "Presision(точность) и Recall (полнота):\n",
    "\n",
    "* $ presision = {TP \\over TP + FP}$\n",
    "* $ recall = {TP \\over TP + FN}$\n",
    " \n",
    "Precision можно интерпретировать как *долю объектов, названных классификатором положительными* и при этом действительно *являющимися положительными*, а recall показывает, какую долю объектов положительного класса из всех объектов положительного класса нашел алгорим. <br>\n",
    "FN - а на самом деле True, TP - действительно True, FP - а на самом деле False."
   ]
  },
  {
   "cell_type": "markdown",
   "metadata": {},
   "source": [
    "** Compute manualy from cfg_matrix:<br>**\n",
    "pres, rec = (cnf_matrix[0][0] / (cnf_matrix[0][0] + cnf_matrix[0][1])), (cnf_matrix[0][0] / (cnf_matrix[0][0] + cnf_matrix[1][0]))"
   ]
  },
  {
   "cell_type": "markdown",
   "metadata": {},
   "source": [
    "**Compute through prec._recal._curve:<br>**\n",
    "precision, recall, thresholds = precision_recall_curve(y_val, pred)"
   ]
  },
  {
   "cell_type": "code",
   "execution_count": 115,
   "metadata": {
    "collapsed": false
   },
   "outputs": [],
   "source": [
    "def scores(y_true, y_pred, y_proba):\n",
    "    cnf_matrix = confusion_matrix(y_true, y_pred)\n",
    "    print(cnf_matrix)\n",
    "    \n",
    "    print('Presicion: %f'%precision_score(y_true, y_pred))\n",
    "    print('Recall: %f'%recall_score(y_true, y_pred))\n",
    "    \n",
    "    fpr, tpr, threshold = roc_curve(y_true, y_proba[:, 1])\n",
    "    fig = plt.figure(figsize=(15, 8))\n",
    "    fig.add_subplot(1, 2, 1)   \n",
    "    plt.plot(fpr, tpr)\n",
    "    plt.plot(np.linspace(0, 1), np.linspace(0, 1))\n",
    "    plt.title('ROC: AUC=%0.2f' % auc(fpr, tpr))\n",
    "    plt.xlabel('FPR')\n",
    "    plt.ylabel('TPR')\n",
    "    plt.tight_layout(10)\n",
    "    \n",
    "    fig.add_subplot(1, 2, 2)   \n",
    "    precision, recall, threshold = precision_recall_curve(y_true, y_proba[:, 1])\n",
    "    plt.plot(recall, precision)\n",
    "    plt.plot(np.linspace(0, 1), np.linspace(0, 1))\n",
    "    plt.title('Precision-Recall: AUC=%0.2f' % auc(recall, precision))\n",
    "    plt.xlabel('Precision')\n",
    "    plt.ylabel('Recall');"
   ]
  },
  {
   "cell_type": "code",
   "execution_count": 116,
   "metadata": {
    "collapsed": false
   },
   "outputs": [
    {
     "name": "stdout",
     "output_type": "stream",
     "text": [
      "[[10  2]\n",
      " [ 0  8]]\n",
      "Presicion: 0.800000\n",
      "Recall: 1.000000\n"
     ]
    },
    {
     "data": {
      "image/png": "[encoded data removed]",
      "text/plain": [
       "<matplotlib.figure.Figure at 0x7fb13954beb8>"
      ]
     },
     "metadata": {},
     "output_type": "display_data"
    }
   ],
   "source": [
    "scores(y_val, pred, y_proba)"
   ]
  },
  {
   "cell_type": "markdown",
   "metadata": {},
   "source": [
    "### Задание 2. Нормализация.\n",
    "** Нормализация фичей для улучшения предсказания. Метрики качества - те же что и в предыдущем задании. **"
   ]
  },
  {
   "cell_type": "code",
   "execution_count": 119,
   "metadata": {
    "collapsed": false
   },
   "outputs": [],
   "source": [
    "X = np.append(X_tr, X_ts, axis=0)\n",
    "X = np.append(X, X_val, axis=0)\n",
    "mms = MinMaxScaler()\n",
    "mms.fit(X)\n",
    "X_tr = mms.transform(X_tr)\n",
    "X_val = mms.transform(X_val)\n",
    "X_ts = mms.transform(X_ts)"
   ]
  },
  {
   "cell_type": "code",
   "execution_count": 120,
   "metadata": {
    "collapsed": true
   },
   "outputs": [],
   "source": [
    "lr.fit(X_tr, y_tr)\n",
    "pred_tr = lr.predict(X_val)\n",
    "y_proba_tr = lr.predict_proba(X_val)"
   ]
  },
  {
   "cell_type": "code",
   "execution_count": 122,
   "metadata": {
    "collapsed": false
   },
   "outputs": [
    {
     "name": "stdout",
     "output_type": "stream",
     "text": [
      "[[10  2]\n",
      " [ 0  8]]\n",
      "Presicion: 0.800000\n",
      "Recall: 1.000000\n"
     ]
    },
    {
     "data": {
      "image/png": "[encoded data removed]",
      "text/plain": [
       "<matplotlib.figure.Figure at 0x7fb1394c6c88>"
      ]
     },
     "metadata": {},
     "output_type": "display_data"
    }
   ],
   "source": [
    "scores(y_val, pred_tr, y_proba_tr)"
   ]
  },
  {
   "cell_type": "markdown",
   "metadata": {},
   "source": [
    "### Задание 3. Подбор оптимальных параметров.\n",
    "**Будем менять значения параметров С и типа регуляризации.**"
   ]
  },
  {
   "cell_type": "code",
   "execution_count": 123,
   "metadata": {
    "collapsed": false
   },
   "outputs": [
    {
     "name": "stderr",
     "output_type": "stream",
     "text": [
      "/home/bobrg/anaconda3/lib/python3.5/site-packages/sklearn/metrics/classification.py:1135: UndefinedMetricWarning: Precision is ill-defined and being set to 0.0 due to no predicted samples.\n",
      "  'precision', 'predicted', average, warn_for)\n"
     ]
    }
   ],
   "source": [
    "scores_list = []\n",
    "\n",
    "for i in 10.0**np.arange(-3, 5):\n",
    "    \n",
    "    for j in ['l1', 'l2']:\n",
    "       \n",
    "        lr = LogisticRegression(penalty=j, C=i)\n",
    "        lr.fit(X_tr, y_tr)\n",
    "        pred = lr.predict(X_val)\n",
    "        y_proba = lr.predict_proba(X_val)\n",
    "        \n",
    "        fpr_tr, tpr_tr, threshold_tr = roc_curve(y_val, y_proba[:, 1])\n",
    "        \n",
    "        scores_list.append([i, j, precision_score(y_val, pred), recall_score(y_val, pred), auc(fpr_tr, tpr_tr)])"
   ]
  },
  {
   "cell_type": "code",
   "execution_count": 124,
   "metadata": {
    "collapsed": false
   },
   "outputs": [
    {
     "data": {
      "text/html": [
       "<div>\n",
       "<style>\n",
       "    .dataframe thead tr:only-child th {\n",
       "        text-align: right;\n",
       "    }\n",
       "\n",
       "    .dataframe thead th {\n",
       "        text-align: left;\n",
       "    }\n",
       "\n",
       "    .dataframe tbody tr th {\n",
       "        vertical-align: top;\n",
       "    }\n",
       "</style>\n",
       "<table border=\"1\" class=\"dataframe\">\n",
       "  <thead>\n",
       "    <tr style=\"text-align: right;\">\n",
       "      <th></th>\n",
       "      <th>C</th>\n",
       "      <th>penalty</th>\n",
       "      <th>Precision</th>\n",
       "      <th>Recall</th>\n",
       "      <th>AUC</th>\n",
       "    </tr>\n",
       "  </thead>\n",
       "  <tbody>\n",
       "    <tr>\n",
       "      <th>0</th>\n",
       "      <td>0.001</td>\n",
       "      <td>l1</td>\n",
       "      <td>0.000000</td>\n",
       "      <td>0.000</td>\n",
       "      <td>0.500000</td>\n",
       "    </tr>\n",
       "    <tr>\n",
       "      <th>1</th>\n",
       "      <td>0.001</td>\n",
       "      <td>l2</td>\n",
       "      <td>0.750000</td>\n",
       "      <td>0.750</td>\n",
       "      <td>0.895833</td>\n",
       "    </tr>\n",
       "    <tr>\n",
       "      <th>2</th>\n",
       "      <td>0.010</td>\n",
       "      <td>l1</td>\n",
       "      <td>0.000000</td>\n",
       "      <td>0.000</td>\n",
       "      <td>0.500000</td>\n",
       "    </tr>\n",
       "    <tr>\n",
       "      <th>3</th>\n",
       "      <td>0.010</td>\n",
       "      <td>l2</td>\n",
       "      <td>0.750000</td>\n",
       "      <td>0.750</td>\n",
       "      <td>0.906250</td>\n",
       "    </tr>\n",
       "    <tr>\n",
       "      <th>4</th>\n",
       "      <td>0.100</td>\n",
       "      <td>l1</td>\n",
       "      <td>0.000000</td>\n",
       "      <td>0.000</td>\n",
       "      <td>0.500000</td>\n",
       "    </tr>\n",
       "    <tr>\n",
       "      <th>5</th>\n",
       "      <td>0.100</td>\n",
       "      <td>l2</td>\n",
       "      <td>0.777778</td>\n",
       "      <td>0.875</td>\n",
       "      <td>0.927083</td>\n",
       "    </tr>\n",
       "    <tr>\n",
       "      <th>6</th>\n",
       "      <td>1.000</td>\n",
       "      <td>l1</td>\n",
       "      <td>0.888889</td>\n",
       "      <td>1.000</td>\n",
       "      <td>1.000000</td>\n",
       "    </tr>\n",
       "    <tr>\n",
       "      <th>7</th>\n",
       "      <td>1.000</td>\n",
       "      <td>l2</td>\n",
       "      <td>0.800000</td>\n",
       "      <td>1.000</td>\n",
       "      <td>0.989583</td>\n",
       "    </tr>\n",
       "    <tr>\n",
       "      <th>8</th>\n",
       "      <td>10.000</td>\n",
       "      <td>l1</td>\n",
       "      <td>1.000000</td>\n",
       "      <td>1.000</td>\n",
       "      <td>1.000000</td>\n",
       "    </tr>\n",
       "    <tr>\n",
       "      <th>9</th>\n",
       "      <td>10.000</td>\n",
       "      <td>l2</td>\n",
       "      <td>0.888889</td>\n",
       "      <td>1.000</td>\n",
       "      <td>1.000000</td>\n",
       "    </tr>\n",
       "    <tr>\n",
       "      <th>10</th>\n",
       "      <td>100.000</td>\n",
       "      <td>l1</td>\n",
       "      <td>0.888889</td>\n",
       "      <td>1.000</td>\n",
       "      <td>1.000000</td>\n",
       "    </tr>\n",
       "    <tr>\n",
       "      <th>11</th>\n",
       "      <td>100.000</td>\n",
       "      <td>l2</td>\n",
       "      <td>0.888889</td>\n",
       "      <td>1.000</td>\n",
       "      <td>1.000000</td>\n",
       "    </tr>\n",
       "    <tr>\n",
       "      <th>12</th>\n",
       "      <td>1000.000</td>\n",
       "      <td>l1</td>\n",
       "      <td>1.000000</td>\n",
       "      <td>1.000</td>\n",
       "      <td>1.000000</td>\n",
       "    </tr>\n",
       "    <tr>\n",
       "      <th>13</th>\n",
       "      <td>1000.000</td>\n",
       "      <td>l2</td>\n",
       "      <td>0.888889</td>\n",
       "      <td>1.000</td>\n",
       "      <td>1.000000</td>\n",
       "    </tr>\n",
       "    <tr>\n",
       "      <th>14</th>\n",
       "      <td>10000.000</td>\n",
       "      <td>l1</td>\n",
       "      <td>0.888889</td>\n",
       "      <td>1.000</td>\n",
       "      <td>1.000000</td>\n",
       "    </tr>\n",
       "    <tr>\n",
       "      <th>15</th>\n",
       "      <td>10000.000</td>\n",
       "      <td>l2</td>\n",
       "      <td>0.888889</td>\n",
       "      <td>1.000</td>\n",
       "      <td>1.000000</td>\n",
       "    </tr>\n",
       "  </tbody>\n",
       "</table>\n",
       "</div>"
      ],
      "text/plain": [
       "            C penalty  Precision  Recall       AUC\n",
       "0       0.001      l1   0.000000   0.000  0.500000\n",
       "1       0.001      l2   0.750000   0.750  0.895833\n",
       "2       0.010      l1   0.000000   0.000  0.500000\n",
       "3       0.010      l2   0.750000   0.750  0.906250\n",
       "4       0.100      l1   0.000000   0.000  0.500000\n",
       "5       0.100      l2   0.777778   0.875  0.927083\n",
       "6       1.000      l1   0.888889   1.000  1.000000\n",
       "7       1.000      l2   0.800000   1.000  0.989583\n",
       "8      10.000      l1   1.000000   1.000  1.000000\n",
       "9      10.000      l2   0.888889   1.000  1.000000\n",
       "10    100.000      l1   0.888889   1.000  1.000000\n",
       "11    100.000      l2   0.888889   1.000  1.000000\n",
       "12   1000.000      l1   1.000000   1.000  1.000000\n",
       "13   1000.000      l2   0.888889   1.000  1.000000\n",
       "14  10000.000      l1   0.888889   1.000  1.000000\n",
       "15  10000.000      l2   0.888889   1.000  1.000000"
      ]
     },
     "execution_count": 124,
     "metadata": {},
     "output_type": "execute_result"
    }
   ],
   "source": [
    "scores_df = pd.DataFrame(scores_list, columns=['C', 'penalty', 'Precision', 'Recall', 'AUC'])\n",
    "scores_df"
   ]
  },
  {
   "cell_type": "markdown",
   "metadata": {},
   "source": [
    "### Лучшая модель: penalty=l1, C=10"
   ]
  },
  {
   "cell_type": "code",
   "execution_count": 125,
   "metadata": {
    "collapsed": false
   },
   "outputs": [
    {
     "name": "stdout",
     "output_type": "stream",
     "text": [
      "[[12  0]\n",
      " [ 0  8]]\n",
      "Presicion: 1.000000\n",
      "Recall: 1.000000\n"
     ]
    },
    {
     "data": {
      "image/png": "[encoded data removed]",
      "text/plain": [
       "<matplotlib.figure.Figure at 0x7fb1394c6400>"
      ]
     },
     "metadata": {},
     "output_type": "display_data"
    }
   ],
   "source": [
    "lr_best = LogisticRegression(penalty='l1', C=10)\n",
    "lr_best.fit(X_tr, y_tr)\n",
    "scores(y_val, lr_best.predict(X_val), lr_best.predict_proba(X_val))"
   ]
  },
  {
   "cell_type": "markdown",
   "metadata": {},
   "source": [
    "### Задание 4. Метод опорных векторов.\n",
    "**Построим SVM с дефолтными параметрами, после подберем лучший параметр С. Метрики качества precision/recall, auc-roc.**"
   ]
  },
  {
   "cell_type": "code",
   "execution_count": 126,
   "metadata": {
    "collapsed": false
   },
   "outputs": [
    {
     "name": "stdout",
     "output_type": "stream",
     "text": [
      "[[10  2]\n",
      " [ 2  6]]\n",
      "Presicion: 0.750000\n",
      "Recall: 0.750000\n"
     ]
    },
    {
     "data": {
      "image/png": "[encoded data removed]",
      "text/plain": [
       "<matplotlib.figure.Figure at 0x7fb1394f2048>"
      ]
     },
     "metadata": {},
     "output_type": "display_data"
    }
   ],
   "source": [
    "svc = SVC(probability=True)\n",
    "svc.fit(X_tr, y_tr)\n",
    "scores(y_val, svc.predict(X_val), svc.predict_proba(X_val))"
   ]
  },
  {
   "cell_type": "code",
   "execution_count": 127,
   "metadata": {
    "collapsed": false
   },
   "outputs": [
    {
     "name": "stderr",
     "output_type": "stream",
     "text": [
      "/home/bobrg/anaconda3/lib/python3.5/site-packages/sklearn/metrics/classification.py:1135: UndefinedMetricWarning: Precision is ill-defined and being set to 0.0 due to no predicted samples.\n",
      "  'precision', 'predicted', average, warn_for)\n"
     ]
    }
   ],
   "source": [
    "scores_list = []\n",
    "for i in 10.0**np.arange(-3, 5):\n",
    "        \n",
    "        svc = SVC(C=i, probability=True)\n",
    "        svc.fit(X_tr, y_tr)\n",
    "        pred = svc.predict(X_val)\n",
    "        y_proba = svc.predict_proba(X_val)\n",
    "        \n",
    "        fpr_tr, tpr_tr, threshold_tr = roc_curve(y_val, y_proba[:, 1])\n",
    "        \n",
    "        scores_list.append([i, precision_score(y_val, pred), recall_score(y_val, pred), auc(fpr_tr, tpr_tr)])"
   ]
  },
  {
   "cell_type": "code",
   "execution_count": 128,
   "metadata": {
    "collapsed": false
   },
   "outputs": [
    {
     "data": {
      "text/html": [
       "<div>\n",
       "<style>\n",
       "    .dataframe thead tr:only-child th {\n",
       "        text-align: right;\n",
       "    }\n",
       "\n",
       "    .dataframe thead th {\n",
       "        text-align: left;\n",
       "    }\n",
       "\n",
       "    .dataframe tbody tr th {\n",
       "        vertical-align: top;\n",
       "    }\n",
       "</style>\n",
       "<table border=\"1\" class=\"dataframe\">\n",
       "  <thead>\n",
       "    <tr style=\"text-align: right;\">\n",
       "      <th></th>\n",
       "      <th>C</th>\n",
       "      <th>Precision</th>\n",
       "      <th>Recall</th>\n",
       "      <th>AUC</th>\n",
       "    </tr>\n",
       "  </thead>\n",
       "  <tbody>\n",
       "    <tr>\n",
       "      <th>0</th>\n",
       "      <td>0.001</td>\n",
       "      <td>0.00</td>\n",
       "      <td>0.00</td>\n",
       "      <td>0.104167</td>\n",
       "    </tr>\n",
       "    <tr>\n",
       "      <th>1</th>\n",
       "      <td>0.010</td>\n",
       "      <td>0.00</td>\n",
       "      <td>0.00</td>\n",
       "      <td>0.104167</td>\n",
       "    </tr>\n",
       "    <tr>\n",
       "      <th>2</th>\n",
       "      <td>0.100</td>\n",
       "      <td>0.00</td>\n",
       "      <td>0.00</td>\n",
       "      <td>0.104167</td>\n",
       "    </tr>\n",
       "    <tr>\n",
       "      <th>3</th>\n",
       "      <td>1.000</td>\n",
       "      <td>0.75</td>\n",
       "      <td>0.75</td>\n",
       "      <td>0.906250</td>\n",
       "    </tr>\n",
       "    <tr>\n",
       "      <th>4</th>\n",
       "      <td>10.000</td>\n",
       "      <td>0.80</td>\n",
       "      <td>1.00</td>\n",
       "      <td>1.000000</td>\n",
       "    </tr>\n",
       "    <tr>\n",
       "      <th>5</th>\n",
       "      <td>100.000</td>\n",
       "      <td>0.80</td>\n",
       "      <td>1.00</td>\n",
       "      <td>1.000000</td>\n",
       "    </tr>\n",
       "    <tr>\n",
       "      <th>6</th>\n",
       "      <td>1000.000</td>\n",
       "      <td>0.80</td>\n",
       "      <td>1.00</td>\n",
       "      <td>1.000000</td>\n",
       "    </tr>\n",
       "    <tr>\n",
       "      <th>7</th>\n",
       "      <td>10000.000</td>\n",
       "      <td>0.80</td>\n",
       "      <td>1.00</td>\n",
       "      <td>1.000000</td>\n",
       "    </tr>\n",
       "  </tbody>\n",
       "</table>\n",
       "</div>"
      ],
      "text/plain": [
       "           C  Precision  Recall       AUC\n",
       "0      0.001       0.00    0.00  0.104167\n",
       "1      0.010       0.00    0.00  0.104167\n",
       "2      0.100       0.00    0.00  0.104167\n",
       "3      1.000       0.75    0.75  0.906250\n",
       "4     10.000       0.80    1.00  1.000000\n",
       "5    100.000       0.80    1.00  1.000000\n",
       "6   1000.000       0.80    1.00  1.000000\n",
       "7  10000.000       0.80    1.00  1.000000"
      ]
     },
     "execution_count": 128,
     "metadata": {},
     "output_type": "execute_result"
    }
   ],
   "source": [
    "scores_df = pd.DataFrame(scores_list, columns=['C', 'Precision', 'Recall', 'AUC'])\n",
    "scores_df"
   ]
  },
  {
   "cell_type": "markdown",
   "metadata": {},
   "source": [
    "### Лучшая модель: C=10"
   ]
  },
  {
   "cell_type": "code",
   "execution_count": 134,
   "metadata": {
    "collapsed": false
   },
   "outputs": [
    {
     "name": "stdout",
     "output_type": "stream",
     "text": [
      "[[10  2]\n",
      " [ 0  8]]\n",
      "Presicion: 0.800000\n",
      "Recall: 1.000000\n"
     ]
    },
    {
     "data": {
      "image/png": "[encoded data removed]",
      "text/plain": [
       "<matplotlib.figure.Figure at 0x7fb13922c978>"
      ]
     },
     "metadata": {},
     "output_type": "display_data"
    }
   ],
   "source": [
    "svc_best = SVC(C=10, probability=True)\n",
    "svc_best.fit(X_tr, y_tr)\n",
    "scores(y_val, svc_best.predict(X_val), svc_best.predict_proba(X_val))"
   ]
  },
  {
   "cell_type": "markdown",
   "metadata": {},
   "source": [
    "### Задание 5. Предсказания.\n",
    "** Делаем предсказания моделями с лучшими параметрами. **"
   ]
  },
  {
   "cell_type": "code",
   "execution_count": 137,
   "metadata": {
    "collapsed": false
   },
   "outputs": [],
   "source": [
    "pred_ts_lr = lr_best.predict(X_ts)\n",
    "pred_ts_svc = svc_best.predict(X_ts)\n",
    "proba_ts_lr = lr_best.predict_proba(X_ts)\n",
    "proba_ts_svc = svc_best.predict_proba(X_ts)"
   ]
  },
  {
   "cell_type": "code",
   "execution_count": 148,
   "metadata": {
    "collapsed": false
   },
   "outputs": [
    {
     "data": {
      "text/html": [
       "<div>\n",
       "<style>\n",
       "    .dataframe thead tr:only-child th {\n",
       "        text-align: right;\n",
       "    }\n",
       "\n",
       "    .dataframe thead th {\n",
       "        text-align: left;\n",
       "    }\n",
       "\n",
       "    .dataframe tbody tr th {\n",
       "        vertical-align: top;\n",
       "    }\n",
       "</style>\n",
       "<table border=\"1\" class=\"dataframe\">\n",
       "  <thead>\n",
       "    <tr style=\"text-align: right;\">\n",
       "      <th></th>\n",
       "      <th>lr_preds</th>\n",
       "      <th>lr_proba_1</th>\n",
       "      <th>svc_preds</th>\n",
       "      <th>svc_proba_1</th>\n",
       "    </tr>\n",
       "  </thead>\n",
       "  <tbody>\n",
       "    <tr>\n",
       "      <th>0</th>\n",
       "      <td>1.0</td>\n",
       "      <td>0.983672</td>\n",
       "      <td>1.0</td>\n",
       "      <td>0.807657</td>\n",
       "    </tr>\n",
       "    <tr>\n",
       "      <th>1</th>\n",
       "      <td>1.0</td>\n",
       "      <td>0.995429</td>\n",
       "      <td>1.0</td>\n",
       "      <td>0.943242</td>\n",
       "    </tr>\n",
       "    <tr>\n",
       "      <th>2</th>\n",
       "      <td>0.0</td>\n",
       "      <td>0.314954</td>\n",
       "      <td>0.0</td>\n",
       "      <td>0.484104</td>\n",
       "    </tr>\n",
       "    <tr>\n",
       "      <th>3</th>\n",
       "      <td>1.0</td>\n",
       "      <td>0.938810</td>\n",
       "      <td>1.0</td>\n",
       "      <td>0.904150</td>\n",
       "    </tr>\n",
       "    <tr>\n",
       "      <th>4</th>\n",
       "      <td>1.0</td>\n",
       "      <td>0.993290</td>\n",
       "      <td>1.0</td>\n",
       "      <td>0.870032</td>\n",
       "    </tr>\n",
       "    <tr>\n",
       "      <th>5</th>\n",
       "      <td>1.0</td>\n",
       "      <td>0.994750</td>\n",
       "      <td>1.0</td>\n",
       "      <td>0.933975</td>\n",
       "    </tr>\n",
       "    <tr>\n",
       "      <th>6</th>\n",
       "      <td>1.0</td>\n",
       "      <td>0.930387</td>\n",
       "      <td>1.0</td>\n",
       "      <td>0.625486</td>\n",
       "    </tr>\n",
       "    <tr>\n",
       "      <th>7</th>\n",
       "      <td>1.0</td>\n",
       "      <td>0.995997</td>\n",
       "      <td>1.0</td>\n",
       "      <td>0.969977</td>\n",
       "    </tr>\n",
       "    <tr>\n",
       "      <th>8</th>\n",
       "      <td>1.0</td>\n",
       "      <td>0.997660</td>\n",
       "      <td>1.0</td>\n",
       "      <td>0.797290</td>\n",
       "    </tr>\n",
       "    <tr>\n",
       "      <th>9</th>\n",
       "      <td>1.0</td>\n",
       "      <td>0.983389</td>\n",
       "      <td>1.0</td>\n",
       "      <td>0.718099</td>\n",
       "    </tr>\n",
       "    <tr>\n",
       "      <th>10</th>\n",
       "      <td>1.0</td>\n",
       "      <td>0.908655</td>\n",
       "      <td>1.0</td>\n",
       "      <td>0.704480</td>\n",
       "    </tr>\n",
       "    <tr>\n",
       "      <th>11</th>\n",
       "      <td>1.0</td>\n",
       "      <td>0.996499</td>\n",
       "      <td>1.0</td>\n",
       "      <td>0.924400</td>\n",
       "    </tr>\n",
       "  </tbody>\n",
       "</table>\n",
       "</div>"
      ],
      "text/plain": [
       "    lr_preds  lr_proba_1  svc_preds  svc_proba_1\n",
       "0        1.0    0.983672        1.0     0.807657\n",
       "1        1.0    0.995429        1.0     0.943242\n",
       "2        0.0    0.314954        0.0     0.484104\n",
       "3        1.0    0.938810        1.0     0.904150\n",
       "4        1.0    0.993290        1.0     0.870032\n",
       "5        1.0    0.994750        1.0     0.933975\n",
       "6        1.0    0.930387        1.0     0.625486\n",
       "7        1.0    0.995997        1.0     0.969977\n",
       "8        1.0    0.997660        1.0     0.797290\n",
       "9        1.0    0.983389        1.0     0.718099\n",
       "10       1.0    0.908655        1.0     0.704480\n",
       "11       1.0    0.996499        1.0     0.924400"
      ]
     },
     "execution_count": 148,
     "metadata": {},
     "output_type": "execute_result"
    }
   ],
   "source": [
    "preds_df = pd.DataFrame(np.concatenate((pred_ts_lr.reshape(-1, 1), proba_ts_lr[:, 1].reshape(-1, 1), pred_ts_svc.reshape(-1, 1), proba_ts_svc[:, 1].reshape(-1, 1)), axis=1), columns=['lr_preds','lr_proba_1', 'svc_preds', 'svc_proba_1'])\n",
    "preds_df"
   ]
  },
  {
   "cell_type": "markdown",
   "metadata": {},
   "source": [
    "**Как видим логистическая регрессия больше уверена в своих ответах, нежели метод опорных векторов. Однако обе модели выдали одинаковые итоговые предсказания для классификации.**<br>\n",
    "# P.S. А еще меньше данных дать нельзя было?"
   ]
  },
  {
   "cell_type": "code",
   "execution_count": null,
   "metadata": {
    "collapsed": true
   },
   "outputs": [],
   "source": []
  }
 ],
 "metadata": {
  "anaconda-cloud": {},
  "kernelspec": {
   "display_name": "Python [default]",
   "language": "python",
   "name": "python3"
  },
  "language_info": {
   "codemirror_mode": {
    "name": "ipython",
    "version": 3
   },
   "file_extension": ".py",
   "mimetype": "text/x-python",
   "name": "python",
   "nbconvert_exporter": "python",
   "pygments_lexer": "ipython3",
   "version": "3.5.4"
  }
 },
 "nbformat": 4,
 "nbformat_minor": 1
}
