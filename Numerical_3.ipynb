{
 "cells": [
  {
   "cell_type": "code",
   "execution_count": 1,
   "metadata": {
    "collapsed": true
   },
   "outputs": [],
   "source": [
    "import numpy as np\n",
    "import matplotlib.pyplot as plt\n",
    "%matplotlib inline\n",
    "\n",
    "from scipy.optimize import fsolve\n",
    "from scipy.misc import derivative"
   ]
  },
  {
   "cell_type": "markdown",
   "metadata": {},
   "source": [
    "## Задание 1.\n",
    "Найти с точностью корни системы нелинейных уравнений $\\varepsilon = 10^{6}$:\n",
    "\n",
    "$\\begin{equation*}\n",
    "\\begin{cases}\n",
    "f_1(x_1, x_2) = 0,\\\\\n",
    "f_2(x_1, x_2) = 0\\\\\n",
    "\\end{cases}\n",
    "\\end{equation*}$\n",
    "\n",
    "\n",
    "используя **метод Ньютона для системы нелинейных уравнений**.\n",
    "\n",
    "Система из варианта 4:\n",
    "\n",
    "$\\begin{equation*}\n",
    "\\begin{cases}\n",
    "\\cos x_1 + x_2 - 1.5 = 0\\\\ \n",
    "2x_1 - \\sin(x_2 - 0.5) - 1 = 0\\\\\n",
    "\\end{cases}\n",
    "\\end{equation*}$\n"
   ]
  },
  {
   "cell_type": "markdown",
   "metadata": {},
   "source": [
    "**Зададим систему нелинейных уравнений.**"
   ]
  },
  {
   "cell_type": "code",
   "execution_count": 2,
   "metadata": {
    "collapsed": true
   },
   "outputs": [],
   "source": [
    "def equations(p):\n",
    "    x, y = p[0], p[1]\n",
    "    return np.array([np.cos(x) + np.cos(y) - 1.5, 2*x - np.sin(y - 0.5) - 1])"
   ]
  },
  {
   "cell_type": "markdown",
   "metadata": {},
   "source": [
    "**Определим вспомогательную функцию для поиска производной функции двух переменных.**"
   ]
  },
  {
   "cell_type": "code",
   "execution_count": 4,
   "metadata": {
    "collapsed": true
   },
   "outputs": [],
   "source": [
    "# find partial derivative for function of multiple variables\n",
    "# f - array with functions;\n",
    "# f_num - number of function in system;\n",
    "# var - variable for which we count partial derivative;\n",
    "# point - list of point where to find derivative;\n",
    "def partial_derivative(func, f_num=0, var=0, point=[]):\n",
    "    args = point[:]\n",
    "    def wraps(x):\n",
    "        args[var] = x\n",
    "        return func(args)[f_num]\n",
    "    return derivative(wraps, point[var], dx = 1e-6)\n",
    "# find jacobian for system of functions\n",
    "# f - array with functions;\n",
    "# x - point where to find jacobian;\n",
    "# num - amount of functions in system;\n",
    "def Jacobian(f, x, num=2):\n",
    "    jacob = np.zeros((2, 2))\n",
    "    for i in range(num):\n",
    "        for j in range(num):\n",
    "            jacob[i] = partial_derivative(f, i, j, x)\n",
    "    return jacob"
   ]
  },
  {
   "cell_type": "markdown",
   "metadata": {},
   "source": [
    "### Метод Ньютона (для систем нелинейных уравнений).\n",
    "Имеем приближение $x_{i}$ к корню системы и мы ищем лучшее приближение $x_{i+1}$ путем аппроксимации функции $F(x_{i+1})$ линейной функцией и решением соответствующей системы теперь уже линейных уравнений. Мы аппроксимируем нелинейную задачу $F(x_{i+1})=0$ линейной:\n",
    "\n",
    "$F(x_{i}) + J(x_{i})(x_{i+1} - x_{i}) = 0, \\qquad (1)$\n",
    "\n",
    "где $ J(x_{i})$ - *якобиан* системы $F(x_{i})$\n",
    "\n",
    "уравнение (1) является линейной системой с матрицей коэффициентов $J$ и вектором $F(x_{i})$. Переписывая в другой форме, получим:\n",
    "\n",
    "$J(x_{i})\\delta=-F(x_{i}), \\delta = (x_{i+1} - x_{i})$\n",
    "\n",
    "На каждой итерации метода Ньютона выполняем следующие шаги:\n",
    "\n",
    "1. Решаем $J(x_{i})\\delta=-F(x_{i})$ для $\\delta$.\n",
    "2. Выражаем $x_{i+1}=x_{i}+\\delta$\n",
    "\n"
   ]
  },
  {
   "cell_type": "code",
   "execution_count": 5,
   "metadata": {
    "collapsed": true
   },
   "outputs": [],
   "source": [
    "def newton_for_nonlinear(F, J, x, norm, eps):\n",
    "    # ||F|| < eps - stop criterion.\n",
    "    count = 0\n",
    "    while abs(np.linalg.norm(F(x), ord=norm)) > eps and count < 100:\n",
    "        delta = np.linalg.solve(J(F, x), -1*F(x))\n",
    "        x = x + delta\n",
    "        count += 1\n",
    "    return x, count"
   ]
  },
  {
   "cell_type": "code",
   "execution_count": 132,
   "metadata": {
    "collapsed": false
   },
   "outputs": [],
   "source": [
    "x, n = newton_for_nonlinear(equations, Jacobian, x=np.array([-2, -1]), norm=2, eps=1e-6)"
   ]
  },
  {
   "cell_type": "code",
   "execution_count": 133,
   "metadata": {
    "collapsed": false
   },
   "outputs": [
    {
     "data": {
      "text/plain": [
       "array([  6.44969527e-01,   5.85040744e+05])"
      ]
     },
     "execution_count": 133,
     "metadata": {},
     "output_type": "execute_result"
    }
   ],
   "source": [
    "x"
   ]
  },
  {
   "cell_type": "code",
   "execution_count": 134,
   "metadata": {
    "collapsed": false
   },
   "outputs": [
    {
     "data": {
      "text/plain": [
       "25"
      ]
     },
     "execution_count": 134,
     "metadata": {},
     "output_type": "execute_result"
    }
   ],
   "source": [
    "n"
   ]
  },
  {
   "cell_type": "code",
   "execution_count": 135,
   "metadata": {
    "collapsed": false
   },
   "outputs": [
    {
     "name": "stdout",
     "output_type": "stream",
     "text": [
      "0.000139219223379 -1.04719754001\n"
     ]
    }
   ],
   "source": [
    "x, y = fsolve(equations, (-2, -1))\n",
    "\n",
    "print(x, y)"
   ]
  },
  {
   "cell_type": "code",
   "execution_count": 33,
   "metadata": {
    "collapsed": false
   },
   "outputs": [
    {
     "data": {
      "text/plain": [
       "-1.9496901907323057"
      ]
     },
     "execution_count": 33,
     "metadata": {},
     "output_type": "execute_result"
    }
   ],
   "source": [
    "equations((3,1))[0]"
   ]
  },
  {
   "cell_type": "code",
   "execution_count": 40,
   "metadata": {
    "collapsed": true
   },
   "outputs": [],
   "source": [
    "def foo(x):\n",
    "    return x"
   ]
  },
  {
   "cell_type": "code",
   "execution_count": 54,
   "metadata": {
    "collapsed": false
   },
   "outputs": [
    {
     "data": {
      "text/plain": [
       "-0.87758256184233829"
      ]
     },
     "execution_count": 54,
     "metadata": {},
     "output_type": "execute_result"
    }
   ],
   "source": [
    "partial_derivative(equations,1, 1, [1,1])"
   ]
  },
  {
   "cell_type": "code",
   "execution_count": 55,
   "metadata": {
    "collapsed": false
   },
   "outputs": [
    {
     "data": {
      "text/plain": [
       "[[-0.84147098478037918, -0.84147098478037918],\n",
       " [1.999999999946489, -0.87758256184233829]]"
      ]
     },
     "execution_count": 55,
     "metadata": {},
     "output_type": "execute_result"
    }
   ],
   "source": [
    "Jacobian(equations, [1, 1])"
   ]
  },
  {
   "cell_type": "code",
   "execution_count": null,
   "metadata": {
    "collapsed": true
   },
   "outputs": [],
   "source": []
  }
 ],
 "metadata": {
  "anaconda-cloud": {},
  "kernelspec": {
   "display_name": "Python [default]",
   "language": "python",
   "name": "python3"
  },
  "language_info": {
   "codemirror_mode": {
    "name": "ipython",
    "version": 3
   },
   "file_extension": ".py",
   "mimetype": "text/x-python",
   "name": "python",
   "nbconvert_exporter": "python",
   "pygments_lexer": "ipython3",
   "version": "3.5.4"
  }
 },
 "nbformat": 4,
 "nbformat_minor": 1
}
