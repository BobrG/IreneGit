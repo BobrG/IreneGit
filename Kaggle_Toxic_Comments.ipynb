{
 "cells": [
  {
   "cell_type": "code",
   "execution_count": 49,
   "metadata": {
    "collapsed": false
   },
   "outputs": [],
   "source": [
    "#basic\n",
    "import os\n",
    "import pandas as pd\n",
    "import numpy as np\n",
    "import matplotlib.pyplot as plt\n",
    "%matplotlib inline \n",
    "from tqdm import tqdm, tqdm_notebook\n",
    "#for text-preprocessing\n",
    "import re\n",
    "import nltk\n",
    "from nltk.corpus import stopwords\n",
    "from nltk.tokenize import TweetTokenizer\n",
    "from keras.preprocessing.text import Tokenizer\n",
    "from keras.preprocessing.text import one_hot, text_to_word_sequence\n",
    "from keras.preprocessing.sequence import pad_sequences\n",
    "from nltk.stem.porter import PorterStemmer\n",
    "from nltk.stem import WordNetLemmatizer\n",
    "#featureengineering\n",
    "from sklearn.feature_extraction.text import TfidfVectorizer, CountVectorizer, HashingVectorizer\n",
    "from sklearn.decomposition import TruncatedSVD\n",
    "#xgboost\n",
    "from xgboost import XGBClassifier\n",
    "from sklearn.multiclass import OneVsRestClassifier\n",
    "from sklearn.model_selection import GridSearchCV\n",
    "from sklearn.metrics import log_loss\n",
    "from sklearn.multioutput import ClassifierChain\n",
    "from sklearn.metrics import jaccard_similarity_score"
   ]
  },
  {
   "cell_type": "markdown",
   "metadata": {},
   "source": [
    "## 1. Exploring Data:"
   ]
  },
  {
   "cell_type": "code",
   "execution_count": 2,
   "metadata": {
    "collapsed": true
   },
   "outputs": [],
   "source": [
    "train = pd.read_csv('data/train.csv.zip')\n",
    "test = pd.read_csv('data/test.csv.zip')"
   ]
  },
  {
   "cell_type": "code",
   "execution_count": 3,
   "metadata": {
    "collapsed": false
   },
   "outputs": [
    {
     "data": {
      "text/html": [
       "<div>\n",
       "<style>\n",
       "    .dataframe thead tr:only-child th {\n",
       "        text-align: right;\n",
       "    }\n",
       "\n",
       "    .dataframe thead th {\n",
       "        text-align: left;\n",
       "    }\n",
       "\n",
       "    .dataframe tbody tr th {\n",
       "        vertical-align: top;\n",
       "    }\n",
       "</style>\n",
       "<table border=\"1\" class=\"dataframe\">\n",
       "  <thead>\n",
       "    <tr style=\"text-align: right;\">\n",
       "      <th></th>\n",
       "      <th>id</th>\n",
       "      <th>comment_text</th>\n",
       "      <th>toxic</th>\n",
       "      <th>severe_toxic</th>\n",
       "      <th>obscene</th>\n",
       "      <th>threat</th>\n",
       "      <th>insult</th>\n",
       "      <th>identity_hate</th>\n",
       "    </tr>\n",
       "  </thead>\n",
       "  <tbody>\n",
       "    <tr>\n",
       "      <th>159561</th>\n",
       "      <td>ffd2e85b07b3c7e4</td>\n",
       "      <td>\"\\nNo he did not, read it again (I would have ...</td>\n",
       "      <td>0</td>\n",
       "      <td>0</td>\n",
       "      <td>0</td>\n",
       "      <td>0</td>\n",
       "      <td>0</td>\n",
       "      <td>0</td>\n",
       "    </tr>\n",
       "    <tr>\n",
       "      <th>159562</th>\n",
       "      <td>ffd72e9766c09c97</td>\n",
       "      <td>\"\\n Auto guides and the motoring press are not...</td>\n",
       "      <td>0</td>\n",
       "      <td>0</td>\n",
       "      <td>0</td>\n",
       "      <td>0</td>\n",
       "      <td>0</td>\n",
       "      <td>0</td>\n",
       "    </tr>\n",
       "    <tr>\n",
       "      <th>159563</th>\n",
       "      <td>ffe029a7c79dc7fe</td>\n",
       "      <td>\"\\nplease identify what part of BLP applies be...</td>\n",
       "      <td>0</td>\n",
       "      <td>0</td>\n",
       "      <td>0</td>\n",
       "      <td>0</td>\n",
       "      <td>0</td>\n",
       "      <td>0</td>\n",
       "    </tr>\n",
       "    <tr>\n",
       "      <th>159564</th>\n",
       "      <td>ffe897e7f7182c90</td>\n",
       "      <td>Catalan independentism is the social movement ...</td>\n",
       "      <td>0</td>\n",
       "      <td>0</td>\n",
       "      <td>0</td>\n",
       "      <td>0</td>\n",
       "      <td>0</td>\n",
       "      <td>0</td>\n",
       "    </tr>\n",
       "    <tr>\n",
       "      <th>159565</th>\n",
       "      <td>ffe8b9316245be30</td>\n",
       "      <td>The numbers in parentheses are the additional ...</td>\n",
       "      <td>0</td>\n",
       "      <td>0</td>\n",
       "      <td>0</td>\n",
       "      <td>0</td>\n",
       "      <td>0</td>\n",
       "      <td>0</td>\n",
       "    </tr>\n",
       "    <tr>\n",
       "      <th>159566</th>\n",
       "      <td>ffe987279560d7ff</td>\n",
       "      <td>\":::::And for the second time of asking, when ...</td>\n",
       "      <td>0</td>\n",
       "      <td>0</td>\n",
       "      <td>0</td>\n",
       "      <td>0</td>\n",
       "      <td>0</td>\n",
       "      <td>0</td>\n",
       "    </tr>\n",
       "    <tr>\n",
       "      <th>159567</th>\n",
       "      <td>ffea4adeee384e90</td>\n",
       "      <td>You should be ashamed of yourself \\n\\nThat is ...</td>\n",
       "      <td>0</td>\n",
       "      <td>0</td>\n",
       "      <td>0</td>\n",
       "      <td>0</td>\n",
       "      <td>0</td>\n",
       "      <td>0</td>\n",
       "    </tr>\n",
       "    <tr>\n",
       "      <th>159568</th>\n",
       "      <td>ffee36eab5c267c9</td>\n",
       "      <td>Spitzer \\n\\nUmm, theres no actual article for ...</td>\n",
       "      <td>0</td>\n",
       "      <td>0</td>\n",
       "      <td>0</td>\n",
       "      <td>0</td>\n",
       "      <td>0</td>\n",
       "      <td>0</td>\n",
       "    </tr>\n",
       "    <tr>\n",
       "      <th>159569</th>\n",
       "      <td>fff125370e4aaaf3</td>\n",
       "      <td>And it looks like it was actually you who put ...</td>\n",
       "      <td>0</td>\n",
       "      <td>0</td>\n",
       "      <td>0</td>\n",
       "      <td>0</td>\n",
       "      <td>0</td>\n",
       "      <td>0</td>\n",
       "    </tr>\n",
       "    <tr>\n",
       "      <th>159570</th>\n",
       "      <td>fff46fc426af1f9a</td>\n",
       "      <td>\"\\nAnd ... I really don't think you understand...</td>\n",
       "      <td>0</td>\n",
       "      <td>0</td>\n",
       "      <td>0</td>\n",
       "      <td>0</td>\n",
       "      <td>0</td>\n",
       "      <td>0</td>\n",
       "    </tr>\n",
       "  </tbody>\n",
       "</table>\n",
       "</div>"
      ],
      "text/plain": [
       "                      id                                       comment_text  \\\n",
       "159561  ffd2e85b07b3c7e4  \"\\nNo he did not, read it again (I would have ...   \n",
       "159562  ffd72e9766c09c97  \"\\n Auto guides and the motoring press are not...   \n",
       "159563  ffe029a7c79dc7fe  \"\\nplease identify what part of BLP applies be...   \n",
       "159564  ffe897e7f7182c90  Catalan independentism is the social movement ...   \n",
       "159565  ffe8b9316245be30  The numbers in parentheses are the additional ...   \n",
       "159566  ffe987279560d7ff  \":::::And for the second time of asking, when ...   \n",
       "159567  ffea4adeee384e90  You should be ashamed of yourself \\n\\nThat is ...   \n",
       "159568  ffee36eab5c267c9  Spitzer \\n\\nUmm, theres no actual article for ...   \n",
       "159569  fff125370e4aaaf3  And it looks like it was actually you who put ...   \n",
       "159570  fff46fc426af1f9a  \"\\nAnd ... I really don't think you understand...   \n",
       "\n",
       "        toxic  severe_toxic  obscene  threat  insult  identity_hate  \n",
       "159561      0             0        0       0       0              0  \n",
       "159562      0             0        0       0       0              0  \n",
       "159563      0             0        0       0       0              0  \n",
       "159564      0             0        0       0       0              0  \n",
       "159565      0             0        0       0       0              0  \n",
       "159566      0             0        0       0       0              0  \n",
       "159567      0             0        0       0       0              0  \n",
       "159568      0             0        0       0       0              0  \n",
       "159569      0             0        0       0       0              0  \n",
       "159570      0             0        0       0       0              0  "
      ]
     },
     "execution_count": 3,
     "metadata": {},
     "output_type": "execute_result"
    }
   ],
   "source": [
    "train.tail(10)"
   ]
  },
  {
   "cell_type": "code",
   "execution_count": 6,
   "metadata": {
    "collapsed": false
   },
   "outputs": [
    {
     "name": "stdout",
     "output_type": "stream",
     "text": [
      "train nulls\n",
      "id               0\n",
      "comment_text     0\n",
      "toxic            0\n",
      "severe_toxic     0\n",
      "obscene          0\n",
      "threat           0\n",
      "insult           0\n",
      "identity_hate    0\n",
      "dtype: int64\n",
      "test nulls\n",
      "id              0\n",
      "comment_text    0\n",
      "dtype: int64\n"
     ]
    }
   ],
   "source": [
    "print( 'train nulls',\n",
    "train.isnull().sum(),\n",
    "      'test nulls',\n",
    "test.isnull().sum(),\n",
    "sep='\\n')"
   ]
  },
  {
   "cell_type": "code",
   "execution_count": 7,
   "metadata": {
    "collapsed": true
   },
   "outputs": [],
   "source": [
    "train.comment_text.fillna('unknown', inplace=True)\n",
    "test.comment_text.fillna('unknown', inplace=True)"
   ]
  },
  {
   "cell_type": "code",
   "execution_count": 8,
   "metadata": {
    "collapsed": true
   },
   "outputs": [],
   "source": [
    "classes_ = ['toxic', 'severe_toxic', 'obscene', 'threat', 'insult', 'identity_hate']"
   ]
  },
  {
   "cell_type": "code",
   "execution_count": 9,
   "metadata": {
    "collapsed": false
   },
   "outputs": [
    {
     "data": {
      "text/plain": [
       "Text(0,0.5,'Amount of comments in ds')"
      ]
     },
     "execution_count": 9,
     "metadata": {},
     "output_type": "execute_result"
    },
    {
     "data": {
      "image/png": "[encoded data removed]",
      "text/plain": [
       "<matplotlib.figure.Figure at 0x7f12b99db748>"
      ]
     },
     "metadata": {},
     "output_type": "display_data"
    }
   ],
   "source": [
    "bins = train[classes_].sum(axis=1).unique()\n",
    "bins.sort()\n",
    "fig = plt.figure(figsize=(7, 7))\n",
    "plt.hist(train[classes_].sum(axis=1), bins)\n",
    "plt.title('Labels info_1')\n",
    "plt.xlabel('Amount of classes for comment')\n",
    "plt.ylabel('Amount of comments in ds')"
   ]
  },
  {
   "cell_type": "code",
   "execution_count": 10,
   "metadata": {
    "collapsed": false
   },
   "outputs": [
    {
     "data": {
      "text/plain": [
       "toxic            15294\n",
       "severe_toxic      1595\n",
       "obscene           8449\n",
       "threat             478\n",
       "insult            7877\n",
       "identity_hate     1405\n",
       "dtype: int64"
      ]
     },
     "execution_count": 10,
     "metadata": {},
     "output_type": "execute_result"
    }
   ],
   "source": [
    "train[classes_].sum(axis=0)"
   ]
  },
  {
   "cell_type": "code",
   "execution_count": 11,
   "metadata": {
    "collapsed": false
   },
   "outputs": [
    {
     "name": "stdout",
     "output_type": "stream",
     "text": [
      "CLASS TOXIC\n",
      "and i'm going to keep posting the stuff u deleted until this fucking site closes down have fun u stupid ass bitch don't ever delete anything fuckin hore like i said before go to hell\n",
      "\n",
      "CLASS SEVERE_TOXIC\n",
      "Shalom \n",
      "\n",
      "Semite, get the fuck out of here. I will kill you, you son of a bitch if you don't leave wikipedia. If you tell anyone I said this to you, I will rape your jew family. Choke on a bagel, you faggoty hymie cock sucker. You better fucking die, before I hunt you down and piss on your face. If you get me blocked for this, I will find you and shoot you, I just want your jew fucking self gone, you dumb motherfucking piece of shit g-d damn jew. Die! Shalom. We Came In?\n",
      "\n",
      "CLASS OBSCENE\n",
      "and i'm going to keep posting the stuff u deleted until this fucking site closes down have fun u stupid ass bitch don't ever delete anything fuckin hore like i said before go to hell\n",
      "\n",
      "CLASS THREAT\n",
      "Shalom \n",
      "\n",
      "Semite, get the fuck out of here. I will kill you, you son of a bitch if you don't leave wikipedia. If you tell anyone I said this to you, I will rape your jew family. Choke on a bagel, you faggoty hymie cock sucker. You better fucking die, before I hunt you down and piss on your face. If you get me blocked for this, I will find you and shoot you, I just want your jew fucking self gone, you dumb motherfucking piece of shit g-d damn jew. Die! Shalom. We Came In?\n",
      "\n",
      "CLASS INSULT\n",
      "and i'm going to keep posting the stuff u deleted until this fucking site closes down have fun u stupid ass bitch don't ever delete anything fuckin hore like i said before go to hell\n",
      "\n",
      "CLASS IDENTITY_HATE\n",
      "\"\n",
      "\n",
      " our previous conversation \n",
      "\n",
      "you fucking shit eating liberal, you make lady bird johnson shake on her tampon. I said fucking sorry for my little brother and you still had to fucking complain. My life is fucking shit. My mother is always yelling at me and my dad beats the shit out of me if I get fucking out of line. My brother's one outlet is wikipedia. He cried when he saw my father smacking me, and his tears clogged his mac book pro's keyboard. we had to go to fucking apple and get a new one, all out of my mom's pocket. then last night i wanted to take this hot pussy from connecticut out in my dad's new rolls-royce and he said fucking no. so you know what I fucking did? I fucking cut his pinky off and didnt snitch like a little bitch like you. I take lazy ass niggers like you and stomp you with my fat nazi heel. you should be FUCKING sorry you ever fucked with me or my dad (Steve Jobs). And if I find out your using Linux, I'll take pity on thee. Cause you're just too stupid to understand shit. i can see your fucking at some fucking computer and you think that you have some power on this fucking site. let me tell you something you little bitch. when i'm doing coke off strippers titties in da clubz, you can just edit some fucking wikipedia articles. i smoke a phat blunt every damn day, and you smoke your mom's fucking tea. So, in closing, as Shakespeare said in Sonnet ninety-four (I believe): \"\"things turn sourest by their deeds. Lillies that fester smell far worse than (fucking) weeds.\"\"\n",
      "fuck you and heil hitler.\n",
      "\n",
      "-n. jobs\n",
      "\n",
      "ps- if you ever fucking ban this ip again, there is going to be some serious shit thats gonna happen. i know a fucking guy.\"\n",
      "\n"
     ]
    }
   ],
   "source": [
    "for i in classes_:\n",
    "    print('CLASS', i.upper())\n",
    "    tmp = np.asarray(train[train[i] == 1].comment_text)\n",
    "    print(tmp[-1])\n",
    "    print()"
   ]
  },
  {
   "cell_type": "code",
   "execution_count": 45,
   "metadata": {
    "collapsed": false
   },
   "outputs": [],
   "source": [
    "train, train_labels = train.drop(classes_, axis=1), train[classes_]\n",
    "test, test_labels = test.drop(classes_, axis=1), test[classes_]"
   ]
  },
  {
   "cell_type": "markdown",
   "metadata": {},
   "source": [
    "## Feature Engineering:"
   ]
  },
  {
   "cell_type": "code",
   "execution_count": 13,
   "metadata": {
    "collapsed": true
   },
   "outputs": [],
   "source": [
    "neg_words = [i[:-1] for i in open('negative-words.txt')]"
   ]
  },
  {
   "cell_type": "code",
   "execution_count": 16,
   "metadata": {
    "collapsed": true
   },
   "outputs": [],
   "source": [
    "symbs = ['!', '@', '#', '$', '%', '^', '&', '(', '*', '№', '=', '-', '+', '<', '>']\n",
    "punct = ['.', ',', '\\'', ';', ':']\n",
    "smailes = [':)', ':D', ')']\n",
    "neg_phrases = ['fuck you', 'screw you', 'kill you', 'beat you', 'die you', 'damn it', 'damn you', 'bitchin out', 'duck face'  ]\n",
    "short_phrases = ['wtf', 'dgaf', 'fml', 'foad', 'ftw', 'milf']\n",
    "races_and_orients = ['lesbian', 'gay', 'homo', 'bromance', 'dyke', 'lesbo', 'lezzie', 'faggot', 'nigga', 'nigger', 'jew', 'yankee', 'racist']"
   ]
  },
  {
   "cell_type": "markdown",
   "metadata": {},
   "source": [
    "### Train features"
   ]
  },
  {
   "cell_type": "code",
   "execution_count": 14,
   "metadata": {
    "collapsed": true
   },
   "outputs": [],
   "source": [
    "neg_words_counts = train_data.comment_text.apply(lambda a: len([i for i in a.lower().split() if i in neg_words]))"
   ]
  },
  {
   "cell_type": "code",
   "execution_count": 17,
   "metadata": {
    "collapsed": false
   },
   "outputs": [],
   "source": [
    "symbols_count = train.comment_text.apply(lambda a: len([i for i in a.lower().split() if i in symbs]))\n",
    "\n",
    "punct_count = train.comment_text.apply(lambda a: len([i for i in a.lower().split() if i in punct]))\n",
    "\n",
    "smailes_count = train.comment_text.apply(lambda a: len([i for i in a.lower().split() if i in smailes]))\n",
    "\n",
    "len_of_comment = train.comment_text.apply(lambda a: len(a))\n",
    "\n",
    "capital_letters = train.comment_text.apply(lambda a: len([i for i in a if i.isupper()]))\n",
    "\n",
    "neg_phrases_count = train.comment_text.apply(lambda a: len([i for i in neg_phrases if i in a]))\n",
    "\n",
    "short_phrases_count = train.comment_text.apply(lambda a: len([i for i in a.lower().split() if i in short_phrases]))\n",
    "\n",
    "races_and_orients_count = train.comment_text.apply(lambda a: len([i for i in a.lower().split() if i in races_and_orients]))\n",
    "\n",
    "count_spaces = train.comment_text.apply(lambda a: len([i for i in a if i == ' ']))\n",
    "\n",
    "count_ips = train.comment_text.apply(lambda a: len(re.findall(\"\\d{1,3}.\\d{1,3}.\\d{1,3}.\\d{1,3}\", a)))"
   ]
  },
  {
   "cell_type": "code",
   "execution_count": 18,
   "metadata": {
    "collapsed": true
   },
   "outputs": [],
   "source": [
    "train = train.assign(capital_letters=capital_letters,\n",
    "                     len_of_comment=len_of_comment,\n",
    "                     count_ips=count_ips,\n",
    "                     count_spaces=count_spaces,\n",
    "                     sybs = symbols_count,\n",
    "                     smailes = smailes_count,\n",
    "                     neg_words=neg_words_counts,\n",
    "                    neg_phrases=neg_phrases_count,\n",
    "                    short_phrases=short_phrases_count,\n",
    "                    races_and_orients=races_and_orients_count)"
   ]
  },
  {
   "cell_type": "markdown",
   "metadata": {},
   "source": [
    "### Test features"
   ]
  },
  {
   "cell_type": "code",
   "execution_count": null,
   "metadata": {
    "collapsed": true
   },
   "outputs": [],
   "source": [
    "neg_words_counts_ts = test.comment_text.apply(lambda a: len([i for i in a.lower().split() if i in neg_words]))"
   ]
  },
  {
   "cell_type": "code",
   "execution_count": null,
   "metadata": {
    "collapsed": true
   },
   "outputs": [],
   "source": [
    "capital_letters_ts = test.comment_text.apply(lambda a: len([i for i in a if i.isupper()]))\n",
    "len_of_comment_ts = test.comment_text.apply(lambda a: len(a))\n",
    "count_spaces_ts = test.comment_text.apply(lambda a: len([i for i in a if i == ' ']))\n",
    "count_ips_ts = test.comment_text.apply(lambda a: len(re.findall(\"\\d{1,3}.\\d{1,3}.\\d{1,3}.\\d{1,3}\", a)))\n",
    "punct_count_ts = test.comment_text.apply(lambda a: len([i for i in a.lower().split() if i in punct]))\n",
    "symbols_count_ts = test.comment_text.apply(lambda a: len([i for i in a.lower().split() if i in symbs]))\n",
    "smailes_count_ts = test.comment_text.apply(lambda a: len([i for i in a.lower().split() if i in smailes]))\n",
    "neg_phrases_count_ts = test.comment_text.apply(lambda a: len([i for i in neg_phrases if i in a]))\n",
    "short_phrases_count_ts = test.comment_text.apply(lambda a: len([i for i in a.lower().split() if i in short_phrases]))\n",
    "races_and_orients_count_ts = test.comment_text.apply(lambda a: len([i for i in a.lower().split() if i in races_and_orients]))"
   ]
  },
  {
   "cell_type": "code",
   "execution_count": null,
   "metadata": {
    "collapsed": true
   },
   "outputs": [],
   "source": [
    "test = test.assign(capital_letters=capital_letters_ts,\n",
    "                     len_of_comment=len_of_comment_ts,\n",
    "                     count_ips=count_ips_ts,\n",
    "                     count_spaces=count_spaces_ts,\n",
    "                     sybs = symbols_count_ts,\n",
    "                     smailes = smailes_count_ts,\n",
    "                     neg_words=neg_words_counts_ts,\n",
    "                    neg_phrases=neg_phrases_count_ts,\n",
    "                    short_phrases=short_phrases_count_ts,\n",
    "                    races_and_orients=races_and_orients_count_ts)"
   ]
  },
  {
   "cell_type": "code",
   "execution_count": 19,
   "metadata": {
    "collapsed": true
   },
   "outputs": [],
   "source": [
    "features = ['capital_letters', 'len_of_comment', 'count_ips', 'count_spaces', 'symbs', 'smailes', 'neg_words', 'neg_phrases', 'short_phrases', 'races_and_orients']"
   ]
  },
  {
   "cell_type": "markdown",
   "metadata": {},
   "source": [
    "## Comments cleaning:"
   ]
  },
  {
   "cell_type": "code",
   "execution_count": 20,
   "metadata": {
    "collapsed": true
   },
   "outputs": [],
   "source": [
    "tt = TweetTokenizer(strip_handles=True, reduce_len=True)"
   ]
  },
  {
   "cell_type": "code",
   "execution_count": 21,
   "metadata": {
    "collapsed": true
   },
   "outputs": [],
   "source": [
    "def beautify_text(s):\n",
    "    s = s.replace(':)', 'smile')\n",
    "    s = s.replace(':D', 'laugh')\n",
    "    # Removes all characters from string except letters and digits and convert letters to lowercase\n",
    "    s = re.sub(\"[^a-zA-Z0-9]\", \" \", s.lower())\n",
    "    # Remove new lines\n",
    "    s = re.sub(\"\\\\n\",\"\", s)\n",
    "    # Change urls\n",
    "    s = re.sub(\"[a-zA-Z0-9]*(https://)[a-zA-Z0-9.]*\", \"url\", s)\n",
    "    # Remove IPs\n",
    "    s = re.sub(\"\\d{1,3}.\\d{1,3}.\\d{1,3}.\\d{1,3}\",\"\", s)\n",
    "    # Remove usernames\n",
    "    s = re.sub(\"\\[\\[.*\\]\",\"\", s)\n",
    "    # Remove numbers\n",
    "    s = re.sub(\"\\\\b[0-9]+\\\\b\", \"\", s)\n",
    "    # better use (\\w+[0-9])\n",
    "    # fix grammar\n",
    "    s = re.sub('\\\\bf{1,}[a-z]*(ck)\\\\b', 'fuck', s)\n",
    "    # find cock symb lol\n",
    "    s = re.sub('8={1,}D?', 'cock', s)\n",
    "\n",
    "    #formalize text\n",
    "    s = s.replace(\"don\\'t\", \"do not\")\n",
    "    s = s.replace(\"doesn\\'t\", \"does not\")\n",
    "    s = s.replace(\"didn\\'t\", \"did not\")\n",
    "    s = s.replace(\"won\\'t\", \"will not\")\n",
    "    s = s.replace(\"haven\\'t\", \"have not\")\n",
    "    s = s.replace('haven\\\\\\'t', 'have not')\n",
    "    #s = s.replace('\\'ll', ' will')\n",
    "    #clean text\n",
    "    s = s.replace('\\\\', ' ')\n",
    "    s = s.replace('\\n', '')\n",
    "    s = s.replace(\"'s\", ' is')\n",
    "    s = s.replace('“', '')\n",
    "    s = s.replace('fck', 'fuck')\n",
    "    s = s.replace('wtf', 'what the fuck')\n",
    "    s = s.replace('cockwad', 'idiot')\n",
    "    s = s.replace('скоморохъ', 'buffoon')\n",
    "    s = s.replace('backash', 'backlash')\n",
    "    s = s.replace('bizarrethere', 'bizarre there')\n",
    "    s = s.replace('backash', 'backlash')\n",
    "    s = s.replace('dummasses', 'dumbass')\n",
    "    s = s.replace('lesbianswomen', 'lesbian women')\n",
    "    s = s.replace('bisexualis', 'bisexual')\n",
    "    s = s.replace('sexualitypenis','sexuality penis')\n",
    "    s = s.replace('dorkgasm', 'orgasm')\n",
    "    s = s.replace('cockmy', 'cock my')\n",
    "    s = s.replace('supertroll', 'super troll')\n",
    "    s = s.replace('faggotttttttt', 'faggot')\n",
    "    s = s.replace('sucks50', 'sucks 50')\n",
    "    s = s.replace('themfuck', 'them fuck')\n",
    "    s = s.replace('offenderfugitive', 'offender fugitive')\n",
    "    s = s.replace('creationisrael', 'creation israel')\n",
    "    s = s.replace('assholestating', 'asshole stating')\n",
    "    s = s.replace('idiotenough', 'idiot enough')\n",
    "    s = s.replace('lessblunt', 'less blunt')\n",
    "    s = s.replace('anticanadian', 'anti canadian')\n",
    "    s = s.replace('afrikanblack', 'african black')\n",
    "    s = s.replace('againbitch', 'again bitch')\n",
    "    s = s.replace('animalfucker', 'animal fucker')\n",
    "    return s"
   ]
  },
  {
   "cell_type": "code",
   "execution_count": null,
   "metadata": {
    "collapsed": true
   },
   "outputs": [],
   "source": [
    "beautiful_text_tr = train.comment_text.apply(beautify_text)\n",
    "beautiful_text_ts = test.comment_text.apply(beautify_text)\n",
    "\n",
    "words_tr = [tt.tokenize(i) for i in beautiful_text_tr]\n",
    "words_ts = [tt.tokenize(i) for i in beautiful_text_ts]\n",
    "\n",
    "words_tr = [[i for i in j if i not in stopwords.words('english')] for j in words_tr]\n",
    "words_ts = [[i for i in j if i not in stopwords.words('english')] for j in words_ts]\n",
    "\n",
    "np.save('train_preproc', words_tr)\n",
    "np.save('test_preproc', words_ts)"
   ]
  },
  {
   "cell_type": "code",
   "execution_count": null,
   "metadata": {
    "collapsed": true
   },
   "outputs": [],
   "source": [
    "words_tr = np.load('train_preproc.npy')\n",
    "words_ts = np.load('test_preproc.npy')"
   ]
  },
  {
   "cell_type": "code",
   "execution_count": null,
   "metadata": {
    "collapsed": true
   },
   "outputs": [],
   "source": [
    "text_train_new = [' '.join(i) for i in words_tr]\n",
    "text_test_new = [' '.join(i) for i in words_ts]"
   ]
  },
  {
   "cell_type": "markdown",
   "metadata": {},
   "source": [
    "## Encoding:"
   ]
  },
  {
   "cell_type": "code",
   "execution_count": 23,
   "metadata": {
    "collapsed": true
   },
   "outputs": [],
   "source": [
    "tfv = TfidfVectorizer(min_df=50,  max_features=3000, \n",
    "            analyzer='char',ngram_range=(1,3))"
   ]
  },
  {
   "cell_type": "code",
   "execution_count": null,
   "metadata": {
    "collapsed": true
   },
   "outputs": [],
   "source": [
    "train = tfv.fit_transform(text_train_new)\n",
    "test = tfv.transform(text_test_new)"
   ]
  },
  {
   "cell_type": "markdown",
   "metadata": {},
   "source": [
    "## XGBoost Classification"
   ]
  },
  {
   "cell_type": "markdown",
   "metadata": {},
   "source": [
    "### Fitting for each label:"
   ]
  },
  {
   "cell_type": "code",
   "execution_count": 39,
   "metadata": {
    "collapsed": false
   },
   "outputs": [],
   "source": [
    "xgb_params = {\n",
    "    'max_depth': [2, 5, 10, 100],\n",
    "    'learning_rate': [0.1, 0.01, 0.001, 0.0001],\n",
    "    'n_estimators': [10, 100, 500, 1000]\n",
    "}\n",
    "cv = GridSearchCV(XGBClassifier(), xgb_params, scoring=log_loss, cv=3)"
   ]
  },
  {
   "cell_type": "code",
   "execution_count": 32,
   "metadata": {
    "collapsed": false
   },
   "outputs": [],
   "source": [
    "for i in classes_:\n",
    "    cv.fit(train, train_labels[i])\n",
    "    print(cv.best_estimator_)"
   ]
  },
  {
   "cell_type": "markdown",
   "metadata": {},
   "source": [
    "### Classifier Chain:"
   ]
  },
  {
   "cell_type": "code",
   "execution_count": null,
   "metadata": {
    "collapsed": true
   },
   "outputs": [],
   "source": [
    "X_train, X_eval, y_train, y_eval = train_test_split(train, train_labels, test_size=.2,\n",
    "                                                    random_state=42)\n",
    "\n",
    "chains = [ClassifierChain(XGBClassifier(), order='random', random_state=i)\n",
    "          for i in range(10)]\n",
    "for chain in chains:\n",
    "    chain.fit(X_train, Y_train)\n",
    "\n",
    "y_pred_chains = np.array([chain.predict(X_eval) for chain in\n",
    "                          chains])\n",
    "y_pred_ensemble = y_pred_chains.mean(axis=0)\n",
    "\n",
    "chain_jaccard_scores = [jaccard_similarity_score(y_test, y_pred_chain >= .5)\n",
    "                        for y_pred_chain in y_pred_chains]\n",
    "logloss_scores = [log_loss(y_eval, y_pred_chain >= .5)\n",
    "                        for y_pred_chain in y_pred_chains]\n"
   ]
  },
  {
   "cell_type": "code",
   "execution_count": null,
   "metadata": {
    "collapsed": true
   },
   "outputs": [],
   "source": []
  }
 ],
 "metadata": {
  "anaconda-cloud": {},
  "kernelspec": {
   "display_name": "Python [default]",
   "language": "python",
   "name": "python3"
  },
  "language_info": {
   "codemirror_mode": {
    "name": "ipython",
    "version": 3
   },
   "file_extension": ".py",
   "mimetype": "text/x-python",
   "name": "python",
   "nbconvert_exporter": "python",
   "pygments_lexer": "ipython3",
   "version": "3.5.4"
  }
 },
 "nbformat": 4,
 "nbformat_minor": 1
}
