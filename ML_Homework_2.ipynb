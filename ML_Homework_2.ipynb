{
 "cells": [
  {
   "cell_type": "markdown",
   "metadata": {},
   "source": [
    "# Домашнее задание 2"
   ]
  },
  {
   "cell_type": "markdown",
   "metadata": {},
   "source": [
    "## Дедлайн 22.03.2018 (23.59 московское время) "
   ]
  },
  {
   "cell_type": "code",
   "execution_count": 15,
   "metadata": {
    "collapsed": false
   },
   "outputs": [],
   "source": [
    "import numpy as np\n",
    "import pandas as pd\n",
    "import matplotlib.pyplot as plt\n",
    "%matplotlib inline\n",
    "from sklearn.datasets import load_digits\n",
    "from sklearn.cross_validation import cross_val_score, train_test_split, StratifiedKFold\n",
    "from sklearn.metrics import make_scorer, precision_score\n",
    "from sklearn.tree import DecisionTreeClassifier\n",
    "from sklearn.ensemble import BaggingClassifier, RandomForestClassifier"
   ]
  },
  {
   "cell_type": "markdown",
   "metadata": {},
   "source": [
    "### Задание 1 Бэггинг над деревьями\n",
    "1) Загрузите датасет digits с помощью функции load_digits из sklearn.datasets и подготовьте матрицу признаков X и ответы на обучающей выборке y.  \n",
    "\n",
    "2) Для оценки качества далее нужно будет использовать cross_val_score из sklearn.cross_validation с параметром cv=10. Эта функция реализует k-fold cross validation c k, равным значению параметра cv. Используйте k=10, чтобы полученные оценки качества имели небольшой разброс.  Функция cross_val_score будет возвращать numpy.ndarray, в котором будет k чисел - значений качества в каждом из k экспериментов k-fold cross validation. Получите среднее значение, которое и будет оценкой качества работы.\n",
    "\n",
    "3) Воспользуйтесь BaggingClassifier из sklearn.ensemble, чтобы обучить бэггинг над DecisionTreeClassifier. Используйте в BaggingClassifier параметры по умолчанию, задав только количество деревьев равным 100. Качество классификации новой модели - среднее значение cross_val_score. Сравните работу композиции деревьев с одним решающем деревом. \n",
    "\n",
    "4) Теперь изучите параметры BaggingClassifier и выберите их такими, чтобы каждый базовый алгоритм обучался не на всех d признаках, а на $\\sqrt{d}$ случайных признаков. Каково качество работы алгоритма? \n",
    "\n",
    "5) Наконец, давайте попробуем выбирать случайные признаки не один раз на все дерево, а при построении каждой вершины дерева. Сделать это несложно: нужно убрать выбор случайного подмножества признаков в BaggingClassifier и добавить его в DecisionTreeClassifier. Какой параметр за это отвечает, можно понять из документации sklearn. Попробуйте выбирать опять же $\\sqrt{d}$ признаков. Какое теперь качество полученного классификатора?\n",
    "\n",
    "6) Полученный в пункте 4 классификатор - бэггинг на рандомизированных деревьях (в которых при построении каждой вершины выбирается случайное подмножество признаков и разбиение ищется только по ним). Это в точности соответствует алгоритму Random Forest. Сравнить качество работы классификатора с RandomForestClassifier из sklearn.ensemble.\n",
    "\n",
    "7) Изучите, как качество классификации на данном датасете зависит от количества деревьев, количества признаков, выбираемых при построении каждой вершины дерева, а также ограничений на глубину дерева. Для наглядности лучше построить графики зависимости качества от значений параметров."
   ]
  },
  {
   "cell_type": "code",
   "execution_count": 16,
   "metadata": {
    "collapsed": true
   },
   "outputs": [],
   "source": [
    "def show_pics(imgs, col, row):\n",
    "    fig = plt.figure(figsize=(4*col,4*row))\n",
    "    for i in range(0, col*row ):\n",
    "        fig.add_subplot(row, col, i + 1)\n",
    "        plt.imshow(imgs[i])"
   ]
  },
  {
   "cell_type": "code",
   "execution_count": 17,
   "metadata": {
    "collapsed": false
   },
   "outputs": [
    {
     "name": "stdout",
     "output_type": "stream",
     "text": [
      "(1797, 64)\n"
     ]
    },
    {
     "data": {
      "image/png": "[encoded data removed]",
      "text/plain": [
       "<matplotlib.figure.Figure at 0x7f5d25aebcf8>"
      ]
     },
     "metadata": {},
     "output_type": "display_data"
    }
   ],
   "source": [
    "digits = load_digits()\n",
    "print(digits.data.shape)\n",
    "\n",
    "show_pics(digits.images[0:9], 3, 3)"
   ]
  },
  {
   "cell_type": "code",
   "execution_count": 18,
   "metadata": {
    "collapsed": false
   },
   "outputs": [],
   "source": [
    "data = digits.images.reshape((digits.data.shape[0], -1))\n",
    "labels = digits.target\n",
    "\n",
    "X_train, X_test, y_train, y_test = train_test_split(data, labels, test_size=0.2, random_state=42)\n",
    "shuffle = StratifiedKFold(y_train, n_folds=10, random_state=42)\n",
    "#scoring = make_scorer(precision_score(average='macro'), greater_is_better=True)"
   ]
  },
  {
   "cell_type": "code",
   "execution_count": 19,
   "metadata": {
    "collapsed": false
   },
   "outputs": [
    {
     "name": "stdout",
     "output_type": "stream",
     "text": [
      "precision macro: 0.865372418002\n",
      "default metric: 0.85463144617\n"
     ]
    },
    {
     "name": "stderr",
     "output_type": "stream",
     "text": [
      "[Parallel(n_jobs=1)]: Done  10 out of  10 | elapsed:    0.2s finished\n",
      "[Parallel(n_jobs=1)]: Done  10 out of  10 | elapsed:    0.2s finished\n"
     ]
    }
   ],
   "source": [
    "decide_tree = DecisionTreeClassifier()\n",
    "score_tree = cross_val_score(decide_tree, X_train, y_train, cv=shuffle, scoring='precision_macro', verbose=1)\n",
    "print('precision macro:', score_tree.mean())\n",
    "score_tree = cross_val_score(decide_tree, X_train, y_train, cv=shuffle, verbose=1)\n",
    "print('default metric:', score_tree.mean())"
   ]
  },
  {
   "cell_type": "code",
   "execution_count": 20,
   "metadata": {
    "collapsed": false
   },
   "outputs": [
    {
     "name": "stderr",
     "output_type": "stream",
     "text": [
      "[Parallel(n_jobs=1)]: Done  10 out of  10 | elapsed:    1.3s finished\n"
     ]
    },
    {
     "name": "stdout",
     "output_type": "stream",
     "text": [
      "precision macro: 0.931255000976\n",
      "default metric: 0.92699729989\n"
     ]
    },
    {
     "name": "stderr",
     "output_type": "stream",
     "text": [
      "[Parallel(n_jobs=1)]: Done  10 out of  10 | elapsed:    1.3s finished\n"
     ]
    }
   ],
   "source": [
    "decide_bagging = BaggingClassifier()\n",
    "score_bagg = cross_val_score(decide_bagging, X_train, y_train, cv=shuffle, scoring='precision_macro', verbose=1)\n",
    "print('precision macro:',score_bagg.mean())\n",
    "score_bagg = cross_val_score(decide_bagging, X_train, y_train, cv=shuffle, verbose=1)\n",
    "print('default metric:',score_bagg.mean())"
   ]
  },
  {
   "cell_type": "markdown",
   "metadata": {},
   "source": [
    "**Композиция очевидно отработала лучше.**"
   ]
  },
  {
   "cell_type": "code",
   "execution_count": 21,
   "metadata": {
    "collapsed": false
   },
   "outputs": [
    {
     "name": "stderr",
     "output_type": "stream",
     "text": [
      "[Parallel(n_jobs=1)]: Done  10 out of  10 | elapsed:    0.4s finished\n"
     ]
    },
    {
     "name": "stdout",
     "output_type": "stream",
     "text": [
      "precision macro: 0.850896497465\n",
      "default metric: 0.845602648507\n"
     ]
    },
    {
     "name": "stderr",
     "output_type": "stream",
     "text": [
      "[Parallel(n_jobs=1)]: Done  10 out of  10 | elapsed:    0.4s finished\n"
     ]
    }
   ],
   "source": [
    "decide_bagging_1 = BaggingClassifier(max_features=int(np.sqrt(data.shape[1])))\n",
    "score_bagg_1 = cross_val_score(decide_bagging_1, X_train, y_train, cv=shuffle, scoring='precision_macro', verbose=1)\n",
    "print('precision macro:', score_bagg_1.mean())\n",
    "score_bagg_1 = cross_val_score(decide_bagging_1, X_train, y_train, cv=shuffle, verbose=1)\n",
    "print('default metric:', score_bagg_1.mean())"
   ]
  },
  {
   "cell_type": "code",
   "execution_count": 22,
   "metadata": {
    "collapsed": false
   },
   "outputs": [
    {
     "name": "stderr",
     "output_type": "stream",
     "text": [
      "[Parallel(n_jobs=1)]: Done  10 out of  10 | elapsed:    0.4s finished\n"
     ]
    },
    {
     "name": "stdout",
     "output_type": "stream",
     "text": [
      "precsion macro 0.938218894324\n",
      "default metric 0.949581435671\n"
     ]
    },
    {
     "name": "stderr",
     "output_type": "stream",
     "text": [
      "[Parallel(n_jobs=1)]: Done  10 out of  10 | elapsed:    0.4s finished\n"
     ]
    }
   ],
   "source": [
    "decide_bagging_2 = BaggingClassifier(base_estimator=DecisionTreeClassifier(max_features='sqrt'))\n",
    "score_bagg_2 = cross_val_score(decide_bagging_2, X_train, y_train, cv=shuffle, scoring='precision_macro', verbose=1)\n",
    "print('precsion macro', score_bagg_2.mean())\n",
    "score_bagg_2 = cross_val_score(decide_bagging_2, X_train, y_train, cv=shuffle, verbose=1)\n",
    "print('default metric', score_bagg_2.mean())"
   ]
  },
  {
   "cell_type": "markdown",
   "metadata": {},
   "source": [
    "### Random Forest"
   ]
  },
  {
   "cell_type": "code",
   "execution_count": 23,
   "metadata": {
    "collapsed": false
   },
   "outputs": [
    {
     "name": "stderr",
     "output_type": "stream",
     "text": [
      "[Parallel(n_jobs=1)]: Done  10 out of  10 | elapsed:    0.4s finished\n"
     ]
    },
    {
     "name": "stdout",
     "output_type": "stream",
     "text": [
      "precision macro 0.938797542327\n",
      "default metric 0.94101877496\n"
     ]
    },
    {
     "name": "stderr",
     "output_type": "stream",
     "text": [
      "[Parallel(n_jobs=1)]: Done  10 out of  10 | elapsed:    0.4s finished\n"
     ]
    }
   ],
   "source": [
    "rfc = RandomForestClassifier()\n",
    "score_forest = cross_val_score(rfc, X_train, y_train, cv=shuffle, scoring='precision_macro', verbose=1)\n",
    "print('precision macro', score_forest.mean())\n",
    "score_forest = cross_val_score(rfc, X_train, y_train, cv=shuffle, verbose=1)\n",
    "print('default metric', score_forest.mean())"
   ]
  },
  {
   "cell_type": "markdown",
   "metadata": {},
   "source": [
    "Изучите, как качество классификации на данном датасете зависит от количества деревьев, количества признаков, выбираемых при построении каждой вершины дерева, а также ограничений на глубину дерева. Для наглядности лучше построить графики зависимости качества от значений параметров."
   ]
  },
  {
   "cell_type": "code",
   "execution_count": 24,
   "metadata": {
    "collapsed": false
   },
   "outputs": [
    {
     "data": {
      "text/plain": [
       "{'base_estimator': None,\n",
       " 'bootstrap': True,\n",
       " 'bootstrap_features': False,\n",
       " 'max_features': 1.0,\n",
       " 'max_samples': 1.0,\n",
       " 'n_estimators': 10,\n",
       " 'n_jobs': 1,\n",
       " 'oob_score': False,\n",
       " 'random_state': None,\n",
       " 'verbose': 0,\n",
       " 'warm_start': False}"
      ]
     },
     "execution_count": 24,
     "metadata": {},
     "output_type": "execute_result"
    }
   ],
   "source": [
    "BaggingClassifier().get_params()"
   ]
  },
  {
   "cell_type": "code",
   "execution_count": 25,
   "metadata": {
    "collapsed": false
   },
   "outputs": [],
   "source": [
    "params = {\n",
    "    'n_estimators': [1, 5, 10, 30, 100],\n",
    "    'max_features': [np.sqrt(data.shape[1])/2, np.sqrt(data.shape[1]), 2*np.sqrt(data.shape[1]), data.shape[1]]\n",
    "}"
   ]
  },
  {
   "cell_type": "code",
   "execution_count": 26,
   "metadata": {
    "collapsed": false
   },
   "outputs": [
    {
     "name": "stderr",
     "output_type": "stream",
     "text": [
      "[Parallel(n_jobs=1)]: Done  10 out of  10 | elapsed:    0.1s finished\n",
      "[Parallel(n_jobs=1)]: Done  10 out of  10 | elapsed:    0.1s finished\n",
      "[Parallel(n_jobs=1)]: Done  10 out of  10 | elapsed:    0.1s finished\n",
      "[Parallel(n_jobs=1)]: Done  10 out of  10 | elapsed:    0.1s finished\n",
      "[Parallel(n_jobs=1)]: Done  10 out of  10 | elapsed:    0.2s finished\n",
      "[Parallel(n_jobs=1)]: Done  10 out of  10 | elapsed:    0.2s finished\n",
      "[Parallel(n_jobs=1)]: Done  10 out of  10 | elapsed:    0.3s finished\n",
      "[Parallel(n_jobs=1)]: Done  10 out of  10 | elapsed:    0.6s finished\n",
      "[Parallel(n_jobs=1)]: Done  10 out of  10 | elapsed:    0.3s finished\n",
      "[Parallel(n_jobs=1)]: Done  10 out of  10 | elapsed:    0.5s finished\n",
      "[Parallel(n_jobs=1)]: Done  10 out of  10 | elapsed:    0.6s finished\n",
      "[Parallel(n_jobs=1)]: Done  10 out of  10 | elapsed:    1.3s finished\n",
      "[Parallel(n_jobs=1)]: Done  10 out of  10 | elapsed:    0.8s finished\n",
      "[Parallel(n_jobs=1)]: Done  10 out of  10 | elapsed:    1.1s finished\n",
      "[Parallel(n_jobs=1)]: Done  10 out of  10 | elapsed:    1.5s finished\n",
      "[Parallel(n_jobs=1)]: Done  10 out of  10 | elapsed:    3.7s finished\n",
      "[Parallel(n_jobs=1)]: Done  10 out of  10 | elapsed:    2.8s finished\n",
      "[Parallel(n_jobs=1)]: Done  10 out of  10 | elapsed:    3.8s finished\n",
      "[Parallel(n_jobs=1)]: Done  10 out of  10 | elapsed:    5.0s finished\n",
      "[Parallel(n_jobs=1)]: Done  10 out of  10 | elapsed:   12.5s finished\n"
     ]
    }
   ],
   "source": [
    "num_of_params = len(params['n_estimators'])*len(params['max_features'])\n",
    "results = np.zeros((num_of_params, 3))\n",
    "count = 0\n",
    "for i in params['n_estimators']:\n",
    "    for j in params['max_features']:\n",
    "        decide_bagging_ = BaggingClassifier(n_estimators=int(i), max_features=int(j))\n",
    "        score_forest = cross_val_score(decide_bagging_, X_train, y_train, cv=10, scoring='precision_macro', verbose=1)\n",
    "        results[count, 0] = int(i)\n",
    "        results[count, 1] = int(j)\n",
    "        results[count, -1] = score_forest.mean()\n",
    "        count += 1"
   ]
  },
  {
   "cell_type": "code",
   "execution_count": 27,
   "metadata": {
    "collapsed": false
   },
   "outputs": [
    {
     "data": {
      "text/html": [
       "<div>\n",
       "<style>\n",
       "    .dataframe thead tr:only-child th {\n",
       "        text-align: right;\n",
       "    }\n",
       "\n",
       "    .dataframe thead th {\n",
       "        text-align: left;\n",
       "    }\n",
       "\n",
       "    .dataframe tbody tr th {\n",
       "        vertical-align: top;\n",
       "    }\n",
       "</style>\n",
       "<table border=\"1\" class=\"dataframe\">\n",
       "  <thead>\n",
       "    <tr style=\"text-align: right;\">\n",
       "      <th></th>\n",
       "      <th>n_estimators</th>\n",
       "      <th>max_feature</th>\n",
       "      <th>precision_macro</th>\n",
       "    </tr>\n",
       "  </thead>\n",
       "  <tbody>\n",
       "    <tr>\n",
       "      <th>0</th>\n",
       "      <td>1.0</td>\n",
       "      <td>4.0</td>\n",
       "      <td>0.346349</td>\n",
       "    </tr>\n",
       "    <tr>\n",
       "      <th>1</th>\n",
       "      <td>1.0</td>\n",
       "      <td>8.0</td>\n",
       "      <td>0.514922</td>\n",
       "    </tr>\n",
       "    <tr>\n",
       "      <th>2</th>\n",
       "      <td>1.0</td>\n",
       "      <td>16.0</td>\n",
       "      <td>0.708380</td>\n",
       "    </tr>\n",
       "    <tr>\n",
       "      <th>3</th>\n",
       "      <td>1.0</td>\n",
       "      <td>64.0</td>\n",
       "      <td>0.836149</td>\n",
       "    </tr>\n",
       "    <tr>\n",
       "      <th>4</th>\n",
       "      <td>5.0</td>\n",
       "      <td>4.0</td>\n",
       "      <td>0.581231</td>\n",
       "    </tr>\n",
       "    <tr>\n",
       "      <th>5</th>\n",
       "      <td>5.0</td>\n",
       "      <td>8.0</td>\n",
       "      <td>0.768930</td>\n",
       "    </tr>\n",
       "    <tr>\n",
       "      <th>6</th>\n",
       "      <td>5.0</td>\n",
       "      <td>16.0</td>\n",
       "      <td>0.877171</td>\n",
       "    </tr>\n",
       "    <tr>\n",
       "      <th>7</th>\n",
       "      <td>5.0</td>\n",
       "      <td>64.0</td>\n",
       "      <td>0.914700</td>\n",
       "    </tr>\n",
       "    <tr>\n",
       "      <th>8</th>\n",
       "      <td>10.0</td>\n",
       "      <td>4.0</td>\n",
       "      <td>0.673425</td>\n",
       "    </tr>\n",
       "    <tr>\n",
       "      <th>9</th>\n",
       "      <td>10.0</td>\n",
       "      <td>8.0</td>\n",
       "      <td>0.852492</td>\n",
       "    </tr>\n",
       "    <tr>\n",
       "      <th>10</th>\n",
       "      <td>10.0</td>\n",
       "      <td>16.0</td>\n",
       "      <td>0.936279</td>\n",
       "    </tr>\n",
       "    <tr>\n",
       "      <th>11</th>\n",
       "      <td>10.0</td>\n",
       "      <td>64.0</td>\n",
       "      <td>0.921675</td>\n",
       "    </tr>\n",
       "    <tr>\n",
       "      <th>12</th>\n",
       "      <td>30.0</td>\n",
       "      <td>4.0</td>\n",
       "      <td>0.849500</td>\n",
       "    </tr>\n",
       "    <tr>\n",
       "      <th>13</th>\n",
       "      <td>30.0</td>\n",
       "      <td>8.0</td>\n",
       "      <td>0.933791</td>\n",
       "    </tr>\n",
       "    <tr>\n",
       "      <th>14</th>\n",
       "      <td>30.0</td>\n",
       "      <td>16.0</td>\n",
       "      <td>0.960034</td>\n",
       "    </tr>\n",
       "    <tr>\n",
       "      <th>15</th>\n",
       "      <td>30.0</td>\n",
       "      <td>64.0</td>\n",
       "      <td>0.947282</td>\n",
       "    </tr>\n",
       "    <tr>\n",
       "      <th>16</th>\n",
       "      <td>100.0</td>\n",
       "      <td>4.0</td>\n",
       "      <td>0.904714</td>\n",
       "    </tr>\n",
       "    <tr>\n",
       "      <th>17</th>\n",
       "      <td>100.0</td>\n",
       "      <td>8.0</td>\n",
       "      <td>0.955320</td>\n",
       "    </tr>\n",
       "    <tr>\n",
       "      <th>18</th>\n",
       "      <td>100.0</td>\n",
       "      <td>16.0</td>\n",
       "      <td>0.967563</td>\n",
       "    </tr>\n",
       "    <tr>\n",
       "      <th>19</th>\n",
       "      <td>100.0</td>\n",
       "      <td>64.0</td>\n",
       "      <td>0.952487</td>\n",
       "    </tr>\n",
       "  </tbody>\n",
       "</table>\n",
       "</div>"
      ],
      "text/plain": [
       "    n_estimators  max_feature  precision_macro\n",
       "0            1.0          4.0         0.346349\n",
       "1            1.0          8.0         0.514922\n",
       "2            1.0         16.0         0.708380\n",
       "3            1.0         64.0         0.836149\n",
       "4            5.0          4.0         0.581231\n",
       "5            5.0          8.0         0.768930\n",
       "6            5.0         16.0         0.877171\n",
       "7            5.0         64.0         0.914700\n",
       "8           10.0          4.0         0.673425\n",
       "9           10.0          8.0         0.852492\n",
       "10          10.0         16.0         0.936279\n",
       "11          10.0         64.0         0.921675\n",
       "12          30.0          4.0         0.849500\n",
       "13          30.0          8.0         0.933791\n",
       "14          30.0         16.0         0.960034\n",
       "15          30.0         64.0         0.947282\n",
       "16         100.0          4.0         0.904714\n",
       "17         100.0          8.0         0.955320\n",
       "18         100.0         16.0         0.967563\n",
       "19         100.0         64.0         0.952487"
      ]
     },
     "execution_count": 27,
     "metadata": {},
     "output_type": "execute_result"
    }
   ],
   "source": [
    "results_df = pd.DataFrame(results, columns=['n_estimators', 'max_feature', 'precision_macro'])\n",
    "results_df"
   ]
  },
  {
   "cell_type": "code",
   "execution_count": 28,
   "metadata": {
    "collapsed": false
   },
   "outputs": [
    {
     "data": {
      "image/png": "[encoded data removed]",
      "text/plain": [
       "<matplotlib.figure.Figure at 0x7f5d25b02898>"
      ]
     },
     "metadata": {},
     "output_type": "display_data"
    }
   ],
   "source": [
    "fig = plt.figure(figsize=(12, 12))\n",
    "plt.grid('on')\n",
    "for i in np.unique(results_df['max_feature']):\n",
    "    plt.plot(results_df[results_df['max_feature']==i].values[:, 0], results_df[results_df['max_feature']==i].values[:, -1], '-o', label=('max_feature = '+str(i)))\n",
    "    plt.legend(fontsize=13)"
   ]
  },
  {
   "cell_type": "markdown",
   "metadata": {},
   "source": [
    "## Задание 2 Смещение и разброс методов обучения \n",
    "\n",
    "Исследуем численно разброс и смещение различных методов обучения. Данные будем генирировать искусственно, (x,y) - объект выборки представляет собой:\n",
    "\n",
    "x  - случайная величина из одномерного распределения (рассмотрите три различных распределения: нормальное (np.random.normal(0, 0.3), экспоненциальное (np.random.exponential(0.3)), равномерное (np.random.uniform(-0.5, 0.5));\n",
    "\n",
    "y (ответ) генерируется как сумма $f(x)=sin(\\pi x)$ и случайного шума $\\epsilon$ из равномерного распределения на [-0.2. 0.2]:\n",
    "$$\n",
    "y=sin(\\pi x)+\\epsilon\n",
    "$$\n",
    "\n",
    "Рассмотрим различные методы обучения: \"LinearRegression\", \"DecisionTree\", \"RandomForest\", \"GradientBoosting\". \n",
    "\n",
    "1) Сгенерируйте выборку размера N_objects=100, т.е. N_objects пар (x,y) из соответствующих распределений. Обучите одну из моделей (например, \"LinearRegression\") с параметрами по умолчанию на сгенерированной выборке . Постройте на одном графике объекты выборки и восстановленную регрессионную кривую. \n",
    "\n",
    "2) Рассмотрите ансамбль обучающих моделей. Сгенерируйте N_samples=25 случайных выборок размера N_objects=100, обучите и постройте все выборки и все регрессионные кривые $\\mu^j$ (j=1,2,...25) на одном графике (полупрозрачным). Посчитайте среднюю кривую $\\bar{\\mu}$  как среднее арифмитическое регрессионных кривых. Изобразите эту кривую тоже на графике, а также истинную кривую ответов ($f(x)=sin(\\pi x)$).\n",
    "\n",
    "3) Вычислите смещение метода обучения: \n",
    "\n",
    "$$ Bias= E_{x,y} ((\\mathbb{E}[y|x] - \\mathbb{E}_X [\\mu(X)]))$$. \n",
    "\n",
    "\n",
    "3.1) Сгенерируйте  N_objects=100 значений признака x. Для каждого x сгенерируйте N_y=100 значений y, т.е. объект выборки имеет вид:\n",
    "$$\n",
    "(x,[y_1,,y_2,,y_3,\\dots ,y_{100}])\n",
    "$$\n",
    "3.2) Вычислите $\\mathbb{E}[y|x]$ на объекте x как среднее арифмитическое значений y: \n",
    "\n",
    "$$\n",
    "\\mathbb{E}[y|x]=\\frac{1}{N_y}\\sum_{i=1}^{N_y} y_i\n",
    "$$\n",
    "\n",
    "3.3) Вычислите среднее предсказание $\\mathbb{E}_X [\\mu(X)]$ на объекте x - это значение построенной функции  $\\bar{\\mu}$ (см. пункт 2) \n",
    "\n",
    "3.4) Математическое ожидание $E_{x,y}(\\dots)$ считаем как среднее арифмитическое по выборке N_objects.\n",
    "\n",
    "4) Вычислите разброс метода обучения. Разброс - это среднеквадратичное отклонение предсказания алгоритмов метода $\\mu$ на объекте x от среднего предсказания $\\mathbb{E}_X [\\mu(X)]$\n",
    "$$ Var=E_{x,y} (E_{X}(\\mathbb{E}_X [\\mu(X)] - \\mu(X)])^2)$$\n",
    "\n",
    "4.1) На сгенерированной выборке для каждой кривой $\\mu^j$ вычислите среднее арифмитическое по N_objects объектам, построенным в пункте 2: \n",
    "$$\n",
    "Var^j=\\frac{1}{N_{objects}}\\sum_{i=1}^{N_{objects}} (\\mu^j(x_i)-\\bar{\\mu}(x_i))^2\n",
    "$$\n",
    "\n",
    "4.2) Вычислите  среднее арифмитическое по N_samples алгоритмам:\n",
    "$$\n",
    "Var=\\frac{1}{N_{samples}}\\sum_{j=1}^{N_{samples}}Var^j\n",
    "$$\n",
    "\n",
    "5) Представьте результаты в виде таблицы, проанализируйте какой метод дает наименьший разброс, какой наименьшее смещение (почему?), как смещение и разброс связаны с распределением признака x. "
   ]
  },
  {
   "cell_type": "markdown",
   "metadata": {},
   "source": [
    "# Задание 3 Кластеризация\n",
    "\n",
    "1) На данных по рукописным цифрам (см. задание 1) постройте модель кластеризации K_means.  \n",
    "\n",
    "2) Используйте полученные метки кластеров как новый признак. Как изменится точность классификации при добавлении нового признака? Выведите соответствующую матрицу ошибок, метрики качества при микро и макро усреднении (используйте classification_report). В качестве классификатора используйте логистическую регрессию.\n"
   ]
  },
  {
   "cell_type": "code",
   "execution_count": null,
   "metadata": {
    "collapsed": true
   },
   "outputs": [],
   "source": []
  }
 ],
 "metadata": {
  "anaconda-cloud": {},
  "kernelspec": {
   "display_name": "Python [default]",
   "language": "python",
   "name": "python3"
  },
  "language_info": {
   "codemirror_mode": {
    "name": "ipython",
    "version": 3
   },
   "file_extension": ".py",
   "mimetype": "text/x-python",
   "name": "python",
   "nbconvert_exporter": "python",
   "pygments_lexer": "ipython3",
   "version": "3.5.4"
  }
 },
 "nbformat": 4,
 "nbformat_minor": 1
}
