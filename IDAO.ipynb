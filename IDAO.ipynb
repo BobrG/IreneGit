{
 "cells": [
  {
   "cell_type": "code",
   "execution_count": 1,
   "metadata": {
    "collapsed": true
   },
   "outputs": [],
   "source": [
    "#basic\n",
    "import os\n",
    "import pandas as pd\n",
    "import numpy as np\n",
    "import matplotlib.pyplot as plt\n",
    "%matplotlib inline "
   ]
  },
  {
   "cell_type": "markdown",
   "metadata": {},
   "source": [
    "The task is ** to choose exactly 53,979 users ** (user_id, *5% of all users in the dataset*) and **for each select ﬁve third-level product categories (id3)** that they **have not viewed in the last three weeks** and which will be of interest to them in **the next seven days**.<br> The resulting score is based on the number of users for which at least one product category is correctly nominated. Accurate predictions of two or more categories for one user will not improve your score. \n",
    "<img src=\"statement-image.png\"><br>\n",
    "The metric implementation in Python can be found [here](https://github.com/DmitryUlyanov/IDAO/blob/master/scorer.py). "
   ]
  },
  {
   "cell_type": "code",
   "execution_count": 2,
   "metadata": {
    "collapsed": true
   },
   "outputs": [],
   "source": [
    "def scorer(y_true, y_pred, num_users=1079572):\n",
    "    '''\n",
    "        `y_true` and `y_pred` are dictionaries of type {user: items_list}\n",
    "        \n",
    "        `num_users` is the number of users in training set. \n",
    "        The scorer expects predictions for exactly `ceil(num_users*0.05)` users\n",
    "        \n",
    "        For private and public leaderboard evaluation:\n",
    "            - for the track one scorer `num_users` is equal to 1079572\n",
    "            - for the track two `num_users=100000`\n",
    "    '''\n",
    "    \n",
    "    num_users_5p = np.ceil(0.05 * num_users)\n",
    "    \n",
    "    # Check everything is correct\n",
    "    assert type(y_true) == type(y_pred) == dict, 'Need `y_pred` and `y_true` to be dictionaries.'\n",
    "    assert len(y_pred) == num_users_5p, 'Found predictions for %d users, instead of %d.' % (len(y_pred), num_users_5p)\n",
    "    assert np.all([len(x) == 5 for x in y_pred.values()]), 'Please, submit exactly 5 items per user.'\n",
    "    \n",
    "    # Compute score\n",
    "    score = 0\n",
    "    for user, items_pred in y_pred.items():\n",
    "        items_true = y_true.get(user, [])\n",
    "        score += len(set(items_true) & set(items_pred)) > 0\n",
    "\n",
    "    return score / float(len(y_pred)) * 10000.0\n"
   ]
  },
  {
   "cell_type": "markdown",
   "metadata": {},
   "source": [
    "You will be working with **Yandex.Market** search logs. \n",
    "Each row in the data corresponds to a **\"view\"** event:* a particular user viewed an item that belongs to a particular category.*\n",
    "\n",
    "The data is stored in a .csv ﬁle with the following ﬁelds:\n",
    "\n",
    "*    **user_id** — individual shopper identiﬁer\n",
    "*    **date** — the day when user’s interest in a particular product was recorded; *from 1 to 54*\n",
    "*    **id1** — ﬁrst (highest) level category identiﬁer, e.g. “Home appliances”.\n",
    "*    **id2** — second (middle) level category identiﬁer, e.g. “Kitchen appliances”.\n",
    "*    **id3** — third (lowest) level category identiﬁer, e.g. “Refrigerators”.\n"
   ]
  },
  {
   "cell_type": "code",
   "execution_count": 3,
   "metadata": {
    "collapsed": true
   },
   "outputs": [],
   "source": [
    "train = pd.read_csv('train.csv.zip')"
   ]
  },
  {
   "cell_type": "code",
   "execution_count": 4,
   "metadata": {
    "collapsed": false
   },
   "outputs": [
    {
     "data": {
      "text/html": [
       "<div>\n",
       "<style>\n",
       "    .dataframe thead tr:only-child th {\n",
       "        text-align: right;\n",
       "    }\n",
       "\n",
       "    .dataframe thead th {\n",
       "        text-align: left;\n",
       "    }\n",
       "\n",
       "    .dataframe tbody tr th {\n",
       "        vertical-align: top;\n",
       "    }\n",
       "</style>\n",
       "<table border=\"1\" class=\"dataframe\">\n",
       "  <thead>\n",
       "    <tr style=\"text-align: right;\">\n",
       "      <th></th>\n",
       "      <th>id3</th>\n",
       "      <th>user_id</th>\n",
       "      <th>id2</th>\n",
       "      <th>date</th>\n",
       "      <th>id1</th>\n",
       "    </tr>\n",
       "  </thead>\n",
       "  <tbody>\n",
       "    <tr>\n",
       "      <th>0</th>\n",
       "      <td>714</td>\n",
       "      <td>464300</td>\n",
       "      <td>34</td>\n",
       "      <td>1</td>\n",
       "      <td>4</td>\n",
       "    </tr>\n",
       "    <tr>\n",
       "      <th>1</th>\n",
       "      <td>714</td>\n",
       "      <td>915655</td>\n",
       "      <td>34</td>\n",
       "      <td>1</td>\n",
       "      <td>4</td>\n",
       "    </tr>\n",
       "    <tr>\n",
       "      <th>2</th>\n",
       "      <td>316</td>\n",
       "      <td>262696</td>\n",
       "      <td>42</td>\n",
       "      <td>1</td>\n",
       "      <td>2</td>\n",
       "    </tr>\n",
       "    <tr>\n",
       "      <th>3</th>\n",
       "      <td>52</td>\n",
       "      <td>354280</td>\n",
       "      <td>4</td>\n",
       "      <td>1</td>\n",
       "      <td>10</td>\n",
       "    </tr>\n",
       "    <tr>\n",
       "      <th>4</th>\n",
       "      <td>581</td>\n",
       "      <td>218912</td>\n",
       "      <td>14</td>\n",
       "      <td>1</td>\n",
       "      <td>10</td>\n",
       "    </tr>\n",
       "  </tbody>\n",
       "</table>\n",
       "</div>"
      ],
      "text/plain": [
       "   id3  user_id  id2  date  id1\n",
       "0  714   464300   34     1    4\n",
       "1  714   915655   34     1    4\n",
       "2  316   262696   42     1    2\n",
       "3   52   354280    4     1   10\n",
       "4  581   218912   14     1   10"
      ]
     },
     "execution_count": 4,
     "metadata": {},
     "output_type": "execute_result"
    }
   ],
   "source": [
    "train.head()"
   ]
  },
  {
   "cell_type": "code",
   "execution_count": 6,
   "metadata": {
    "collapsed": false
   },
   "outputs": [
    {
     "data": {
      "text/plain": [
       "id3        int64\n",
       "user_id    int64\n",
       "id2        int64\n",
       "date       int64\n",
       "id1        int64\n",
       "dtype: object"
      ]
     },
     "execution_count": 6,
     "metadata": {},
     "output_type": "execute_result"
    }
   ],
   "source": [
    "train.dtypes"
   ]
  },
  {
   "cell_type": "code",
   "execution_count": 54,
   "metadata": {
    "collapsed": true
   },
   "outputs": [],
   "source": [
    "test = train[:53979]"
   ]
  },
  {
   "cell_type": "markdown",
   "metadata": {},
   "source": [
    "## Output format\n",
    "Please upload your predictions into the system in the .csv format. The ﬁle should consist of 53,979 + 1 rows and contain columns ** user_id, id3_1, id3_2, id3_3, id3_4, id3_5**."
   ]
  },
  {
   "cell_type": "code",
   "execution_count": 53,
   "metadata": {
    "collapsed": false
   },
   "outputs": [
    {
     "data": {
      "text/plain": [
       "id3        0\n",
       "user_id    0\n",
       "id2        0\n",
       "date       0\n",
       "id1        0\n",
       "dtype: int64"
      ]
     },
     "execution_count": 53,
     "metadata": {},
     "output_type": "execute_result"
    }
   ],
   "source": [
    "train.isnull().sum()"
   ]
  },
  {
   "cell_type": "code",
   "execution_count": 31,
   "metadata": {
    "collapsed": false
   },
   "outputs": [],
   "source": [
    "import seaborn as sns"
   ]
  },
  {
   "cell_type": "code",
   "execution_count": 47,
   "metadata": {
    "collapsed": false
   },
   "outputs": [
    {
     "data": {
      "text/plain": [
       "Text(0.5,0,'ids')"
      ]
     },
     "execution_count": 47,
     "metadata": {},
     "output_type": "execute_result"
    },
    {
     "data": {
      "image/png": "[encoded data removed]",
      "text/plain": [
       "<matplotlib.figure.Figure at 0x7fe88fc12c50>"
      ]
     },
     "metadata": {},
     "output_type": "display_data"
    }
   ],
   "source": [
    "plt.figure(figsize=(8, 8))\n",
    "sns.set(style=\"darkgrid\")\n",
    "x = train.id1.unique()\n",
    "x.sort()\n",
    "ax = sns.barplot(x=x, y=train.id1.value_counts(sort=False))\n",
    "ax.set_ylabel('amount of occurrences')\n",
    "ax.set_xlabel('ids')"
   ]
  },
  {
   "cell_type": "code",
   "execution_count": 51,
   "metadata": {
    "collapsed": false
   },
   "outputs": [
    {
     "data": {
      "text/plain": [
       "Text(0.5,0,'ids')"
      ]
     },
     "execution_count": 51,
     "metadata": {},
     "output_type": "execute_result"
    },
    {
     "data": {
      "image/png": "[encoded data removed]",
      "text/plain": [
       "<matplotlib.figure.Figure at 0x7fe88f6872e8>"
      ]
     },
     "metadata": {},
     "output_type": "display_data"
    }
   ],
   "source": [
    "plt.figure(figsize=(30, 10))\n",
    "sns.set(style=\"darkgrid\")\n",
    "x = train.id2.unique()\n",
    "x.sort()\n",
    "ax = sns.barplot(x=x, y=train.id2.value_counts(sort=False))\n",
    "ax.set_ylabel('amount of occurrences')\n",
    "ax.set_xlabel('ids')"
   ]
  },
  {
   "cell_type": "code",
   "execution_count": null,
   "metadata": {
    "collapsed": true
   },
   "outputs": [],
   "source": []
  }
 ],
 "metadata": {
  "anaconda-cloud": {},
  "kernelspec": {
   "display_name": "Python [default]",
   "language": "python",
   "name": "python3"
  },
  "language_info": {
   "codemirror_mode": {
    "name": "ipython",
    "version": 3
   },
   "file_extension": ".py",
   "mimetype": "text/x-python",
   "name": "python",
   "nbconvert_exporter": "python",
   "pygments_lexer": "ipython3",
   "version": "3.5.4"
  }
 },
 "nbformat": 4,
 "nbformat_minor": 1
}
