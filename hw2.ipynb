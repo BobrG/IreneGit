{
 "cells": [
  {
   "cell_type": "markdown",
   "metadata": {},
   "source": [
    "# Майнор по Анализу Данных, Группа ИАД-2\n",
    "## Домашнее задание №2: Классификация текстовых данных"
   ]
  },
  {
   "cell_type": "markdown",
   "metadata": {},
   "source": [
    "<hr\\>\n",
    "В задании вы будете решать задачу бинарной классификации текстов. Вы познакомитесь с основными инструментами sklearn, необходимыми для обработки текстов. Перед применением методов sklearn внимательно читайте документацию к ним: это полезно и помогает делать меньше ошибок.\n",
    "\n",
    "**Общая информация**\n",
    "\n",
    "**Срок сдачи:** 1 мая 2017, 9:00 <br\\>\n",
    "\n",
    "При отправлении ДЗ на почту `hse.minor.dm+X@gmail.com`, X = 3 или 4 (ИАД 3 или ИАД4), указывайте фамилию в названии файла, а тему письма оформляйте в следующем виде:<br\\>\n",
    "** [HW2, ИАД-X] Фамилия Имя **<br\\>\n",
    "\n",
    "Сопровождайте ваш код изображеними, комментариями и выводами. <br\\>\n",
    "Имейте ввиду, что на некоторые задачи нет единственного верного и полного ответа. Чем больше информации вы сможете извлечь, аргументированных выводов сформулировать, тем лучше.\n",
    "__Старайтесь не копировать похожие участки кода. Везде, где это возможно, оформляйте код в функцию.__\n",
    "\n",
    "Используйте данный Ipython Notebook при оформлении домашнего задания.\n",
    "<hr\\>"
   ]
  },
  {
   "cell_type": "markdown",
   "metadata": {},
   "source": [
    "<p>Чтобы узнать свой вариант, введите Вашу фамилию на русском языке в соответвующее поле ниже и запустите ячейку:</p>"
   ]
  },
  {
   "cell_type": "code",
   "execution_count": 2,
   "metadata": {
    "collapsed": false
   },
   "outputs": [
    {
     "name": "stdout",
     "output_type": "stream",
     "text": [
      "Ваш вариант -  2\n"
     ]
    }
   ],
   "source": [
    "name = \"БобровскихГлеб\" # Ваши ФамилияИмя\n",
    "\n",
    "alp = 'абвгдеёжзийклмнопрстуфхцчшщъыьэюя'\n",
    "w = [4, 42, 21, 21, 34,  1, 44, 26, 18, 43, 38, 26, 18, 43,  3, 49, 45,\n",
    "        7, 42, 25,  4,  9, 36, 33, 31, 29,  5, 31,  4, 19, 24, 27, 33]\n",
    "d = dict(zip(alp, w))\n",
    "variant =  sum([d[el] for el in name.lower()]) % 2 + 1\n",
    "print(\"Ваш вариант - \", variant)"
   ]
  },
  {
   "cell_type": "markdown",
   "metadata": {},
   "source": [
    "<p><b>Варианты</b></p>"
   ]
  },
  {
   "cell_type": "markdown",
   "metadata": {},
   "source": [
    "В зависимости от варианта нужно будет научиться определять...\n",
    "\n",
    "**1.** ...является ли SMS сообщение спамом? \n",
    "* Зайдите на [страничку с данными](https://archive.ics.uci.edu/ml/datasets/SMS+Spam+Collection) на сайте репозитория UCI.\n",
    "* Нажмите на «Data Folder», скачайте и распакуйте архив.\n",
    "* Открыть SMSSpamCollection можно с помощью pd.read_csv, указав `sep='\\t'`.\n",
    "\n",
    "**2.** ...положительна или отрицательна рецензия на фильм?\n",
    "* Зайдите на [страничку с данными](http://www.cs.cornell.edu/people/pabo/movie-review-data/) на сайте Корнельского университета.\n",
    "* Нажмите на «polarity dataset v2.0» и распакуйте архив. \n",
    "* Каждый текстовый файл соответствует одной рецензии. Вам придётся [построить список всех файлов в папке](http://stackoverflow.com/questions/3207219/how-to-list-all-files-of-a-directory), а затем последовательно открыть их и прочитать тексты"
   ]
  },
  {
   "cell_type": "code",
   "execution_count": 18,
   "metadata": {
    "collapsed": true
   },
   "outputs": [],
   "source": [
    "import numpy as np\n",
    "import pandas as pd\n",
    "import matplotlib.pyplot as plt\n",
    "%matplotlib inline"
   ]
  },
  {
   "cell_type": "code",
   "execution_count": 19,
   "metadata": {
    "collapsed": true
   },
   "outputs": [],
   "source": [
    "import re\n",
    "def convert_text(s):\n",
    "    # Removes all characters from string except letters and digits and convert letters to lowercase\n",
    "    return re.sub(\"[^a-zA-Z0-9]\", \" \", s.lower())\n",
    "#explain regular expression:\n",
    "#"
   ]
  },
  {
   "cell_type": "code",
   "execution_count": 20,
   "metadata": {
    "collapsed": false
   },
   "outputs": [],
   "source": [
    "from os import listdir\n",
    "from os.path import isfile, join\n",
    "mypath = '/home/bobrg/anaconda3/txt_sentoken/pos'\n",
    "txt = []\n",
    "txt = [convert_text(open(join(mypath, f), 'r').read())for f in listdir(mypath)\n",
    "             if isfile(join(mypath, f))]\n",
    "labels = [1] * len(txt)\n",
    "mypath = '/home/bobrg/anaconda3/txt_sentoken/neg'\n",
    "txt.extend([convert_text(open(join(mypath, f), 'r').read()) for f in listdir(mypath)\n",
    "                               if isfile(join(mypath, f))])\n",
    "labels.extend([0] * (len(txt) - len(labels)))"
   ]
  },
  {
   "cell_type": "code",
   "execution_count": 21,
   "metadata": {
    "collapsed": false
   },
   "outputs": [
    {
     "data": {
      "text/plain": [
       "2000"
      ]
     },
     "execution_count": 21,
     "metadata": {},
     "output_type": "execute_result"
    }
   ],
   "source": [
    "len(txt)"
   ]
  },
  {
   "cell_type": "markdown",
   "metadata": {},
   "source": [
    "## Задача 1\n",
    "#### Классификация текстовых сообщений (2 балла)"
   ]
  },
  {
   "cell_type": "markdown",
   "metadata": {},
   "source": [
    "<ol>\n",
    "    <li>Загрузите исходные данные --- список текстов и список соответствующих им меток</li>\n",
    "    <li>Разбейте объекты на обучающее (train) и тестовое подможества (test) в пропорции 7:3</li>\n",
    "    <li>Переведите текстовые данные в векторный вид. Для этого воcпользуйтесь средствами sklearn для конвертации текста в векторы TF-IDF (настраивать только на обучающем подмножестве, n-gram=1, слова приведите в нижний регистр)</li>\n",
    "    <li>Постройте на обучающем подмножестве следующие модели классификации:\n",
    "        <ul>\n",
    "            <li>K-ближайших соседей ($n=5$)</li>\n",
    "            <li>Логистическая регрессия ($C=1$)</li>\n",
    "            <li>Мультиномиальный наивный Байес ($\\alpha=1$)</li> \n",
    "        </ul>\n",
    "    </li>\n",
    "    <li>Определите качество классификации (по доле правильных классификаций) на тестовом подмножестве</li>\n",
    "    <li>Определите с помощью timeit время обучения и предсказания (на тестовом подмножестве) </li>\n",
    "</ol>"
   ]
  },
  {
   "cell_type": "code",
   "execution_count": 22,
   "metadata": {
    "collapsed": true
   },
   "outputs": [],
   "source": [
    "random_state = 12345 # для всех объектов/методов/моделей"
   ]
  },
  {
   "cell_type": "markdown",
   "metadata": {
    "collapsed": false
   },
   "source": [
    "Параметры логистической регрессии\n",
    "```\n",
    "penalty='l2'\n",
    "fit_intercept=True\n",
    "max_iter=100\n",
    "C=1\n",
    "solver=\"lbfgs\"\n",
    "random_state=12345\n",
    "```"
   ]
  },
  {
   "cell_type": "code",
   "execution_count": 40,
   "metadata": {
    "collapsed": false
   },
   "outputs": [],
   "source": [
    "from sklearn.model_selection import train_test_split\n",
    "X_train, X_test, y_train, y_test = train_test_split(txt, labels, test_size=0.3, random_state=12345)\n",
    "X = X_train + X_test\n",
    "y_train = np.asarray(y_train)\n",
    "y_test = np.asarray(y_test)"
   ]
  },
  {
   "cell_type": "code",
   "execution_count": 41,
   "metadata": {
    "collapsed": false
   },
   "outputs": [
    {
     "data": {
      "text/plain": [
       "0.7"
      ]
     },
     "execution_count": 41,
     "metadata": {},
     "output_type": "execute_result"
    }
   ],
   "source": [
    "len(X_train) / len(X)"
   ]
  },
  {
   "cell_type": "markdown",
   "metadata": {},
   "source": [
    "### Векторизация текстов\n",
    "\n",
    "EXPAND!"
   ]
  },
  {
   "cell_type": "code",
   "execution_count": 42,
   "metadata": {
    "collapsed": true
   },
   "outputs": [],
   "source": [
    "from sklearn.feature_extraction.text import TfidfVectorizer \n",
    "tr = TfidfVectorizer(lowercase=True,ngram_range=(1,1))\n",
    "df_train = tr.fit_transform(X_train)\n"
   ]
  },
  {
   "cell_type": "code",
   "execution_count": 43,
   "metadata": {
    "collapsed": false
   },
   "outputs": [
    {
     "data": {
      "text/plain": [
       "<1400x33847 sparse matrix of type '<class 'numpy.float64'>'\n",
       "\twith 462281 stored elements in Compressed Sparse Row format>"
      ]
     },
     "execution_count": 43,
     "metadata": {},
     "output_type": "execute_result"
    }
   ],
   "source": [
    "df_train"
   ]
  },
  {
   "cell_type": "markdown",
   "metadata": {},
   "source": [
    "Another way to make transformation:\n",
    "```\n",
    "from sklearn.feature_extraction.text import CountVectorizer\n",
    "count_vec = CountVectorizer(ngram_range=(1, 1))\n",
    "df = count_vec.fit_transform(X_train).toarray()\n",
    "from sklearn.feature_extraction.text import TfidfTransformer\n",
    "transformer = TfidfTransformer()\n",
    "df_train = pd.DataFrame(data=transformer.fit_transform(df).toarray(),\n",
    "                       columns=count_vec.get_feature_names())\n",
    "```\n",
    "but TfidfVectorizer is more commonly used."
   ]
  },
  {
   "cell_type": "markdown",
   "metadata": {},
   "source": [
    "###  Обучение моделей:\n",
    "* KNN\n",
    "* Logistic Regression\n",
    "* MultinomialNaiveBayes"
   ]
  },
  {
   "cell_type": "code",
   "execution_count": 73,
   "metadata": {
    "collapsed": false
   },
   "outputs": [
    {
     "data": {
      "text/plain": [
       "KNeighborsClassifier(algorithm='auto', leaf_size=30, metric='minkowski',\n",
       "           metric_params=None, n_jobs=1, n_neighbors=5, p=2,\n",
       "           weights='uniform')"
      ]
     },
     "execution_count": 73,
     "metadata": {},
     "output_type": "execute_result"
    }
   ],
   "source": [
    "from sklearn.neighbors import KNeighborsClassifier\n",
    "knc = KNeighborsClassifier(n_neighbors=5)\n",
    "knc.fit(df_train, y_train)"
   ]
  },
  {
   "cell_type": "code",
   "execution_count": 45,
   "metadata": {
    "collapsed": false
   },
   "outputs": [
    {
     "name": "stdout",
     "output_type": "stream",
     "text": [
      "100 loops, best of 3: 2.19 ms per loop\n"
     ]
    }
   ],
   "source": [
    "%timeit knc.fit(df_train, y_train)"
   ]
  },
  {
   "cell_type": "code",
   "execution_count": 67,
   "metadata": {
    "collapsed": false
   },
   "outputs": [
    {
     "data": {
      "text/plain": [
       "LogisticRegression(C=1, class_weight=None, dual=False, fit_intercept=True,\n",
       "          intercept_scaling=1, max_iter=100, multi_class='ovr', n_jobs=1,\n",
       "          penalty='l2', random_state=12345, solver='lbfgs', tol=0.0001,\n",
       "          verbose=0, warm_start=False)"
      ]
     },
     "execution_count": 67,
     "metadata": {},
     "output_type": "execute_result"
    }
   ],
   "source": [
    "from sklearn.linear_model import LogisticRegression\n",
    "logr = LogisticRegression(penalty='l2', fit_intercept=True, max_iter=100,\n",
    "                          C=1, solver=\"lbfgs\", random_state=12345)\n",
    "logr.fit(df_train, y_train)"
   ]
  },
  {
   "cell_type": "code",
   "execution_count": 47,
   "metadata": {
    "collapsed": false
   },
   "outputs": [
    {
     "name": "stdout",
     "output_type": "stream",
     "text": [
      "10 loops, best of 3: 104 ms per loop\n"
     ]
    }
   ],
   "source": [
    "%timeit logr.fit(df_train, y_train)"
   ]
  },
  {
   "cell_type": "code",
   "execution_count": 48,
   "metadata": {
    "collapsed": false
   },
   "outputs": [
    {
     "data": {
      "text/plain": [
       "MultinomialNB(alpha=1.0, class_prior=None, fit_prior=True)"
      ]
     },
     "execution_count": 48,
     "metadata": {},
     "output_type": "execute_result"
    }
   ],
   "source": [
    "from sklearn.naive_bayes import MultinomialNB\n",
    "mnb = MultinomialNB()\n",
    "mnb.fit(df_train, y_train)"
   ]
  },
  {
   "cell_type": "code",
   "execution_count": 49,
   "metadata": {
    "collapsed": false
   },
   "outputs": [
    {
     "name": "stdout",
     "output_type": "stream",
     "text": [
      "100 loops, best of 3: 6.49 ms per loop\n"
     ]
    }
   ],
   "source": [
    "%timeit mnb.fit(df_train, y_train)"
   ]
  },
  {
   "cell_type": "markdown",
   "metadata": {},
   "source": [
    "### Построение прогноза на тестовой подвыборке.\n",
    "Векторизуем тексты из теста и проверим предсказания обученых моделей."
   ]
  },
  {
   "cell_type": "code",
   "execution_count": 74,
   "metadata": {
    "collapsed": false
   },
   "outputs": [
    {
     "data": {
      "text/plain": [
       "<600x33847 sparse matrix of type '<class 'numpy.float64'>'\n",
       "\twith 198042 stored elements in Compressed Sparse Row format>"
      ]
     },
     "execution_count": 74,
     "metadata": {},
     "output_type": "execute_result"
    }
   ],
   "source": [
    "df_test = tr.transform(X_test)\n",
    "df_test"
   ]
  },
  {
   "cell_type": "code",
   "execution_count": 75,
   "metadata": {
    "collapsed": false
   },
   "outputs": [],
   "source": [
    "yy_knc = knc.predict(df_test)"
   ]
  },
  {
   "cell_type": "code",
   "execution_count": 76,
   "metadata": {
    "collapsed": false
   },
   "outputs": [
    {
     "name": "stdout",
     "output_type": "stream",
     "text": [
      "mae: 0.415\n",
      "accuracy score 0.585\n"
     ]
    }
   ],
   "source": [
    "from sklearn.metrics import mean_absolute_error, accuracy_score\n",
    "print('mae:', mean_absolute_error(yy_knc, y_test))\n",
    "print('accuracy score', accuracy_score(yy_knc, y_test))"
   ]
  },
  {
   "cell_type": "code",
   "execution_count": 56,
   "metadata": {
    "collapsed": false
   },
   "outputs": [
    {
     "name": "stdout",
     "output_type": "stream",
     "text": [
      "1 loop, best of 3: 263 ms per loop\n"
     ]
    }
   ],
   "source": [
    "%timeit knc.predict(df_test)"
   ]
  },
  {
   "cell_type": "code",
   "execution_count": 77,
   "metadata": {
    "collapsed": false
   },
   "outputs": [],
   "source": [
    "yy_lgr = logr.predict(df_test)"
   ]
  },
  {
   "cell_type": "code",
   "execution_count": 78,
   "metadata": {
    "collapsed": false
   },
   "outputs": [
    {
     "name": "stdout",
     "output_type": "stream",
     "text": [
      "mae: 0.178333333333\n",
      "accuracy score: 0.821666666667\n"
     ]
    }
   ],
   "source": [
    "print('mae:', mean_absolute_error(yy_lgr, y_test))\n",
    "print('accuracy score:', accuracy_score(yy_lgr, y_test))"
   ]
  },
  {
   "cell_type": "code",
   "execution_count": 59,
   "metadata": {
    "collapsed": false
   },
   "outputs": [
    {
     "name": "stdout",
     "output_type": "stream",
     "text": [
      "1000 loops, best of 3: 586 µs per loop\n"
     ]
    }
   ],
   "source": [
    "%timeit logr.predict(df_test)"
   ]
  },
  {
   "cell_type": "markdown",
   "metadata": {},
   "source": [
    "µs - microseconds - WOW! :D"
   ]
  },
  {
   "cell_type": "code",
   "execution_count": 60,
   "metadata": {
    "collapsed": false
   },
   "outputs": [],
   "source": [
    "yy_mnb = mnb.predict(df_test)"
   ]
  },
  {
   "cell_type": "code",
   "execution_count": 61,
   "metadata": {
    "collapsed": false
   },
   "outputs": [
    {
     "name": "stdout",
     "output_type": "stream",
     "text": [
      "mae: 0.228333333333\n",
      "accuracy score: 0.771666666667\n"
     ]
    }
   ],
   "source": [
    "print('mae:', mean_absolute_error(yy_mnb, y_test))\n",
    "print('accuracy score:', accuracy_score(yy_mnb, y_test))"
   ]
  },
  {
   "cell_type": "code",
   "execution_count": 62,
   "metadata": {
    "collapsed": false
   },
   "outputs": [
    {
     "name": "stdout",
     "output_type": "stream",
     "text": [
      "1000 loops, best of 3: 1.5 ms per loop\n"
     ]
    }
   ],
   "source": [
    "%timeit mnb.predict(df_test)"
   ]
  },
  {
   "cell_type": "markdown",
   "metadata": {},
   "source": [
    "### Пояснения по результатам:\n",
    "\n",
    "Fitting time:\n",
    "* Дольше всего настраивается Логистическая регрессия, поскольку ей нужно настроить параметры сигмоиды, чтобы максимизировать функцию правдоподобия. Для этого применяется метод градиентного спуска, который и дает проигрыш во времени настройки.\n",
    "* Меньше всего времени на настройку тратит модель K Nearest Neighbours, поскольку она лишь запоминает выборку.\n",
    "\n",
    "Prediction time:\n",
    "На предсказании модели ведут себя противоположно своему поведению на настройке, т.е.:\n",
    "* Дольше всего предсказывает модель KNN, поскольку она должна померить расстояния евклидовой метрикой для каждого элемента из теста и каждого элемента из заученого трейна.\n",
    "* Меньше времени тратит Логистическая регрессия, поскольку ????\n",
    "\n",
    "What about MNB? (TODO: Expand)"
   ]
  },
  {
   "cell_type": "markdown",
   "metadata": {},
   "source": [
    "## Задача 2.\n",
    "#### Применение k-folds (3 балла)"
   ]
  },
  {
   "cell_type": "markdown",
   "metadata": {},
   "source": [
    "<p>1. Повторите решение задачи 1, но вместо одного разделения на обучение и контроль используйте разбиение k-folds (k=4). Вам понадобится повторить все действия 4 раза. <br>\n",
    "2. Какой классификатор показывал лучшее/худшее качество на тестовой выборке? А при k-folds разбиении? Как вы думаете, обязательно ли в данной задаче оценивать качество на кросс-валидации, или достаточно отложить контрольную выборку и оценивать качество на ней?</p>"
   ]
  },
  {
   "cell_type": "code",
   "execution_count": 79,
   "metadata": {
    "collapsed": true
   },
   "outputs": [],
   "source": [
    "random_state = 12345 # для всех объектов/методов/моделей"
   ]
  },
  {
   "cell_type": "code",
   "execution_count": 80,
   "metadata": {
    "collapsed": true
   },
   "outputs": [],
   "source": [
    "from sklearn.model_selection import KFold\n",
    "def kfold(model, data, labels, k):\n",
    "    tmp_model = model\n",
    "    vec = TfidfVectorizer(lowercase=True, ngram_range=(1,1))\n",
    "    kfld = KFold(n_splits=k, random_state=12345, shuffle=True)\n",
    "    \n",
    "    y_pred = np.zeros(len(labels))\n",
    "    \n",
    "    for i_train, i_test in kfld.split(data):\n",
    "        \n",
    "        Xx_train, Xx_test = vec.fit_transform(data[i_train]), vec.transform(data[i_test])\n",
    "        \n",
    "        Yy_train = labels[i_train]\n",
    "        \n",
    "        tmp_model.fit(Xx_train, Yy_train)\n",
    "        \n",
    "        y_pred[i_test] = tmp_model.predict(Xx_test)\n",
    "    print(accuracy_score(y_pred, labels))"
   ]
  },
  {
   "cell_type": "code",
   "execution_count": 81,
   "metadata": {
    "collapsed": false
   },
   "outputs": [
    {
     "name": "stdout",
     "output_type": "stream",
     "text": [
      "-------------------KNN--------------------\n",
      "0.575\n",
      "-------------------LR--------------------\n",
      "0.8195\n",
      "-------------------MNB--------------------\n",
      "0.7935\n"
     ]
    }
   ],
   "source": [
    "print('-------------------KNN--------------------')\n",
    "kfold(knc, np.asarray(txt), np.asarray(labels), 4)\n",
    "print('-------------------LR--------------------')\n",
    "kfold(logr, np.asarray(txt), np.asarray(labels), 4)\n",
    "print('-------------------MNB--------------------')\n",
    "kfold(mnb, np.asarray(txt), np.asarray(labels), 4)"
   ]
  },
  {
   "cell_type": "markdown",
   "metadata": {},
   "source": [
    "### Пояснения по результатам:\n",
    "\n",
    "KFold разбиение на 4 фолдах улучшело результат предсказания моделей, но если с KNN (при k = 5) улучшение заметное, то с Логистической регрессией и Наивным Байесом улучшения едва заметны.\n",
    "(WHY? TODO: Expand)"
   ]
  },
  {
   "cell_type": "markdown",
   "metadata": {},
   "source": [
    "## Задача 3.\n",
    "#### Выбор модели (5 баллов)"
   ]
  },
  {
   "cell_type": "markdown",
   "metadata": {},
   "source": [
    "<p style=\"padding-left:15px;\">1. Используя данные из задачи 1, разбейте обучающее подмножество (train) с использованием k-folds (k=4) <br>\n",
    "2. Рассмотрим следующие варианты значений гиперпараметров для наших классификаторов:  </p>"
   ]
  },
  {
   "cell_type": "markdown",
   "metadata": {},
   "source": [
    "<p>K-ближайших соседей</p>"
   ]
  },
  {
   "cell_type": "code",
   "execution_count": 82,
   "metadata": {
    "collapsed": true
   },
   "outputs": [],
   "source": [
    "ns = np.arange(1, 150, 20) # количество соседей"
   ]
  },
  {
   "cell_type": "markdown",
   "metadata": {},
   "source": [
    "<p>Логистическая регрессия</p>"
   ]
  },
  {
   "cell_type": "code",
   "execution_count": 83,
   "metadata": {
    "collapsed": true
   },
   "outputs": [],
   "source": [
    "cs = np.logspace(-2, 10, 8, base=10) # параметр регуляризации"
   ]
  },
  {
   "cell_type": "markdown",
   "metadata": {},
   "source": [
    "<p>Мультиномиальный наивный Байес</p>"
   ]
  },
  {
   "cell_type": "code",
   "execution_count": 84,
   "metadata": {
    "collapsed": true
   },
   "outputs": [],
   "source": [
    "alphas = np.logspace(-4, 1, 8, base=10) # сглаживающий параметр"
   ]
  },
  {
   "cell_type": "markdown",
   "metadata": {},
   "source": [
    "<p style=\"padding-left:15px;\"> Найдите оптимальные значения гиперпараметров для классификаторов на кросс-валидации. Для этого постройте графики (гиперпараметр)-(качество) на обучении и валидации. <br> _Пояснение:_ вы разбили обучающую выборку на 4 блока. Для каждого значения гиперпараметра 4 раза повторите следующее: берем 3 блока для обучения, по ним настраиваем  TfIdf и обучаем классификатор, считаем качество на этих блоках (качество на обучении) и на оставшемся (качество на валидации). Итоговое значение качества на обучении для данного значения гиперпараметра - это среднее четырех полученных значений качества на обучении, то же самое с итоговым значением качества на валидации.  <br>\n",
    "3. 3 настроенные модели обучите на всем обучающем подмножестве (train) и протестируйте на тестовом (test). Определите время обучения и предсказания (см. задачу 1 п. 6)<br>\n",
    "4. Повторите шаги 2-4 для n-gram=2<br>\n",
    "5. Выведите итоговые данные по всем методам для лучших моделей (метод, n-gram, значение параметра модели, время обучения, время предсказания, доля правильных классификаций)<br>\n",
    "6. Сделайте выводы по полученным результатам: <ul>\n",
    "<li>какой метод показал наилучшее качество на обучении? на валидации? на тестовой выборке? Если это разные классификаторы, подумайте, почему так происходит. Если один и тот же, в чем его преимущества перед остальными?</li>\n",
    "<li>велика ли разница между качеством на обучении и на валидации? на валидации и контроле? Почему так происходит?</li>\n",
    "<li>что означает n-gram=2? Улучшилось ли качество при переходе от n-gram=1 к n-gram=2? Предложите свои идеи, почему.</li>\n",
    "<li>есть ли связь между качеством классификации и временем обучения/предсказания? какой классификатор обучается медленнее всего? медленнее всего делает предсказания? В чем причина?</li>\n",
    "</ul></p>"
   ]
  },
  {
   "cell_type": "code",
   "execution_count": 85,
   "metadata": {
    "collapsed": true
   },
   "outputs": [],
   "source": [
    "random_state = 12345 # для всех объектов/методов/моделей"
   ]
  },
  {
   "cell_type": "markdown",
   "metadata": {},
   "source": [
    "### Определим гиперпараметры моделей.\n",
    "Создадим функцию, чтобы избежать дубликации кода (DRY) и последовательно замеряем с ней, как зависит \n",
    "результат предсказания модели от разных параметров. Выборку в этот раз возьмем тренировочную, которую\n",
    "определили в задании 1 и поделим ее на 4-ре фолда на 3-ех из которых будем обучать модель, а на оставшемся\n",
    "валидироваться. Для определения результата обучения и валидации на выборке возьмем среднее по полученным\n",
    "результатам. Повторяем замеры для каждого параметра."
   ]
  },
  {
   "cell_type": "code",
   "execution_count": 153,
   "metadata": {
    "collapsed": false
   },
   "outputs": [],
   "source": [
    "def hyperparams_info(model, data, labels, ngr):\n",
    "    kfld=KFold(n_splits=4, random_state=12345, shuffle=True)\n",
    "    qual_train = []\n",
    "    qual_valid = []\n",
    "    for i_tr, i_tst in kfld.split(data):\n",
    "        vec = TfidfVectorizer(lowercase=True, ngram_range=ngr)\n",
    "        tr = vec.fit_transform(data[i_tr])\n",
    "        model.fit(tr, labels[i_tr])\n",
    "        qual_train.append(accuracy_score(model.predict(tr), labels[i_tr]))\n",
    "        qual_valid.append(accuracy_score(model.predict(vec.transform(data[i_tst])), labels[i_tst]))\n",
    "        \n",
    "\n",
    "    return np.mean(qual_train), np.mean(qual_valid)\n",
    "\n",
    "def plotting(train, valid, param, model_name):\n",
    "    fig1 = plt.figure(figsize=(8,8))\n",
    "    ax1 = plt.subplot()\n",
    "    ax1.plot(param, train, label='Train')\n",
    "    ax2 = plt.subplot()\n",
    "    ax2.plot(param, valid, label='Validation')\n",
    "    plt.legend(loc=1, ncol=1)\n",
    "    plt.xlabel('Parameter')\n",
    "    plt.ylabel('Quality')\n",
    "    plt.title(model_name)\n",
    "\n",
    "def time_measure(model, train, test, labels, ii):\n",
    "    print('--->{}\\n fitting time:'.format(model))\n",
    "    %time model.fit(train, labels[:ii])\n",
    "    print('prediction time:')\n",
    "    %time model.predict(test)"
   ]
  },
  {
   "cell_type": "code",
   "execution_count": 154,
   "metadata": {
    "collapsed": false
   },
   "outputs": [
    {
     "name": "stdout",
     "output_type": "stream",
     "text": [
      "------------------TRAIN_KFOLD------------------\n",
      "ngrams - (1, 1)\n",
      "n-neigbours - 41.0\n",
      "result validation - 0.7142857142857142\n",
      "result train - 0.7142857142857143\n",
      "------------------TRAIN+TEST------------------\n",
      "n-neigbours - 41.0\n",
      "ngrams - (1, 1)\n",
      "Result: 0.57\n",
      "Time measurement\n",
      "--->KNeighborsClassifier(algorithm='auto', leaf_size=30, metric='minkowski',\n",
      "           metric_params=None, n_jobs=1, n_neighbors=41, p=2,\n",
      "           weights='uniform')\n",
      " fitting time:\n",
      "CPU times: user 4 ms, sys: 0 ns, total: 4 ms\n",
      "Wall time: 2.35 ms\n",
      "prediction time:\n",
      "CPU times: user 296 ms, sys: 0 ns, total: 296 ms\n",
      "Wall time: 295 ms\n",
      "------------------TRAIN_KFOLD------------------\n",
      "ngrams - (2, 2)\n",
      "n-neigbours - 61.0\n",
      "result validation - 0.7142857142857142\n",
      "result train - 0.7142857142857143\n",
      "------------------TRAIN+TEST------------------\n",
      "n-neigbours - 61.0\n",
      "ngrams - (2, 2)\n",
      "Result: 0.7266666666666667\n",
      "Time measurement\n",
      "--->KNeighborsClassifier(algorithm='auto', leaf_size=30, metric='minkowski',\n",
      "           metric_params=None, n_jobs=1, n_neighbors=61, p=2,\n",
      "           weights='uniform')\n",
      " fitting time:\n",
      "CPU times: user 4 ms, sys: 0 ns, total: 4 ms\n",
      "Wall time: 3.32 ms\n",
      "prediction time:\n",
      "CPU times: user 208 ms, sys: 0 ns, total: 208 ms\n",
      "Wall time: 206 ms\n"
     ]
    },
    {
     "data": {
      "image/png": "[encoded data removed]",
      "text/plain": [
       "<matplotlib.figure.Figure at 0x7f6900f6ac18>"
      ]
     },
     "metadata": {},
     "output_type": "display_data"
    },
    {
     "data": {
      "image/png": "[encoded data removed]",
      "text/plain": [
       "<matplotlib.figure.Figure at 0x7f6900e12f28>"
      ]
     },
     "metadata": {},
     "output_type": "display_data"
    }
   ],
   "source": [
    "#KNearestNeighbors;\n",
    "qual = np.zeros((len(ns), 3))\n",
    "for ngr in range(1, 3):\n",
    "    j = 0\n",
    "    ngrams = (ngr,ngr)\n",
    "    for i in ns:\n",
    "        knc_ = KNeighborsClassifier(n_neighbors=i)\n",
    "        qual[j][0], qual[j][1] = hyperparams_info(knc_, np.asarray(X_train), np.asarray(labels), ngrams)\n",
    "        qual[j][2] = i\n",
    "        j += 1\n",
    "    # plot quality-parameter dependence;\n",
    "    plotting([k[0] for k in qual], [k[1] for k in qual], ns, 'KNN')\n",
    "    # find best validation result;\n",
    "    tmp = max(qual, key=lambda a: a[1])\n",
    "    print('------------------TRAIN_KFOLD------------------',\n",
    "          'ngrams - {}'.format(ngrams),\n",
    "          'n-neigbours - {}'.format(tmp[-1]),\n",
    "          'result validation - {}'.format(tmp[1]),\n",
    "          'result train - {}'.format(tmp[0]),\n",
    "          sep = '\\n'\n",
    "         )\n",
    "    # fit best model on train data and validate on test from task 1;\n",
    "    vec = TfidfVectorizer(lowercase=True, ngram_range=ngrams)\n",
    "    tr = vec.fit_transform(X_train)\n",
    "    ts = vec.transform(X_test)\n",
    "    knc_ = KNeighborsClassifier(n_neighbors=int(tmp[-1]))\n",
    "    knc_.fit(tr, y_train)\n",
    "    y_pred = knc_.predict(ts)\n",
    "    print('------------------TRAIN+TEST------------------',\n",
    "          'n-neigbours - {}'.format(tmp[-1]),\n",
    "          'ngrams - {}'.format(ngrams),\n",
    "          'Result: {}'.format(accuracy_score(y_test, y_pred)),\n",
    "          sep='\\n'\n",
    "         )\n",
    "    print('Time measurement')\n",
    "    time_measure(knc_, tr, ts, labels, 1400)"
   ]
  },
  {
   "cell_type": "markdown",
   "metadata": {},
   "source": [
    "При одном соседе модель просто выучила обучающую выборку и очень плохо отработала на валидации, что и ожидаемо.\n",
    "Начиная с 61 соседа качество не менялось."
   ]
  },
  {
   "cell_type": "code",
   "execution_count": 155,
   "metadata": {
    "collapsed": false
   },
   "outputs": [
    {
     "name": "stdout",
     "output_type": "stream",
     "text": [
      "------------------TRAIN_KFOLD------------------\n",
      "ngrams - (1, 1)\n",
      "C - 0.01\n",
      "result validation - 0.7142857142857142\n",
      "result train - 0.7142857142857143\n",
      "------------------TRAIN+TEST------------------\n",
      "C - 0.01\n",
      "ngrams - (1, 1)\n",
      "Result: 0.48\n",
      "--->LogisticRegression(C=0.01, class_weight=None, dual=False, fit_intercept=True,\n",
      "          intercept_scaling=1, max_iter=100, multi_class='ovr', n_jobs=1,\n",
      "          penalty='l2', random_state=12345, solver='lbfgs', tol=0.0001,\n",
      "          verbose=0, warm_start=False)\n",
      " fitting time:\n",
      "CPU times: user 196 ms, sys: 4 ms, total: 200 ms\n",
      "Wall time: 116 ms\n",
      "prediction time:\n",
      "CPU times: user 0 ns, sys: 0 ns, total: 0 ns\n",
      "Wall time: 833 µs\n",
      "------------------TRAIN_KFOLD------------------\n",
      "ngrams - (2, 2)\n",
      "C - 26.826957952797247\n",
      "result validation - 0.715\n",
      "result train - 0.9988095238095238\n",
      "------------------TRAIN+TEST------------------\n",
      "C - 26.826957952797247\n",
      "ngrams - (2, 2)\n",
      "Result: 0.85\n",
      "--->LogisticRegression(C=26.826957952797247, class_weight=None, dual=False,\n",
      "          fit_intercept=True, intercept_scaling=1, max_iter=100,\n",
      "          multi_class='ovr', n_jobs=1, penalty='l2', random_state=12345,\n",
      "          solver='lbfgs', tol=0.0001, verbose=0, warm_start=False)\n",
      " fitting time:\n",
      "CPU times: user 5.66 s, sys: 132 ms, total: 5.8 s\n",
      "Wall time: 2.98 s\n",
      "prediction time:\n",
      "CPU times: user 4 ms, sys: 0 ns, total: 4 ms\n",
      "Wall time: 1.69 ms\n"
     ]
    },
    {
     "data": {
      "image/png": "[encoded data removed]",
      "text/plain": [
       "<matplotlib.figure.Figure at 0x7f696a5ba780>"
      ]
     },
     "metadata": {},
     "output_type": "display_data"
    },
    {
     "data": {
      "image/png": "[encoded data removed]",
      "text/plain": [
       "<matplotlib.figure.Figure at 0x7f698163cf98>"
      ]
     },
     "metadata": {},
     "output_type": "display_data"
    }
   ],
   "source": [
    "#LogisticRegression\n",
    "qual = np.zeros((len(cs), 3))\n",
    "for ngr in range(1, 3):\n",
    "    j = 0\n",
    "    ngrams = (ngr,ngr)\n",
    "    for i in cs:\n",
    "        logr_ = LogisticRegression(penalty='l2', fit_intercept=True, max_iter=100,\n",
    "                          C=i, solver=\"lbfgs\", random_state=12345)\n",
    "        qual[j][0], qual[j][1] = hyperparams_info(logr_, np.asarray(X_train), np.asarray(labels), ngrams)\n",
    "        qual[j][2] = i\n",
    "        j += 1\n",
    "    plotting([k[0] for k in qual], [k[1] for k in qual], cs, 'LogisticRegression')\n",
    "        \n",
    "    tmp = max(qual, key=lambda a: a[1])\n",
    "    print('------------------TRAIN_KFOLD------------------',\n",
    "          'ngrams - {}'.format(ngrams),\n",
    "          'C - {}'.format(tmp[-1]),\n",
    "          'result validation - {}'.format(tmp[1]),\n",
    "          'result train - {}'.format(tmp[0]),\n",
    "          sep = '\\n'\n",
    "         )\n",
    "    logr_ = LogisticRegression(penalty='l2', fit_intercept=True, max_iter=100,\n",
    "                        C=tmp[-1], solver=\"lbfgs\", random_state=12345)\n",
    "    # fit best model on train data and validate on test from task 1;\n",
    "    vec = TfidfVectorizer(lowercase=True, ngram_range=ngrams)\n",
    "    tr = vec.fit_transform(X_train)\n",
    "    ts = vec.transform(X_test)\n",
    "    logr_.fit(tr, y_train)\n",
    "    y_pred = logr_.predict(ts)\n",
    "    print('------------------TRAIN+TEST------------------',\n",
    "          'C - {}'.format(tmp[-1]),\n",
    "          'ngrams - {}'.format(ngrams),\n",
    "          'Result: {}'.format(accuracy_score(y_test, y_pred)),\n",
    "          sep='\\n'\n",
    "         )\n",
    "    \n",
    "    time_measure(logr_, tr, ts, labels, 1400)"
   ]
  },
  {
   "cell_type": "code",
   "execution_count": 158,
   "metadata": {
    "collapsed": false
   },
   "outputs": [
    {
     "name": "stdout",
     "output_type": "stream",
     "text": [
      "------------------TRAIN_KFOLD------------------\n",
      "ngrams - (1, 1)\n",
      "alpha - 0.3727593720314942\n",
      "result validation - 0.7142857142857142\n",
      "result train - 0.7169047619047619\n",
      "------------------TRAIN+TEST------------------\n",
      "alpha - 0.3727593720314942\n",
      "ngrams - (1, 1)\n",
      "Result: 0.8066666666666666\n",
      "--->MultinomialNB(alpha=0.37275937203149417, class_prior=None, fit_prior=True)\n",
      " fitting time:\n",
      "CPU times: user 8 ms, sys: 0 ns, total: 8 ms\n",
      "Wall time: 6.97 ms\n",
      "prediction time:\n",
      "CPU times: user 0 ns, sys: 0 ns, total: 0 ns\n",
      "Wall time: 1.66 ms\n",
      "------------------TRAIN_KFOLD------------------\n",
      "ngrams - (2, 2)\n",
      "alpha - 0.07196856730011521\n",
      "result validation - 0.715\n",
      "result train - 0.9988095238095238\n",
      "------------------TRAIN+TEST------------------\n",
      "alpha - 0.07196856730011521\n",
      "ngrams - (2, 2)\n",
      "Result: 0.8333333333333334\n",
      "--->MultinomialNB(alpha=0.071968567300115208, class_prior=None, fit_prior=True)\n",
      " fitting time:\n",
      "CPU times: user 44 ms, sys: 0 ns, total: 44 ms\n",
      "Wall time: 44.8 ms\n",
      "prediction time:\n",
      "CPU times: user 8 ms, sys: 0 ns, total: 8 ms\n",
      "Wall time: 6.81 ms\n"
     ]
    },
    {
     "data": {
      "image/png": "[encoded data removed]",
      "text/plain": [
       "<matplotlib.figure.Figure at 0x7f68fac7fd68>"
      ]
     },
     "metadata": {},
     "output_type": "display_data"
    },
    {
     "data": {
      "image/png": "[encoded data removed]",
      "text/plain": [
       "<matplotlib.figure.Figure at 0x7f6901620080>"
      ]
     },
     "metadata": {},
     "output_type": "display_data"
    }
   ],
   "source": [
    "#MultinomialNB\n",
    "qual = np.zeros((len(alphas), 3))\n",
    "for ngr in range(1, 3):\n",
    "    j = 0\n",
    "    ngrams = (ngr,ngr)\n",
    "    for i in alphas:\n",
    "        mnb_ = MultinomialNB(alpha=i)\n",
    "        qual[j][0], qual[j][1] = hyperparams_info(mnb_, np.asarray(X_train), np.asarray(labels), ngrams)\n",
    "        qual[j][2] = i\n",
    "        j += 1\n",
    "    plotting([k[0] for k in qual], [k[1] for k in qual], alphas, 'MultinomialNB')\n",
    "        \n",
    "    tmp = max(qual, key=lambda a: a[1])\n",
    "    print('------------------TRAIN_KFOLD------------------',\n",
    "          'ngrams - {}'.format(ngrams),\n",
    "          'alpha - {}'.format(tmp[-1]),\n",
    "          'result validation - {}'.format(tmp[1]),\n",
    "          'result train - {}'.format(tmp[0]),\n",
    "          sep = '\\n'\n",
    "         )\n",
    "    mnb_ = MultinomialNB(alpha=tmp[-1])\n",
    "     # fit best model on train data and validate on test from task 1;\n",
    "    vec = TfidfVectorizer(lowercase=True, ngram_range=ngrams)\n",
    "    tr = vec.fit_transform(X_train)\n",
    "    ts = vec.transform(X_test)\n",
    "    mnb_.fit(tr, y_train)\n",
    "    y_pred = mnb_.predict(ts)\n",
    "    print('------------------TRAIN+TEST------------------',\n",
    "          'alpha - {}'.format(tmp[-1]),\n",
    "          'ngrams - {}'.format(ngrams),\n",
    "          'Result: {}'.format(accuracy_score(y_test, y_pred)),\n",
    "          sep='\\n'\n",
    "         )\n",
    "    \n",
    "    time_measure(mnb_, tr, ts, labels, 1400)"
   ]
  },
  {
   "cell_type": "markdown",
   "metadata": {},
   "source": [
    "### Ngrams = 2\n",
    "[some info about choosing n-grams and cv](https://stats.stackexchange.com/questions/155483/estimating-the-best-length-of-n-gram) <br> </br>\n",
    "*что означает n-gram=2?* <br> </br>\n",
    "если n-gram=1 будет считать вероятность встретить определенное слово, то n-gram=2 будет парсить строку на посл-ти из двух слов.\n",
    "(перекрест в одно слово: … to be or not to be …\t=> …, to be, be or, or not, not to, to be, …)"
   ]
  },
  {
   "cell_type": "markdown",
   "metadata": {},
   "source": [
    "## Задача 4. (опционально)\n",
    "#### Исследование влияния количества признаков FeatureHasher на качество классификации (+3 балла к сумме по всем ДЗ) "
   ]
  },
  {
   "cell_type": "markdown",
   "metadata": {},
   "source": [
    "<p>Изучите, что такое feature hashing (достаточно разобаться с документацией sklearn) и кратко опишите. Как будет меняться качество классификации для обозначенных ранее методов при использовании FeatureHasher (или HashingVectorizer) из пакета sklearn перед TF-IDF преобразованием, если</p>"
   ]
  },
  {
   "cell_type": "code",
   "execution_count": null,
   "metadata": {
    "collapsed": true
   },
   "outputs": [],
   "source": [
    "n_features = np.logspace(1, 5, 5, base=10) # количество признаков\n",
    "non_negative=True"
   ]
  },
  {
   "cell_type": "markdown",
   "metadata": {},
   "source": [
    "<p>В этом задании можно воспользоваться GridSearchCV</p>"
   ]
  },
  {
   "cell_type": "markdown",
   "metadata": {
    "collapsed": true
   },
   "source": [
    "# Задача 5. (опционально)\n",
    "__Простой прототип (+ 2 балла к сумме по всем ДЗ)__\n",
    "\n",
    "Напишите функцию, которая берет на вход произвольную строку и возвращает для нее предсказание для вашей задачи. Придумайте по 3 примера строк для положительного и отрицательного класса, сделайте для них предсказание. Совпадают ли ваши метки и предсказания классификатора? Оцените (любым способом), насколько придуманные вами тексты похожи на объекты датасета, с которым вы работали.\n"
   ]
  },
  {
   "cell_type": "code",
   "execution_count": null,
   "metadata": {
    "collapsed": true
   },
   "outputs": [],
   "source": [
    "def predict_class_for_text(s):\n",
    "    pass"
   ]
  },
  {
   "cell_type": "code",
   "execution_count": null,
   "metadata": {
    "collapsed": true
   },
   "outputs": [],
   "source": []
  },
  {
   "cell_type": "code",
   "execution_count": null,
   "metadata": {
    "collapsed": true
   },
   "outputs": [],
   "source": []
  }
 ],
 "metadata": {
  "anaconda-cloud": {},
  "kernelspec": {
   "display_name": "Python [conda root]",
   "language": "python",
   "name": "conda-root-py"
  },
  "language_info": {
   "codemirror_mode": {
    "name": "ipython",
    "version": 3
   },
   "file_extension": ".py",
   "mimetype": "text/x-python",
   "name": "python",
   "nbconvert_exporter": "python",
   "pygments_lexer": "ipython3",
   "version": "3.5.2"
  },
  "nav_menu": {},
  "toc": {
   "navigate_menu": true,
   "number_sections": false,
   "sideBar": true,
   "threshold": 6,
   "toc_cell": false,
   "toc_section_display": "block",
   "toc_window_display": true
  }
 },
 "nbformat": 4,
 "nbformat_minor": 2
}
